{
 "cells": [
  {
   "cell_type": "code",
   "execution_count": 70,
   "metadata": {},
   "outputs": [],
   "source": [
    "import pandas as pd\n",
    "import numpy as np\n",
    "import time\n",
    "import math\n",
    "from python_pkg import python_udf as udf"
   ]
  },
  {
   "cell_type": "code",
   "execution_count": 2,
   "metadata": {},
   "outputs": [],
   "source": [
    "#import the data\n",
    "df = pd.read_csv('C:/Users/Joe/Projects/fantasy_football/playground/df.csv')"
   ]
  },
  {
   "cell_type": "code",
   "execution_count": 3,
   "metadata": {},
   "outputs": [
    {
     "data": {
      "text/html": [
       "<div>\n",
       "<style scoped>\n",
       "    .dataframe tbody tr th:only-of-type {\n",
       "        vertical-align: middle;\n",
       "    }\n",
       "\n",
       "    .dataframe tbody tr th {\n",
       "        vertical-align: top;\n",
       "    }\n",
       "\n",
       "    .dataframe thead th {\n",
       "        text-align: right;\n",
       "    }\n",
       "</style>\n",
       "<table border=\"1\" class=\"dataframe\">\n",
       "  <thead>\n",
       "    <tr style=\"text-align: right;\">\n",
       "      <th></th>\n",
       "      <th>pk</th>\n",
       "      <th>gid</th>\n",
       "      <th>seas</th>\n",
       "      <th>wk</th>\n",
       "      <th>player</th>\n",
       "      <th>fname</th>\n",
       "      <th>lname</th>\n",
       "      <th>full_name</th>\n",
       "      <th>team</th>\n",
       "      <th>pos1</th>\n",
       "      <th>...</th>\n",
       "      <th>humd</th>\n",
       "      <th>ou</th>\n",
       "      <th>sprv</th>\n",
       "      <th>ptsv</th>\n",
       "      <th>ptsh</th>\n",
       "      <th>udog</th>\n",
       "      <th>gen_cond</th>\n",
       "      <th>f_pts</th>\n",
       "      <th>udog_binary</th>\n",
       "      <th>def_team</th>\n",
       "    </tr>\n",
       "  </thead>\n",
       "  <tbody>\n",
       "    <tr>\n",
       "      <th>0</th>\n",
       "      <td>3999&amp;AA-0025</td>\n",
       "      <td>3999</td>\n",
       "      <td>2015</td>\n",
       "      <td>1</td>\n",
       "      <td>AA-0025</td>\n",
       "      <td>Ameer</td>\n",
       "      <td>Abdullah</td>\n",
       "      <td>Ameer Abdullah</td>\n",
       "      <td>DET</td>\n",
       "      <td>RB</td>\n",
       "      <td>...</td>\n",
       "      <td>47.0</td>\n",
       "      <td>46.0</td>\n",
       "      <td>3.0</td>\n",
       "      <td>28</td>\n",
       "      <td>33</td>\n",
       "      <td>DET</td>\n",
       "      <td>fair_cond</td>\n",
       "      <td>18.400000</td>\n",
       "      <td>True</td>\n",
       "      <td>SD</td>\n",
       "    </tr>\n",
       "    <tr>\n",
       "      <th>1</th>\n",
       "      <td>4010&amp;AA-0025</td>\n",
       "      <td>4010</td>\n",
       "      <td>2015</td>\n",
       "      <td>2</td>\n",
       "      <td>AA-0025</td>\n",
       "      <td>Ameer</td>\n",
       "      <td>Abdullah</td>\n",
       "      <td>Ameer Abdullah</td>\n",
       "      <td>DET</td>\n",
       "      <td>RB</td>\n",
       "      <td>...</td>\n",
       "      <td>NaN</td>\n",
       "      <td>43.5</td>\n",
       "      <td>2.0</td>\n",
       "      <td>16</td>\n",
       "      <td>26</td>\n",
       "      <td>DET</td>\n",
       "      <td>fair_cond</td>\n",
       "      <td>4.200000</td>\n",
       "      <td>True</td>\n",
       "      <td>MIN</td>\n",
       "    </tr>\n",
       "    <tr>\n",
       "      <th>2</th>\n",
       "      <td>4036&amp;AA-0025</td>\n",
       "      <td>4036</td>\n",
       "      <td>2015</td>\n",
       "      <td>3</td>\n",
       "      <td>AA-0025</td>\n",
       "      <td>Ameer</td>\n",
       "      <td>Abdullah</td>\n",
       "      <td>Ameer Abdullah</td>\n",
       "      <td>DET</td>\n",
       "      <td>RB</td>\n",
       "      <td>...</td>\n",
       "      <td>45.0</td>\n",
       "      <td>44.5</td>\n",
       "      <td>-3.0</td>\n",
       "      <td>24</td>\n",
       "      <td>12</td>\n",
       "      <td>DET</td>\n",
       "      <td>indoor_cond</td>\n",
       "      <td>10.200000</td>\n",
       "      <td>True</td>\n",
       "      <td>DEN</td>\n",
       "    </tr>\n",
       "    <tr>\n",
       "      <th>3</th>\n",
       "      <td>4052&amp;AA-0025</td>\n",
       "      <td>4052</td>\n",
       "      <td>2015</td>\n",
       "      <td>4</td>\n",
       "      <td>AA-0025</td>\n",
       "      <td>Ameer</td>\n",
       "      <td>Abdullah</td>\n",
       "      <td>Ameer Abdullah</td>\n",
       "      <td>DET</td>\n",
       "      <td>RB</td>\n",
       "      <td>...</td>\n",
       "      <td>41.0</td>\n",
       "      <td>43.0</td>\n",
       "      <td>10.0</td>\n",
       "      <td>10</td>\n",
       "      <td>13</td>\n",
       "      <td>DET</td>\n",
       "      <td>fair_cond</td>\n",
       "      <td>5.942857</td>\n",
       "      <td>True</td>\n",
       "      <td>SEA</td>\n",
       "    </tr>\n",
       "    <tr>\n",
       "      <th>4</th>\n",
       "      <td>4062&amp;AA-0025</td>\n",
       "      <td>4062</td>\n",
       "      <td>2015</td>\n",
       "      <td>5</td>\n",
       "      <td>AA-0025</td>\n",
       "      <td>Ameer</td>\n",
       "      <td>Abdullah</td>\n",
       "      <td>Ameer Abdullah</td>\n",
       "      <td>DET</td>\n",
       "      <td>RB</td>\n",
       "      <td>...</td>\n",
       "      <td>45.0</td>\n",
       "      <td>44.5</td>\n",
       "      <td>-3.0</td>\n",
       "      <td>42</td>\n",
       "      <td>17</td>\n",
       "      <td>DET</td>\n",
       "      <td>indoor_cond</td>\n",
       "      <td>1.671429</td>\n",
       "      <td>True</td>\n",
       "      <td>ARI</td>\n",
       "    </tr>\n",
       "  </tbody>\n",
       "</table>\n",
       "<p>5 rows × 172 columns</p>\n",
       "</div>"
      ],
      "text/plain": [
       "             pk   gid  seas  wk   player  fname     lname       full_name  \\\n",
       "0  3999&AA-0025  3999  2015   1  AA-0025  Ameer  Abdullah  Ameer Abdullah   \n",
       "1  4010&AA-0025  4010  2015   2  AA-0025  Ameer  Abdullah  Ameer Abdullah   \n",
       "2  4036&AA-0025  4036  2015   3  AA-0025  Ameer  Abdullah  Ameer Abdullah   \n",
       "3  4052&AA-0025  4052  2015   4  AA-0025  Ameer  Abdullah  Ameer Abdullah   \n",
       "4  4062&AA-0025  4062  2015   5  AA-0025  Ameer  Abdullah  Ameer Abdullah   \n",
       "\n",
       "  team pos1    ...     humd    ou  sprv  ptsv  ptsh  udog     gen_cond  \\\n",
       "0  DET   RB    ...     47.0  46.0   3.0    28    33   DET    fair_cond   \n",
       "1  DET   RB    ...      NaN  43.5   2.0    16    26   DET    fair_cond   \n",
       "2  DET   RB    ...     45.0  44.5  -3.0    24    12   DET  indoor_cond   \n",
       "3  DET   RB    ...     41.0  43.0  10.0    10    13   DET    fair_cond   \n",
       "4  DET   RB    ...     45.0  44.5  -3.0    42    17   DET  indoor_cond   \n",
       "\n",
       "       f_pts  udog_binary  def_team  \n",
       "0  18.400000         True        SD  \n",
       "1   4.200000         True       MIN  \n",
       "2  10.200000         True       DEN  \n",
       "3   5.942857         True       SEA  \n",
       "4   1.671429         True       ARI  \n",
       "\n",
       "[5 rows x 172 columns]"
      ]
     },
     "execution_count": 3,
     "metadata": {},
     "output_type": "execute_result"
    }
   ],
   "source": [
    "df.head()"
   ]
  },
  {
   "cell_type": "code",
   "execution_count": 37,
   "metadata": {},
   "outputs": [],
   "source": [
    "#RB only\n",
    "df_rb = df[df['pos1']=='RB']"
   ]
  },
  {
   "cell_type": "code",
   "execution_count": 68,
   "metadata": {},
   "outputs": [],
   "source": [
    "#recent_ra grouped\n",
    "df_grouped_total = df_rb.groupby(by=['team', 'seas', 'wk', 'pk'], as_index=True).agg({'recent_ra': 'sum'})"
   ]
  },
  {
   "cell_type": "code",
   "execution_count": 74,
   "metadata": {
    "scrolled": true
   },
   "outputs": [],
   "source": [
    "#calc the percent of group total\n",
    "start = time.time()\n",
    "df_pct = df_grouped_total.groupby(level=[0,1,2]).apply(lambda x: x/x.sum())\n",
    "end = time.time()"
   ]
  },
  {
   "cell_type": "code",
   "execution_count": 75,
   "metadata": {},
   "outputs": [
    {
     "name": "stdout",
     "output_type": "stream",
     "text": [
      "Calc time: 19.00\n"
     ]
    }
   ],
   "source": [
    "print('Calc time: {:.2f}'.format(end-start))"
   ]
  },
  {
   "cell_type": "code",
   "execution_count": 117,
   "metadata": {},
   "outputs": [
    {
     "data": {
      "text/html": [
       "<div>\n",
       "<style scoped>\n",
       "    .dataframe tbody tr th:only-of-type {\n",
       "        vertical-align: middle;\n",
       "    }\n",
       "\n",
       "    .dataframe tbody tr th {\n",
       "        vertical-align: top;\n",
       "    }\n",
       "\n",
       "    .dataframe thead th {\n",
       "        text-align: right;\n",
       "    }\n",
       "</style>\n",
       "<table border=\"1\" class=\"dataframe\">\n",
       "  <thead>\n",
       "    <tr style=\"text-align: right;\">\n",
       "      <th></th>\n",
       "      <th>team</th>\n",
       "      <th>seas</th>\n",
       "      <th>wk</th>\n",
       "      <th>pk</th>\n",
       "      <th>recent_ra</th>\n",
       "    </tr>\n",
       "  </thead>\n",
       "  <tbody>\n",
       "    <tr>\n",
       "      <th>0</th>\n",
       "      <td>ARI</td>\n",
       "      <td>2000</td>\n",
       "      <td>1</td>\n",
       "      <td>10&amp;JM-0700</td>\n",
       "      <td>NaN</td>\n",
       "    </tr>\n",
       "    <tr>\n",
       "      <th>1</th>\n",
       "      <td>ARI</td>\n",
       "      <td>2000</td>\n",
       "      <td>1</td>\n",
       "      <td>10&amp;MP-1300</td>\n",
       "      <td>NaN</td>\n",
       "    </tr>\n",
       "    <tr>\n",
       "      <th>2</th>\n",
       "      <td>ARI</td>\n",
       "      <td>2000</td>\n",
       "      <td>1</td>\n",
       "      <td>10&amp;TJ-2700</td>\n",
       "      <td>NaN</td>\n",
       "    </tr>\n",
       "    <tr>\n",
       "      <th>3</th>\n",
       "      <td>ARI</td>\n",
       "      <td>2000</td>\n",
       "      <td>2</td>\n",
       "      <td>29&amp;MP-1300</td>\n",
       "      <td>0.25</td>\n",
       "    </tr>\n",
       "    <tr>\n",
       "      <th>4</th>\n",
       "      <td>ARI</td>\n",
       "      <td>2000</td>\n",
       "      <td>2</td>\n",
       "      <td>29&amp;TJ-2700</td>\n",
       "      <td>0.75</td>\n",
       "    </tr>\n",
       "  </tbody>\n",
       "</table>\n",
       "</div>"
      ],
      "text/plain": [
       "  team  seas  wk          pk  recent_ra\n",
       "0  ARI  2000   1  10&JM-0700        NaN\n",
       "1  ARI  2000   1  10&MP-1300        NaN\n",
       "2  ARI  2000   1  10&TJ-2700        NaN\n",
       "3  ARI  2000   2  29&MP-1300       0.25\n",
       "4  ARI  2000   2  29&TJ-2700       0.75"
      ]
     },
     "execution_count": 117,
     "metadata": {},
     "output_type": "execute_result"
    }
   ],
   "source": [
    "df_pct_full = df_pct.reset_index()\n",
    "df_pct_full.head()"
   ]
  },
  {
   "cell_type": "code",
   "execution_count": 140,
   "metadata": {},
   "outputs": [
    {
     "data": {
      "text/plain": [
       "(9092, 4)"
      ]
     },
     "execution_count": 140,
     "metadata": {},
     "output_type": "execute_result"
    }
   ],
   "source": [
    "max_pct = df_pct_full.groupby(by=['team', 'seas', 'wk']).agg({'recent_ra': 'max'}).reset_index()\n",
    "max_pct.shape"
   ]
  },
  {
   "cell_type": "code",
   "execution_count": 142,
   "metadata": {},
   "outputs": [],
   "source": [
    "rb_committee = pd.Series(np.where(max_pct['recent_ra'] < 0.60, 1, 0), name='committee')"
   ]
  },
  {
   "cell_type": "code",
   "execution_count": 151,
   "metadata": {},
   "outputs": [],
   "source": [
    "rb_pct_splits = [-np.inf, 0.33, 0.67, 0.9, np.inf]\n",
    "rb_split_labels = ['spell', 'committee', 'primary', 'star']\n",
    "rb_category = pd.cut(df_pct_full['recent_ra'], bins=rb_pct_splits, right=False, labels=rb_split_labels).rename('rb_type')"
   ]
  },
  {
   "cell_type": "code",
   "execution_count": 152,
   "metadata": {},
   "outputs": [],
   "source": [
    "category_result = pd.concat([df_pct_full, rb_category], axis=1)"
   ]
  },
  {
   "cell_type": "code",
   "execution_count": 155,
   "metadata": {},
   "outputs": [],
   "source": [
    "def rb_committee(rb_data, pos_grid, bin_threshold=None, cat_splits=None, cat_labels=None, binary=True):\n",
    "    \"\"\"Create feature to determine if RB is part of a commitee\\n\n",
    "            Returns a dataframe to merge to original data\"\"\"\n",
    "    #make sure data types are correct\n",
    "    assert isinstance(pos_grid, dict)\n",
    "    assert isinstance(binary, bool)\n",
    "    \n",
    "    #get the column to calculate % of work from\n",
    "    stat_col = pos_grid['RB']\n",
    "    \n",
    "    #group to get the total stat_col for the given grouping\n",
    "    df_grouped_total = rb_data.groupby(by=['team', 'seas', 'wk', 'pk'], as_index=True).agg({stat_col: 'sum'})\n",
    "    #calc the % of total for each player\n",
    "    df_pct = df_grouped_total.groupby(level=[0,1,2]).apply(lambda x: x/x.sum())\n",
    "    #reset index for next round of groupby\n",
    "    df_pct_full = df_pct.reset_index()\n",
    "    \n",
    "    #calc the maximum percent for the group; used to determine if player is star back or not\n",
    "    max_pct = df_pct_full.groupby(by=['team', 'seas', 'wk']).agg({stat_col: 'max'}).reset_index()\n",
    "    #binary feature if RB is part of a committee or not\n",
    "    rb_binary = pd.Series(np.where(max_pct[stat_col] < bin_threshold, 1, 0), name='committee')\n",
    "    \n",
    "    #categorical for type of RB workload (star, committee, spell)\n",
    "    rb_category = pd.cut(df_pct_full[stat_col], bins=cat_splits, right=False, labels=cat_labels).rename('rb_type')\n",
    "    \n",
    "    #merge columns to rb_data; to be used for merging to normal dataframe\n",
    "    binary_result = pd.concat([max_pct, rb_binary], axis=1)\n",
    "    category_result = pd.concat([df_pct_full, rb_category], axis=1)\n",
    "    \n",
    "    #return the binary or categorical\n",
    "    if binary == True:\n",
    "        return binary_result\n",
    "    else:\n",
    "        return category_result"
   ]
  },
  {
   "cell_type": "code",
   "execution_count": 157,
   "metadata": {},
   "outputs": [],
   "source": [
    "depth_chart_grid = {'QB': 'recent_pa',\n",
    "                        'RB': 'recent_ra',\n",
    "                        'WR': 'recent_trg',\n",
    "                        'TE': 'recent_trg'}"
   ]
  },
  {
   "cell_type": "code",
   "execution_count": 167,
   "metadata": {},
   "outputs": [],
   "source": [
    "output = rb_committee(df[df['pos1']=='RB'], depth_chart_grid, bin_threshold=0.6,\n",
    "                         cat_splits=rb_pct_splits, cat_labels=rb_split_labels, binary=False)"
   ]
  },
  {
   "cell_type": "code",
   "execution_count": null,
   "metadata": {},
   "outputs": [],
   "source": [
    "output"
   ]
  }
 ],
 "metadata": {
  "kernelspec": {
   "display_name": "Python 3",
   "language": "python",
   "name": "python3"
  },
  "language_info": {
   "codemirror_mode": {
    "name": "ipython",
    "version": 3
   },
   "file_extension": ".py",
   "mimetype": "text/x-python",
   "name": "python",
   "nbconvert_exporter": "python",
   "pygments_lexer": "ipython3",
   "version": "3.7.1"
  }
 },
 "nbformat": 4,
 "nbformat_minor": 2
}
