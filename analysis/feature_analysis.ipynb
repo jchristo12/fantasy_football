{
 "cells": [
  {
   "cell_type": "code",
   "execution_count": 1,
   "metadata": {},
   "outputs": [],
   "source": [
    "import pandas as pd\n",
    "import numpy as np\n",
    "import os"
   ]
  },
  {
   "cell_type": "markdown",
   "metadata": {},
   "source": [
    "### Read in the data"
   ]
  },
  {
   "cell_type": "code",
   "execution_count": 2,
   "metadata": {},
   "outputs": [],
   "source": [
    "df = pd.read_csv('https://raw.githubusercontent.com/jchristo12/fantasy_football/master/data/predictor/player_offense.csv')"
   ]
  },
  {
   "cell_type": "code",
   "execution_count": 3,
   "metadata": {},
   "outputs": [],
   "source": [
    "#convert column types to appropriate data types\n",
    "df = df.astype({'seas': 'category',\n",
    "          'wk': 'category',\n",
    "          'team': 'category',\n",
    "          'pos1': 'category',\n",
    "          'dv': 'category',\n",
    "          'seas.1': 'category'})"
   ]
  },
  {
   "cell_type": "code",
   "execution_count": 4,
   "metadata": {},
   "outputs": [],
   "source": [
    "#convert dob to datetime\n",
    "#df['dob'] = pd.to_datetime(df['dob'])"
   ]
  },
  {
   "cell_type": "code",
   "execution_count": 5,
   "metadata": {},
   "outputs": [],
   "source": [
    "#rename seas.1 columns\n",
    "df.rename(columns={'seas.1': 'exp'}, inplace=True)"
   ]
  },
  {
   "cell_type": "markdown",
   "metadata": {},
   "source": [
    "### Cumulative Stats"
   ]
  },
  {
   "cell_type": "code",
   "execution_count": 6,
   "metadata": {},
   "outputs": [],
   "source": [
    "df_sorted = df.sort_values(by=['player', 'gid'], ascending=True)"
   ]
  },
  {
   "cell_type": "code",
   "execution_count": 7,
   "metadata": {},
   "outputs": [
    {
     "data": {
      "text/html": [
       "<div>\n",
       "<style scoped>\n",
       "    .dataframe tbody tr th:only-of-type {\n",
       "        vertical-align: middle;\n",
       "    }\n",
       "\n",
       "    .dataframe tbody tr th {\n",
       "        vertical-align: top;\n",
       "    }\n",
       "\n",
       "    .dataframe thead th {\n",
       "        text-align: right;\n",
       "    }\n",
       "</style>\n",
       "<table border=\"1\" class=\"dataframe\">\n",
       "  <thead>\n",
       "    <tr style=\"text-align: right;\">\n",
       "      <th></th>\n",
       "      <th>pa</th>\n",
       "      <th>pc</th>\n",
       "      <th>py</th>\n",
       "      <th>ints</th>\n",
       "      <th>tdp</th>\n",
       "      <th>ra</th>\n",
       "      <th>sra</th>\n",
       "      <th>ry</th>\n",
       "      <th>tdr</th>\n",
       "      <th>fuml</th>\n",
       "      <th>trg</th>\n",
       "      <th>rec</th>\n",
       "      <th>recy</th>\n",
       "      <th>tdrec</th>\n",
       "    </tr>\n",
       "  </thead>\n",
       "  <tbody>\n",
       "    <tr>\n",
       "      <th>74708</th>\n",
       "      <td>0</td>\n",
       "      <td>0</td>\n",
       "      <td>0</td>\n",
       "      <td>0</td>\n",
       "      <td>0</td>\n",
       "      <td>7</td>\n",
       "      <td>4</td>\n",
       "      <td>50</td>\n",
       "      <td>1</td>\n",
       "      <td>0</td>\n",
       "      <td>4</td>\n",
       "      <td>4</td>\n",
       "      <td>44</td>\n",
       "      <td>0</td>\n",
       "    </tr>\n",
       "    <tr>\n",
       "      <th>74935</th>\n",
       "      <td>0</td>\n",
       "      <td>0</td>\n",
       "      <td>0</td>\n",
       "      <td>0</td>\n",
       "      <td>0</td>\n",
       "      <td>13</td>\n",
       "      <td>7</td>\n",
       "      <td>59</td>\n",
       "      <td>1</td>\n",
       "      <td>0</td>\n",
       "      <td>5</td>\n",
       "      <td>5</td>\n",
       "      <td>53</td>\n",
       "      <td>0</td>\n",
       "    </tr>\n",
       "    <tr>\n",
       "      <th>75490</th>\n",
       "      <td>0</td>\n",
       "      <td>0</td>\n",
       "      <td>0</td>\n",
       "      <td>0</td>\n",
       "      <td>0</td>\n",
       "      <td>21</td>\n",
       "      <td>12</td>\n",
       "      <td>82</td>\n",
       "      <td>1</td>\n",
       "      <td>0</td>\n",
       "      <td>10</td>\n",
       "      <td>7</td>\n",
       "      <td>72</td>\n",
       "      <td>1</td>\n",
       "    </tr>\n",
       "    <tr>\n",
       "      <th>75814</th>\n",
       "      <td>0</td>\n",
       "      <td>0</td>\n",
       "      <td>0</td>\n",
       "      <td>0</td>\n",
       "      <td>0</td>\n",
       "      <td>34</td>\n",
       "      <td>17</td>\n",
       "      <td>115</td>\n",
       "      <td>1</td>\n",
       "      <td>0</td>\n",
       "      <td>15</td>\n",
       "      <td>9</td>\n",
       "      <td>83</td>\n",
       "      <td>1</td>\n",
       "    </tr>\n",
       "    <tr>\n",
       "      <th>76021</th>\n",
       "      <td>0</td>\n",
       "      <td>0</td>\n",
       "      <td>0</td>\n",
       "      <td>0</td>\n",
       "      <td>0</td>\n",
       "      <td>40</td>\n",
       "      <td>20</td>\n",
       "      <td>131</td>\n",
       "      <td>1</td>\n",
       "      <td>1</td>\n",
       "      <td>17</td>\n",
       "      <td>10</td>\n",
       "      <td>92</td>\n",
       "      <td>1</td>\n",
       "    </tr>\n",
       "  </tbody>\n",
       "</table>\n",
       "</div>"
      ],
      "text/plain": [
       "       pa  pc  py  ints  tdp  ra  sra   ry  tdr  fuml  trg  rec  recy  tdrec\n",
       "74708   0   0   0     0    0   7    4   50    1     0    4    4    44      0\n",
       "74935   0   0   0     0    0  13    7   59    1     0    5    5    53      0\n",
       "75490   0   0   0     0    0  21   12   82    1     0   10    7    72      1\n",
       "75814   0   0   0     0    0  34   17  115    1     0   15    9    83      1\n",
       "76021   0   0   0     0    0  40   20  131    1     1   17   10    92      1"
      ]
     },
     "execution_count": 7,
     "metadata": {},
     "output_type": "execute_result"
    }
   ],
   "source": [
    "df_sorted.loc[:, 'pa':'tdrec'].cumsum().head()"
   ]
  },
  {
   "cell_type": "code",
   "execution_count": 8,
   "metadata": {},
   "outputs": [],
   "source": [
    "#initialize a list to hold all cumulative stats\n",
    "cusum_stats = []"
   ]
  },
  {
   "cell_type": "code",
   "execution_count": 9,
   "metadata": {},
   "outputs": [],
   "source": [
    "#loop through all unique players and calculate cumulative stats\n",
    "for i in df_sorted['player'].unique():\n",
    "    x = df_sorted[df_sorted['player'] == i].loc[:, 'pa':'tdrec'].cumsum()\n",
    "    cusum_stats.append(x)"
   ]
  },
  {
   "cell_type": "code",
   "execution_count": 10,
   "metadata": {},
   "outputs": [
    {
     "data": {
      "text/plain": [
       "(94759, 14)"
      ]
     },
     "execution_count": 10,
     "metadata": {},
     "output_type": "execute_result"
    }
   ],
   "source": [
    "#check if cusum stats is same length as original dataframe\n",
    "cusum_df = pd.concat(cusum_stats, axis=0)\n",
    "cusum_df.shape"
   ]
  },
  {
   "cell_type": "markdown",
   "metadata": {},
   "source": [
    "Proof that this method is calculating correctly (lengths match)"
   ]
  },
  {
   "cell_type": "code",
   "execution_count": 11,
   "metadata": {},
   "outputs": [],
   "source": [
    "#rename columns to add a cusum prefix\n",
    "cusum_df = cusum_df.add_prefix('cusum_')"
   ]
  },
  {
   "cell_type": "code",
   "execution_count": 12,
   "metadata": {},
   "outputs": [],
   "source": [
    "#add the cusum data to the sorted data frame\n",
    "df_sorted_cusum = pd.concat([df_sorted, cusum_df], axis=1)"
   ]
  },
  {
   "cell_type": "markdown",
   "metadata": {},
   "source": [
    "#### 4-game rolling"
   ]
  },
  {
   "cell_type": "code",
   "execution_count": 47,
   "metadata": {},
   "outputs": [],
   "source": [
    "#initialize a list to hold each players rolling sum\n",
    "recent_stats = []"
   ]
  },
  {
   "cell_type": "code",
   "execution_count": 50,
   "metadata": {},
   "outputs": [],
   "source": [
    "#loop thru each unique player calculating rolling sum\n",
    "for i in df_sorted['player'].unique():\n",
    "    x = df_sorted[df_sorted['player'] == i].loc[:, 'pa':'tdrec'].rolling(window=4, min_periods=1).sum()\n",
    "    recent_stats.append(x)"
   ]
  },
  {
   "cell_type": "code",
   "execution_count": 52,
   "metadata": {},
   "outputs": [
    {
     "data": {
      "text/plain": [
       "(94827, 14)"
      ]
     },
     "execution_count": 52,
     "metadata": {},
     "output_type": "execute_result"
    }
   ],
   "source": [
    "recent_df = pd.concat(recent_stats, axis=0)\n",
    "recent_df.shape"
   ]
  },
  {
   "cell_type": "markdown",
   "metadata": {},
   "source": [
    "### Add other features"
   ]
  },
  {
   "cell_type": "code",
   "execution_count": 188,
   "metadata": {},
   "outputs": [
    {
     "data": {
      "text/plain": [
       "Index(['pk', 'gid', 'seas', 'wk', 'player', 'team', 'pos1', 'pa', 'pc', 'py',\n",
       "       'ints', 'tdp', 'ra', 'sra', 'ry', 'tdr', 'fuml', 'trg', 'rec', 'recy',\n",
       "       'tdrec', 'exp', 'height', 'weight', 'dob', 'dv', 'forty', 'bench',\n",
       "       'vertical', 'broad', 'shuttle', 'cone', 'arm', 'hand', 'cusum_pa',\n",
       "       'cusum_pc', 'cusum_py', 'cusum_ints', 'cusum_tdp', 'cusum_ra',\n",
       "       'cusum_sra', 'cusum_ry', 'cusum_tdr', 'cusum_fuml', 'cusum_trg',\n",
       "       'cusum_rec', 'cusum_recy', 'cusum_tdrec', 'age', 'career_comp_pct'],\n",
       "      dtype='object')"
      ]
     },
     "execution_count": 188,
     "metadata": {},
     "output_type": "execute_result"
    }
   ],
   "source": [
    "df_sorted_cusum.columns"
   ]
  },
  {
   "cell_type": "markdown",
   "metadata": {},
   "source": [
    "#### Age"
   ]
  },
  {
   "cell_type": "code",
   "execution_count": 176,
   "metadata": {},
   "outputs": [],
   "source": [
    "#strip out the year from DOB\n",
    "dob_year = df_sorted_cusum['dob'].apply(lambda x: int(str(x[-4:])))"
   ]
  },
  {
   "cell_type": "code",
   "execution_count": 181,
   "metadata": {},
   "outputs": [],
   "source": [
    "#add age to dataframe\n",
    "df_sorted_cusum['age'] = df_sorted_cusum['seas'].astype(int) - dob_year"
   ]
  },
  {
   "cell_type": "markdown",
   "metadata": {},
   "source": [
    "#### Passing summaries"
   ]
  },
  {
   "cell_type": "code",
   "execution_count": 187,
   "metadata": {},
   "outputs": [],
   "source": [
    "#Passing completion\n",
    "df_sorted_cusum['career_comp_pct'] = df_sorted_cusum['cusum_pc'] / df_sorted_cusum['cusum_pa']"
   ]
  },
  {
   "cell_type": "code",
   "execution_count": 190,
   "metadata": {},
   "outputs": [],
   "source": [
    "#touchdown to interception ratio\n",
    "df_sorted_cusum['career_td_to_int'] = df_sorted_cusum['cusum_tdp'] / df_sorted_cusum['cusum_ints']"
   ]
  },
  {
   "cell_type": "code",
   "execution_count": 191,
   "metadata": {},
   "outputs": [],
   "source": [
    "#Passing yards per completion\n",
    "df_sorted_cusum['career_yds_per_comp'] = df_sorted_cusum['cusum_py'] / df_sorted_cusum['cusum_pc']"
   ]
  },
  {
   "cell_type": "markdown",
   "metadata": {},
   "source": [
    "#### Running summaries"
   ]
  },
  {
   "cell_type": "code",
   "execution_count": 192,
   "metadata": {},
   "outputs": [],
   "source": [
    "#Yards per rush\n",
    "df_sorted_cusum['career_ryds_per_carry'] = df_sorted_cusum['cusum_ry'] / df_sorted_cusum['cusum_ra']"
   ]
  },
  {
   "cell_type": "code",
   "execution_count": 195,
   "metadata": {},
   "outputs": [],
   "source": [
    "#Carries to touchdown ratio\n",
    "df_sorted_cusum['career_carry_to_td'] = df_sorted_cusum['cusum_ra'] / df_sorted_cusum['tdr']"
   ]
  },
  {
   "cell_type": "code",
   "execution_count": 196,
   "metadata": {},
   "outputs": [],
   "source": [
    "#Carries to fumbles lost ratio\n",
    "df_sorted_cusum['career_carry_to_fuml'] = df_sorted_cusum['cusum_ra'] / df_sorted_cusum['cusum_fuml']"
   ]
  },
  {
   "cell_type": "markdown",
   "metadata": {},
   "source": [
    "## Game features"
   ]
  },
  {
   "cell_type": "markdown",
   "metadata": {},
   "source": [
    "#### Read in data"
   ]
  },
  {
   "cell_type": "code",
   "execution_count": 198,
   "metadata": {},
   "outputs": [],
   "source": [
    "game = pd.read_csv('https://raw.githubusercontent.com/jchristo12/fantasy_football/master/data/predictor/game.csv')"
   ]
  },
  {
   "cell_type": "code",
   "execution_count": 202,
   "metadata": {},
   "outputs": [],
   "source": [
    "#change the data types to the correct format\n",
    "game = game.astype({'v': 'category',\n",
    "                   'h': 'category',\n",
    "                   'day': 'category',\n",
    "                   'cond': 'category',\n",
    "                   'stad': 'category',\n",
    "                   'wdir': 'category',\n",
    "                   'surf': 'category'})"
   ]
  },
  {
   "cell_type": "markdown",
   "metadata": {},
   "source": [
    "### Feature creation"
   ]
  },
  {
   "cell_type": "code",
   "execution_count": 212,
   "metadata": {},
   "outputs": [],
   "source": [
    "#add underdog category\n",
    "game['udog'] = pd.Series(np.where(game['sprv'] > 0, game['v'], game['h']))\n",
    "game = game.astype({'udog': 'category'})"
   ]
  },
  {
   "cell_type": "code",
   "execution_count": 214,
   "metadata": {},
   "outputs": [],
   "source": [
    "#combine game and offensive player data\n",
    "test = df_sorted_cusum.join(game, on='gid', how='left', lsuffix='_poff', rsuffix='_game')"
   ]
  },
  {
   "cell_type": "code",
   "execution_count": 216,
   "metadata": {},
   "outputs": [
    {
     "data": {
      "text/html": [
       "<div>\n",
       "<style scoped>\n",
       "    .dataframe tbody tr th:only-of-type {\n",
       "        vertical-align: middle;\n",
       "    }\n",
       "\n",
       "    .dataframe tbody tr th {\n",
       "        vertical-align: top;\n",
       "    }\n",
       "\n",
       "    .dataframe thead th {\n",
       "        text-align: right;\n",
       "    }\n",
       "</style>\n",
       "<table border=\"1\" class=\"dataframe\">\n",
       "  <thead>\n",
       "    <tr style=\"text-align: right;\">\n",
       "      <th></th>\n",
       "      <th>pk</th>\n",
       "      <th>gid_poff</th>\n",
       "      <th>seas</th>\n",
       "      <th>wk</th>\n",
       "      <th>player</th>\n",
       "      <th>team</th>\n",
       "      <th>pos1</th>\n",
       "      <th>pa</th>\n",
       "      <th>pc</th>\n",
       "      <th>py</th>\n",
       "      <th>...</th>\n",
       "      <th>stad</th>\n",
       "      <th>temp</th>\n",
       "      <th>wdir</th>\n",
       "      <th>surf</th>\n",
       "      <th>humd</th>\n",
       "      <th>ou</th>\n",
       "      <th>sprv</th>\n",
       "      <th>ptsv</th>\n",
       "      <th>ptsh</th>\n",
       "      <th>udog</th>\n",
       "    </tr>\n",
       "  </thead>\n",
       "  <tbody>\n",
       "    <tr>\n",
       "      <th>74708</th>\n",
       "      <td>3999&amp;AA-0025</td>\n",
       "      <td>3999</td>\n",
       "      <td>2015</td>\n",
       "      <td>1</td>\n",
       "      <td>AA-0025</td>\n",
       "      <td>DET</td>\n",
       "      <td>RB</td>\n",
       "      <td>0</td>\n",
       "      <td>0</td>\n",
       "      <td>0</td>\n",
       "      <td>...</td>\n",
       "      <td>Raymond James Stadium</td>\n",
       "      <td>84.0</td>\n",
       "      <td>NNE</td>\n",
       "      <td>Grass</td>\n",
       "      <td>66.0</td>\n",
       "      <td>41.0</td>\n",
       "      <td>3.0</td>\n",
       "      <td>42</td>\n",
       "      <td>14</td>\n",
       "      <td>TEN</td>\n",
       "    </tr>\n",
       "    <tr>\n",
       "      <th>74935</th>\n",
       "      <td>4010&amp;AA-0025</td>\n",
       "      <td>4010</td>\n",
       "      <td>2015</td>\n",
       "      <td>2</td>\n",
       "      <td>AA-0025</td>\n",
       "      <td>DET</td>\n",
       "      <td>RB</td>\n",
       "      <td>0</td>\n",
       "      <td>0</td>\n",
       "      <td>0</td>\n",
       "      <td>...</td>\n",
       "      <td>Soldier Field</td>\n",
       "      <td>70.0</td>\n",
       "      <td>S</td>\n",
       "      <td>Grass</td>\n",
       "      <td>47.0</td>\n",
       "      <td>46.0</td>\n",
       "      <td>-2.0</td>\n",
       "      <td>48</td>\n",
       "      <td>23</td>\n",
       "      <td>CHI</td>\n",
       "    </tr>\n",
       "    <tr>\n",
       "      <th>75490</th>\n",
       "      <td>4036&amp;AA-0025</td>\n",
       "      <td>4036</td>\n",
       "      <td>2015</td>\n",
       "      <td>3</td>\n",
       "      <td>AA-0025</td>\n",
       "      <td>DET</td>\n",
       "      <td>RB</td>\n",
       "      <td>0</td>\n",
       "      <td>0</td>\n",
       "      <td>0</td>\n",
       "      <td>...</td>\n",
       "      <td>Lambeau Field</td>\n",
       "      <td>67.0</td>\n",
       "      <td>N</td>\n",
       "      <td>DD GrassMaster</td>\n",
       "      <td>93.0</td>\n",
       "      <td>49.0</td>\n",
       "      <td>6.5</td>\n",
       "      <td>28</td>\n",
       "      <td>38</td>\n",
       "      <td>KC</td>\n",
       "    </tr>\n",
       "    <tr>\n",
       "      <th>75814</th>\n",
       "      <td>4052&amp;AA-0025</td>\n",
       "      <td>4052</td>\n",
       "      <td>2015</td>\n",
       "      <td>4</td>\n",
       "      <td>AA-0025</td>\n",
       "      <td>DET</td>\n",
       "      <td>RB</td>\n",
       "      <td>0</td>\n",
       "      <td>0</td>\n",
       "      <td>0</td>\n",
       "      <td>...</td>\n",
       "      <td>NRG Stadium</td>\n",
       "      <td>NaN</td>\n",
       "      <td>NaN</td>\n",
       "      <td>Grass</td>\n",
       "      <td>NaN</td>\n",
       "      <td>46.0</td>\n",
       "      <td>-3.0</td>\n",
       "      <td>27</td>\n",
       "      <td>20</td>\n",
       "      <td>HOU</td>\n",
       "    </tr>\n",
       "    <tr>\n",
       "      <th>76021</th>\n",
       "      <td>4062&amp;AA-0025</td>\n",
       "      <td>4062</td>\n",
       "      <td>2015</td>\n",
       "      <td>5</td>\n",
       "      <td>AA-0025</td>\n",
       "      <td>DET</td>\n",
       "      <td>RB</td>\n",
       "      <td>0</td>\n",
       "      <td>0</td>\n",
       "      <td>0</td>\n",
       "      <td>...</td>\n",
       "      <td>AT&amp;T Stadium</td>\n",
       "      <td>NaN</td>\n",
       "      <td>NaN</td>\n",
       "      <td>AstroTurf</td>\n",
       "      <td>NaN</td>\n",
       "      <td>49.5</td>\n",
       "      <td>-8.5</td>\n",
       "      <td>30</td>\n",
       "      <td>6</td>\n",
       "      <td>DAL</td>\n",
       "    </tr>\n",
       "  </tbody>\n",
       "</table>\n",
       "<p>5 rows × 70 columns</p>\n",
       "</div>"
      ],
      "text/plain": [
       "                 pk  gid_poff  seas wk   player team pos1  pa  pc  py  ...   \\\n",
       "74708  3999&AA-0025      3999  2015  1  AA-0025  DET   RB   0   0   0  ...    \n",
       "74935  4010&AA-0025      4010  2015  2  AA-0025  DET   RB   0   0   0  ...    \n",
       "75490  4036&AA-0025      4036  2015  3  AA-0025  DET   RB   0   0   0  ...    \n",
       "75814  4052&AA-0025      4052  2015  4  AA-0025  DET   RB   0   0   0  ...    \n",
       "76021  4062&AA-0025      4062  2015  5  AA-0025  DET   RB   0   0   0  ...    \n",
       "\n",
       "                        stad  temp  wdir            surf  humd    ou  sprv  \\\n",
       "74708  Raymond James Stadium  84.0   NNE           Grass  66.0  41.0   3.0   \n",
       "74935          Soldier Field  70.0     S           Grass  47.0  46.0  -2.0   \n",
       "75490          Lambeau Field  67.0     N  DD GrassMaster  93.0  49.0   6.5   \n",
       "75814            NRG Stadium   NaN   NaN           Grass   NaN  46.0  -3.0   \n",
       "76021           AT&T Stadium   NaN   NaN       AstroTurf   NaN  49.5  -8.5   \n",
       "\n",
       "       ptsv  ptsh  udog  \n",
       "74708    42    14   TEN  \n",
       "74935    48    23   CHI  \n",
       "75490    28    38    KC  \n",
       "75814    27    20   HOU  \n",
       "76021    30     6   DAL  \n",
       "\n",
       "[5 rows x 70 columns]"
      ]
     },
     "execution_count": 216,
     "metadata": {},
     "output_type": "execute_result"
    }
   ],
   "source": [
    "test.head()"
   ]
  },
  {
   "cell_type": "markdown",
   "metadata": {},
   "source": [
    "This doesn't look right... will have to dig into this more"
   ]
  },
  {
   "cell_type": "code",
   "execution_count": null,
   "metadata": {},
   "outputs": [],
   "source": []
  }
 ],
 "metadata": {
  "kernelspec": {
   "display_name": "Python 3",
   "language": "python",
   "name": "python3"
  },
  "language_info": {
   "codemirror_mode": {
    "name": "ipython",
    "version": 3
   },
   "file_extension": ".py",
   "mimetype": "text/x-python",
   "name": "python",
   "nbconvert_exporter": "python",
   "pygments_lexer": "ipython3",
   "version": "3.7.1"
  }
 },
 "nbformat": 4,
 "nbformat_minor": 2
}
