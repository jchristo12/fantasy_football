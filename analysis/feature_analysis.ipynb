{
 "cells": [
  {
   "cell_type": "markdown",
   "metadata": {},
   "source": [
    "# Feature data only"
   ]
  },
  {
   "cell_type": "code",
   "execution_count": 102,
   "metadata": {},
   "outputs": [],
   "source": [
    "import pandas as pd\n",
    "import numpy as np\n",
    "import math\n",
    "import os\n",
    "import seaborn as sb"
   ]
  },
  {
   "cell_type": "markdown",
   "metadata": {},
   "source": [
    "## Read in the data"
   ]
  },
  {
   "cell_type": "code",
   "execution_count": 2,
   "metadata": {},
   "outputs": [],
   "source": [
    "player = pd.read_csv('https://raw.githubusercontent.com/jchristo12/fantasy_football/master/data/predictor/player_offense.csv')"
   ]
  },
  {
   "cell_type": "code",
   "execution_count": 3,
   "metadata": {},
   "outputs": [],
   "source": [
    "#rename columns\n",
    "player.rename(columns={'seas.1': 'exp'}, inplace=True)"
   ]
  },
  {
   "cell_type": "code",
   "execution_count": 4,
   "metadata": {},
   "outputs": [
    {
     "data": {
      "text/plain": [
       "Index(['pk', 'gid', 'seas', 'wk', 'player', 'fname', 'lname', 'full_name',\n",
       "       'team', 'pos1', 'nflid', 'pa', 'pc', 'py', 'ints', 'tdp', 'ra', 'sra',\n",
       "       'ry', 'tdr', 'fuml', 'trg', 'rec', 'recy', 'tdrec', 'ret', 'rety',\n",
       "       'tdret', 'exp', 'height', 'weight', 'dob', 'dv', 'forty', 'bench',\n",
       "       'vertical', 'broad', 'shuttle', 'cone', 'arm', 'hand'],\n",
       "      dtype='object')"
      ]
     },
     "execution_count": 4,
     "metadata": {},
     "output_type": "execute_result"
    }
   ],
   "source": [
    "player.columns"
   ]
  },
  {
   "cell_type": "code",
   "execution_count": 5,
   "metadata": {},
   "outputs": [],
   "source": [
    "#convert column types to appropriate data types\n",
    "player = player.astype({'seas': 'category',\n",
    "          'wk': 'category',\n",
    "          'team': 'category',\n",
    "          'pos1': 'category',\n",
    "          'dv': 'category',\n",
    "          'exp': 'category'})"
   ]
  },
  {
   "cell_type": "markdown",
   "metadata": {},
   "source": [
    "## Cumulative Stats"
   ]
  },
  {
   "cell_type": "markdown",
   "metadata": {},
   "source": [
    "#### Career stats"
   ]
  },
  {
   "cell_type": "code",
   "execution_count": 6,
   "metadata": {},
   "outputs": [],
   "source": [
    "player_sorted = player.sort_values(by=['player', 'gid'], ascending=True)"
   ]
  },
  {
   "cell_type": "code",
   "execution_count": 7,
   "metadata": {},
   "outputs": [
    {
     "data": {
      "text/html": [
       "<div>\n",
       "<style scoped>\n",
       "    .dataframe tbody tr th:only-of-type {\n",
       "        vertical-align: middle;\n",
       "    }\n",
       "\n",
       "    .dataframe tbody tr th {\n",
       "        vertical-align: top;\n",
       "    }\n",
       "\n",
       "    .dataframe thead th {\n",
       "        text-align: right;\n",
       "    }\n",
       "</style>\n",
       "<table border=\"1\" class=\"dataframe\">\n",
       "  <thead>\n",
       "    <tr style=\"text-align: right;\">\n",
       "      <th></th>\n",
       "      <th>pk</th>\n",
       "      <th>gid</th>\n",
       "      <th>seas</th>\n",
       "      <th>wk</th>\n",
       "      <th>player</th>\n",
       "      <th>fname</th>\n",
       "      <th>lname</th>\n",
       "      <th>full_name</th>\n",
       "      <th>team</th>\n",
       "      <th>pos1</th>\n",
       "      <th>...</th>\n",
       "      <th>dob</th>\n",
       "      <th>dv</th>\n",
       "      <th>forty</th>\n",
       "      <th>bench</th>\n",
       "      <th>vertical</th>\n",
       "      <th>broad</th>\n",
       "      <th>shuttle</th>\n",
       "      <th>cone</th>\n",
       "      <th>arm</th>\n",
       "      <th>hand</th>\n",
       "    </tr>\n",
       "  </thead>\n",
       "  <tbody>\n",
       "    <tr>\n",
       "      <th>74708</th>\n",
       "      <td>3999&amp;AA-0025</td>\n",
       "      <td>3999</td>\n",
       "      <td>2015</td>\n",
       "      <td>1</td>\n",
       "      <td>AA-0025</td>\n",
       "      <td>Ameer</td>\n",
       "      <td>Abdullah</td>\n",
       "      <td>Ameer Abdullah</td>\n",
       "      <td>DET</td>\n",
       "      <td>RB</td>\n",
       "      <td>...</td>\n",
       "      <td>6/13/1993</td>\n",
       "      <td>Big Ten</td>\n",
       "      <td>4.5</td>\n",
       "      <td>24</td>\n",
       "      <td>42.5</td>\n",
       "      <td>130</td>\n",
       "      <td>3.95</td>\n",
       "      <td>6.79</td>\n",
       "      <td>30.0</td>\n",
       "      <td>8.625</td>\n",
       "    </tr>\n",
       "    <tr>\n",
       "      <th>74935</th>\n",
       "      <td>4010&amp;AA-0025</td>\n",
       "      <td>4010</td>\n",
       "      <td>2015</td>\n",
       "      <td>2</td>\n",
       "      <td>AA-0025</td>\n",
       "      <td>Ameer</td>\n",
       "      <td>Abdullah</td>\n",
       "      <td>Ameer Abdullah</td>\n",
       "      <td>DET</td>\n",
       "      <td>RB</td>\n",
       "      <td>...</td>\n",
       "      <td>6/13/1993</td>\n",
       "      <td>Big Ten</td>\n",
       "      <td>4.5</td>\n",
       "      <td>24</td>\n",
       "      <td>42.5</td>\n",
       "      <td>130</td>\n",
       "      <td>3.95</td>\n",
       "      <td>6.79</td>\n",
       "      <td>30.0</td>\n",
       "      <td>8.625</td>\n",
       "    </tr>\n",
       "    <tr>\n",
       "      <th>75490</th>\n",
       "      <td>4036&amp;AA-0025</td>\n",
       "      <td>4036</td>\n",
       "      <td>2015</td>\n",
       "      <td>3</td>\n",
       "      <td>AA-0025</td>\n",
       "      <td>Ameer</td>\n",
       "      <td>Abdullah</td>\n",
       "      <td>Ameer Abdullah</td>\n",
       "      <td>DET</td>\n",
       "      <td>RB</td>\n",
       "      <td>...</td>\n",
       "      <td>6/13/1993</td>\n",
       "      <td>Big Ten</td>\n",
       "      <td>4.5</td>\n",
       "      <td>24</td>\n",
       "      <td>42.5</td>\n",
       "      <td>130</td>\n",
       "      <td>3.95</td>\n",
       "      <td>6.79</td>\n",
       "      <td>30.0</td>\n",
       "      <td>8.625</td>\n",
       "    </tr>\n",
       "    <tr>\n",
       "      <th>75814</th>\n",
       "      <td>4052&amp;AA-0025</td>\n",
       "      <td>4052</td>\n",
       "      <td>2015</td>\n",
       "      <td>4</td>\n",
       "      <td>AA-0025</td>\n",
       "      <td>Ameer</td>\n",
       "      <td>Abdullah</td>\n",
       "      <td>Ameer Abdullah</td>\n",
       "      <td>DET</td>\n",
       "      <td>RB</td>\n",
       "      <td>...</td>\n",
       "      <td>6/13/1993</td>\n",
       "      <td>Big Ten</td>\n",
       "      <td>4.5</td>\n",
       "      <td>24</td>\n",
       "      <td>42.5</td>\n",
       "      <td>130</td>\n",
       "      <td>3.95</td>\n",
       "      <td>6.79</td>\n",
       "      <td>30.0</td>\n",
       "      <td>8.625</td>\n",
       "    </tr>\n",
       "    <tr>\n",
       "      <th>76021</th>\n",
       "      <td>4062&amp;AA-0025</td>\n",
       "      <td>4062</td>\n",
       "      <td>2015</td>\n",
       "      <td>5</td>\n",
       "      <td>AA-0025</td>\n",
       "      <td>Ameer</td>\n",
       "      <td>Abdullah</td>\n",
       "      <td>Ameer Abdullah</td>\n",
       "      <td>DET</td>\n",
       "      <td>RB</td>\n",
       "      <td>...</td>\n",
       "      <td>6/13/1993</td>\n",
       "      <td>Big Ten</td>\n",
       "      <td>4.5</td>\n",
       "      <td>24</td>\n",
       "      <td>42.5</td>\n",
       "      <td>130</td>\n",
       "      <td>3.95</td>\n",
       "      <td>6.79</td>\n",
       "      <td>30.0</td>\n",
       "      <td>8.625</td>\n",
       "    </tr>\n",
       "  </tbody>\n",
       "</table>\n",
       "<p>5 rows × 41 columns</p>\n",
       "</div>"
      ],
      "text/plain": [
       "                 pk   gid  seas wk   player  fname     lname       full_name  \\\n",
       "74708  3999&AA-0025  3999  2015  1  AA-0025  Ameer  Abdullah  Ameer Abdullah   \n",
       "74935  4010&AA-0025  4010  2015  2  AA-0025  Ameer  Abdullah  Ameer Abdullah   \n",
       "75490  4036&AA-0025  4036  2015  3  AA-0025  Ameer  Abdullah  Ameer Abdullah   \n",
       "75814  4052&AA-0025  4052  2015  4  AA-0025  Ameer  Abdullah  Ameer Abdullah   \n",
       "76021  4062&AA-0025  4062  2015  5  AA-0025  Ameer  Abdullah  Ameer Abdullah   \n",
       "\n",
       "      team pos1  ...          dob       dv  forty  bench  vertical  broad  \\\n",
       "74708  DET   RB  ...    6/13/1993  Big Ten    4.5     24      42.5    130   \n",
       "74935  DET   RB  ...    6/13/1993  Big Ten    4.5     24      42.5    130   \n",
       "75490  DET   RB  ...    6/13/1993  Big Ten    4.5     24      42.5    130   \n",
       "75814  DET   RB  ...    6/13/1993  Big Ten    4.5     24      42.5    130   \n",
       "76021  DET   RB  ...    6/13/1993  Big Ten    4.5     24      42.5    130   \n",
       "\n",
       "       shuttle  cone   arm   hand  \n",
       "74708     3.95  6.79  30.0  8.625  \n",
       "74935     3.95  6.79  30.0  8.625  \n",
       "75490     3.95  6.79  30.0  8.625  \n",
       "75814     3.95  6.79  30.0  8.625  \n",
       "76021     3.95  6.79  30.0  8.625  \n",
       "\n",
       "[5 rows x 41 columns]"
      ]
     },
     "execution_count": 7,
     "metadata": {},
     "output_type": "execute_result"
    }
   ],
   "source": [
    "player_sorted.head()"
   ]
  },
  {
   "cell_type": "code",
   "execution_count": 8,
   "metadata": {},
   "outputs": [
    {
     "data": {
      "text/html": [
       "<div>\n",
       "<style scoped>\n",
       "    .dataframe tbody tr th:only-of-type {\n",
       "        vertical-align: middle;\n",
       "    }\n",
       "\n",
       "    .dataframe tbody tr th {\n",
       "        vertical-align: top;\n",
       "    }\n",
       "\n",
       "    .dataframe thead th {\n",
       "        text-align: right;\n",
       "    }\n",
       "</style>\n",
       "<table border=\"1\" class=\"dataframe\">\n",
       "  <thead>\n",
       "    <tr style=\"text-align: right;\">\n",
       "      <th></th>\n",
       "      <th>pa</th>\n",
       "      <th>pc</th>\n",
       "      <th>py</th>\n",
       "      <th>ints</th>\n",
       "      <th>tdp</th>\n",
       "      <th>ra</th>\n",
       "      <th>sra</th>\n",
       "      <th>ry</th>\n",
       "      <th>tdr</th>\n",
       "      <th>fuml</th>\n",
       "      <th>trg</th>\n",
       "      <th>rec</th>\n",
       "      <th>recy</th>\n",
       "      <th>tdrec</th>\n",
       "    </tr>\n",
       "  </thead>\n",
       "  <tbody>\n",
       "    <tr>\n",
       "      <th>74708</th>\n",
       "      <td>0</td>\n",
       "      <td>0</td>\n",
       "      <td>0</td>\n",
       "      <td>0</td>\n",
       "      <td>0</td>\n",
       "      <td>7</td>\n",
       "      <td>4</td>\n",
       "      <td>50</td>\n",
       "      <td>1</td>\n",
       "      <td>0</td>\n",
       "      <td>4</td>\n",
       "      <td>4</td>\n",
       "      <td>44</td>\n",
       "      <td>0</td>\n",
       "    </tr>\n",
       "    <tr>\n",
       "      <th>74935</th>\n",
       "      <td>0</td>\n",
       "      <td>0</td>\n",
       "      <td>0</td>\n",
       "      <td>0</td>\n",
       "      <td>0</td>\n",
       "      <td>13</td>\n",
       "      <td>7</td>\n",
       "      <td>59</td>\n",
       "      <td>1</td>\n",
       "      <td>0</td>\n",
       "      <td>5</td>\n",
       "      <td>5</td>\n",
       "      <td>53</td>\n",
       "      <td>0</td>\n",
       "    </tr>\n",
       "    <tr>\n",
       "      <th>75490</th>\n",
       "      <td>0</td>\n",
       "      <td>0</td>\n",
       "      <td>0</td>\n",
       "      <td>0</td>\n",
       "      <td>0</td>\n",
       "      <td>21</td>\n",
       "      <td>12</td>\n",
       "      <td>82</td>\n",
       "      <td>1</td>\n",
       "      <td>0</td>\n",
       "      <td>10</td>\n",
       "      <td>7</td>\n",
       "      <td>72</td>\n",
       "      <td>1</td>\n",
       "    </tr>\n",
       "    <tr>\n",
       "      <th>75814</th>\n",
       "      <td>0</td>\n",
       "      <td>0</td>\n",
       "      <td>0</td>\n",
       "      <td>0</td>\n",
       "      <td>0</td>\n",
       "      <td>34</td>\n",
       "      <td>17</td>\n",
       "      <td>115</td>\n",
       "      <td>1</td>\n",
       "      <td>0</td>\n",
       "      <td>15</td>\n",
       "      <td>9</td>\n",
       "      <td>83</td>\n",
       "      <td>1</td>\n",
       "    </tr>\n",
       "    <tr>\n",
       "      <th>76021</th>\n",
       "      <td>0</td>\n",
       "      <td>0</td>\n",
       "      <td>0</td>\n",
       "      <td>0</td>\n",
       "      <td>0</td>\n",
       "      <td>40</td>\n",
       "      <td>20</td>\n",
       "      <td>131</td>\n",
       "      <td>1</td>\n",
       "      <td>1</td>\n",
       "      <td>17</td>\n",
       "      <td>10</td>\n",
       "      <td>92</td>\n",
       "      <td>1</td>\n",
       "    </tr>\n",
       "  </tbody>\n",
       "</table>\n",
       "</div>"
      ],
      "text/plain": [
       "       pa  pc  py  ints  tdp  ra  sra   ry  tdr  fuml  trg  rec  recy  tdrec\n",
       "74708   0   0   0     0    0   7    4   50    1     0    4    4    44      0\n",
       "74935   0   0   0     0    0  13    7   59    1     0    5    5    53      0\n",
       "75490   0   0   0     0    0  21   12   82    1     0   10    7    72      1\n",
       "75814   0   0   0     0    0  34   17  115    1     0   15    9    83      1\n",
       "76021   0   0   0     0    0  40   20  131    1     1   17   10    92      1"
      ]
     },
     "execution_count": 8,
     "metadata": {},
     "output_type": "execute_result"
    }
   ],
   "source": [
    "player_sorted.loc[:, 'pa':'tdrec'].cumsum().head()"
   ]
  },
  {
   "cell_type": "code",
   "execution_count": 9,
   "metadata": {},
   "outputs": [],
   "source": [
    "#initialize a list to hold all cumulative stats\n",
    "cusum_stats = []"
   ]
  },
  {
   "cell_type": "code",
   "execution_count": 10,
   "metadata": {},
   "outputs": [],
   "source": [
    "#loop through all unique players and calculate cumulative stats\n",
    "for i in player_sorted['player'].unique():\n",
    "    x = player_sorted[player_sorted['player'] == i].loc[:, 'pa':'tdret'].cumsum()\n",
    "    cusum_stats.append(x)"
   ]
  },
  {
   "cell_type": "code",
   "execution_count": 11,
   "metadata": {},
   "outputs": [],
   "source": [
    "#combine all of the items in the list into 1 dataframe\n",
    "cusum_df = pd.concat(cusum_stats, axis=0)"
   ]
  },
  {
   "cell_type": "code",
   "execution_count": 12,
   "metadata": {},
   "outputs": [
    {
     "name": "stdout",
     "output_type": "stream",
     "text": [
      "94759\n",
      "94759\n"
     ]
    }
   ],
   "source": [
    "#check to see if length matches the original dataframe\n",
    "print(cusum_df.shape[0])\n",
    "print(player.shape[0])"
   ]
  },
  {
   "cell_type": "markdown",
   "metadata": {},
   "source": [
    "Proof that this method is calculating correctly (lengths match)"
   ]
  },
  {
   "cell_type": "code",
   "execution_count": 13,
   "metadata": {},
   "outputs": [],
   "source": [
    "#rename columns to add a cusum prefix\n",
    "cusum_df = cusum_df.add_prefix('cusum_')"
   ]
  },
  {
   "cell_type": "code",
   "execution_count": 14,
   "metadata": {},
   "outputs": [],
   "source": [
    "#add the cusum data to the sorted data frame\n",
    "player_sorted_cusum = pd.concat([player_sorted, cusum_df], axis=1)"
   ]
  },
  {
   "cell_type": "markdown",
   "metadata": {},
   "source": [
    "#### 4-game rolling"
   ]
  },
  {
   "cell_type": "code",
   "execution_count": 15,
   "metadata": {},
   "outputs": [],
   "source": [
    "#initialize a list to hold each players rolling sum\n",
    "recent_stats = []"
   ]
  },
  {
   "cell_type": "code",
   "execution_count": 16,
   "metadata": {},
   "outputs": [],
   "source": [
    "#loop thru each unique player calculating rolling sum\n",
    "for i in player_sorted['player'].unique():\n",
    "    x = player_sorted[player_sorted['player'] == i].loc[:, 'pa':'tdret'].rolling(window=4, min_periods=1).sum()\n",
    "    recent_stats.append(x)"
   ]
  },
  {
   "cell_type": "code",
   "execution_count": 17,
   "metadata": {},
   "outputs": [],
   "source": [
    "#combine the items in the recent stats list\n",
    "recent_df = pd.concat(recent_stats, axis=0)"
   ]
  },
  {
   "cell_type": "code",
   "execution_count": 18,
   "metadata": {},
   "outputs": [
    {
     "name": "stdout",
     "output_type": "stream",
     "text": [
      "94759\n",
      "94759\n"
     ]
    }
   ],
   "source": [
    "#make sure lengths match the original\n",
    "print(recent_df.shape[0])\n",
    "print(player.shape[0])"
   ]
  },
  {
   "cell_type": "code",
   "execution_count": 19,
   "metadata": {},
   "outputs": [],
   "source": [
    "#rename columns to add a recent prefix\n",
    "recent_df = recent_df.add_prefix('recent_')"
   ]
  },
  {
   "cell_type": "code",
   "execution_count": 20,
   "metadata": {},
   "outputs": [],
   "source": [
    "#add the recent stats columns to the sorted data frame\n",
    "player_rolling_sort = pd.concat([player_sorted_cusum, recent_df], axis=1)"
   ]
  },
  {
   "cell_type": "markdown",
   "metadata": {},
   "source": [
    "## Add other features"
   ]
  },
  {
   "cell_type": "code",
   "execution_count": 21,
   "metadata": {},
   "outputs": [
    {
     "data": {
      "text/plain": [
       "Index(['pk', 'gid', 'seas', 'wk', 'player', 'fname', 'lname', 'full_name',\n",
       "       'team', 'pos1', 'nflid', 'pa', 'pc', 'py', 'ints', 'tdp', 'ra', 'sra',\n",
       "       'ry', 'tdr', 'fuml', 'trg', 'rec', 'recy', 'tdrec', 'ret', 'rety',\n",
       "       'tdret', 'exp', 'height', 'weight', 'dob', 'dv', 'forty', 'bench',\n",
       "       'vertical', 'broad', 'shuttle', 'cone', 'arm', 'hand', 'cusum_pa',\n",
       "       'cusum_pc', 'cusum_py', 'cusum_ints', 'cusum_tdp', 'cusum_ra',\n",
       "       'cusum_sra', 'cusum_ry', 'cusum_tdr', 'cusum_fuml', 'cusum_trg',\n",
       "       'cusum_rec', 'cusum_recy', 'cusum_tdrec', 'cusum_ret', 'cusum_rety',\n",
       "       'cusum_tdret', 'recent_pa', 'recent_pc', 'recent_py', 'recent_ints',\n",
       "       'recent_tdp', 'recent_ra', 'recent_sra', 'recent_ry', 'recent_tdr',\n",
       "       'recent_fuml', 'recent_trg', 'recent_rec', 'recent_recy',\n",
       "       'recent_tdrec', 'recent_ret', 'recent_rety', 'recent_tdret'],\n",
       "      dtype='object')"
      ]
     },
     "execution_count": 21,
     "metadata": {},
     "output_type": "execute_result"
    }
   ],
   "source": [
    "player_rolling_sort.columns"
   ]
  },
  {
   "cell_type": "markdown",
   "metadata": {},
   "source": [
    "#### Age"
   ]
  },
  {
   "cell_type": "code",
   "execution_count": 22,
   "metadata": {},
   "outputs": [],
   "source": [
    "#strip out the year from DOB\n",
    "dob_year = player_rolling_sort['dob'].apply(lambda x: int(str(x[-4:])))"
   ]
  },
  {
   "cell_type": "code",
   "execution_count": 23,
   "metadata": {},
   "outputs": [
    {
     "data": {
      "text/plain": [
       "74708    1993\n",
       "74935    1993\n",
       "75490    1993\n",
       "75814    1993\n",
       "76021    1993\n",
       "Name: dob, dtype: int64"
      ]
     },
     "execution_count": 23,
     "metadata": {},
     "output_type": "execute_result"
    }
   ],
   "source": [
    "dob_year.head()"
   ]
  },
  {
   "cell_type": "code",
   "execution_count": 24,
   "metadata": {},
   "outputs": [],
   "source": [
    "#add age to dataframe\n",
    "player_rolling_sort['age'] = player_rolling_sort['seas'].astype(int) - dob_year"
   ]
  },
  {
   "cell_type": "code",
   "execution_count": 25,
   "metadata": {},
   "outputs": [
    {
     "data": {
      "text/plain": [
       "74708    22\n",
       "74935    22\n",
       "75490    22\n",
       "75814    22\n",
       "76021    22\n",
       "Name: age, dtype: int64"
      ]
     },
     "execution_count": 25,
     "metadata": {},
     "output_type": "execute_result"
    }
   ],
   "source": [
    "player_rolling_sort['age'].head()"
   ]
  },
  {
   "cell_type": "markdown",
   "metadata": {},
   "source": [
    "### Passing summaries"
   ]
  },
  {
   "cell_type": "markdown",
   "metadata": {},
   "source": [
    "#### Career stats"
   ]
  },
  {
   "cell_type": "code",
   "execution_count": 26,
   "metadata": {},
   "outputs": [],
   "source": [
    "#Passing completion\n",
    "player_rolling_sort['career_comp_pct'] = player_rolling_sort['cusum_pc'] / player_rolling_sort['cusum_pa']"
   ]
  },
  {
   "cell_type": "code",
   "execution_count": 27,
   "metadata": {},
   "outputs": [],
   "source": [
    "#touchdown to interception ratio\n",
    "player_rolling_sort['career_td_to_int'] = player_rolling_sort['cusum_tdp'] / player_rolling_sort['cusum_ints']"
   ]
  },
  {
   "cell_type": "code",
   "execution_count": 28,
   "metadata": {},
   "outputs": [],
   "source": [
    "#Passing yards per completion\n",
    "player_rolling_sort['career_yds_per_comp'] = player_rolling_sort['cusum_py'] / player_rolling_sort['cusum_pc']"
   ]
  },
  {
   "cell_type": "markdown",
   "metadata": {},
   "source": [
    "#### Recent stats"
   ]
  },
  {
   "cell_type": "code",
   "execution_count": 29,
   "metadata": {},
   "outputs": [],
   "source": [
    "#Passing completion\n",
    "player_rolling_sort['recent_comp_pct'] = player_rolling_sort['recent_pc'] / player_rolling_sort['recent_pa']"
   ]
  },
  {
   "cell_type": "code",
   "execution_count": 30,
   "metadata": {},
   "outputs": [],
   "source": [
    "#touchdown to interception ratio\n",
    "player_rolling_sort['recent_td_to_int'] = player_rolling_sort['recent_tdp'] / player_rolling_sort['recent_ints']"
   ]
  },
  {
   "cell_type": "code",
   "execution_count": 31,
   "metadata": {},
   "outputs": [],
   "source": [
    "#Passing yards per completion\n",
    "player_rolling_sort['recent_yds_per_comp'] = player_rolling_sort['recent_py'] / player_rolling_sort['recent_pc']"
   ]
  },
  {
   "cell_type": "markdown",
   "metadata": {},
   "source": [
    "### Running summaries"
   ]
  },
  {
   "cell_type": "markdown",
   "metadata": {},
   "source": [
    "#### Career stats"
   ]
  },
  {
   "cell_type": "code",
   "execution_count": 32,
   "metadata": {},
   "outputs": [],
   "source": [
    "#Yards per rush\n",
    "player_rolling_sort['career_ryds_per_carry'] = player_rolling_sort['cusum_ry'] / player_rolling_sort['cusum_ra']"
   ]
  },
  {
   "cell_type": "code",
   "execution_count": 33,
   "metadata": {},
   "outputs": [],
   "source": [
    "#Carries to touchdown ratio\n",
    "player_rolling_sort['career_carry_to_td'] = player_rolling_sort['cusum_ra'] / player_rolling_sort['cusum_tdr']"
   ]
  },
  {
   "cell_type": "code",
   "execution_count": 34,
   "metadata": {},
   "outputs": [],
   "source": [
    "#Carries to fumbles lost ratio\n",
    "player_rolling_sort['career_carry_to_fuml'] = player_rolling_sort['cusum_ra'] / player_rolling_sort['cusum_fuml']"
   ]
  },
  {
   "cell_type": "markdown",
   "metadata": {},
   "source": [
    "#### Recent stats"
   ]
  },
  {
   "cell_type": "code",
   "execution_count": 35,
   "metadata": {},
   "outputs": [],
   "source": [
    "#Yards per rush\n",
    "player_rolling_sort['recent_ryds_per_carry'] = player_rolling_sort['recent_ry'] / player_rolling_sort['recent_ra']"
   ]
  },
  {
   "cell_type": "code",
   "execution_count": 36,
   "metadata": {},
   "outputs": [],
   "source": [
    "#Carries to touchdown ratio\n",
    "player_rolling_sort['recent_carry_to_td'] = player_rolling_sort['recent_ra'] / player_rolling_sort['recent_tdr']"
   ]
  },
  {
   "cell_type": "code",
   "execution_count": 37,
   "metadata": {},
   "outputs": [],
   "source": [
    "#Carries to fumbles lost ratio\n",
    "player_rolling_sort['recent_carry_to_fuml'] = player_rolling_sort['recent_ra'] / player_rolling_sort['recent_fuml']"
   ]
  },
  {
   "cell_type": "markdown",
   "metadata": {},
   "source": [
    "### Receiving stats"
   ]
  },
  {
   "cell_type": "markdown",
   "metadata": {},
   "source": [
    "#### Career stats"
   ]
  },
  {
   "cell_type": "code",
   "execution_count": 38,
   "metadata": {},
   "outputs": [],
   "source": [
    "#catch percent (catches/targets)\n",
    "player_rolling_sort['career_catch_pct'] = player_rolling_sort['cusum_rec'] / player_rolling_sort['cusum_trg']"
   ]
  },
  {
   "cell_type": "code",
   "execution_count": 39,
   "metadata": {},
   "outputs": [],
   "source": [
    "#yards per catch\n",
    "player_rolling_sort['career_yds_per_rec'] = player_rolling_sort['cusum_recy'] / player_rolling_sort['cusum_rec']"
   ]
  },
  {
   "cell_type": "code",
   "execution_count": 40,
   "metadata": {},
   "outputs": [],
   "source": [
    "#rec to td's\n",
    "player_rolling_sort['career_rec_to_td'] = player_rolling_sort['cusum_rec'] / player_rolling_sort['cusum_tdrec']"
   ]
  },
  {
   "cell_type": "markdown",
   "metadata": {},
   "source": [
    "#### Recent stats"
   ]
  },
  {
   "cell_type": "code",
   "execution_count": 41,
   "metadata": {},
   "outputs": [],
   "source": [
    "#catch percent (catches/targets)\n",
    "player_rolling_sort['recent_catch_pct'] = player_rolling_sort['recent_rec'] / player_rolling_sort['recent_trg']"
   ]
  },
  {
   "cell_type": "code",
   "execution_count": 42,
   "metadata": {},
   "outputs": [],
   "source": [
    "#yards per catch\n",
    "player_rolling_sort['recent_yds_per_rec'] = player_rolling_sort['recent_recy'] / player_rolling_sort['recent_rec']"
   ]
  },
  {
   "cell_type": "code",
   "execution_count": 43,
   "metadata": {},
   "outputs": [],
   "source": [
    "#rec to td's\n",
    "player_rolling_sort['recent_rec_to_td'] = player_rolling_sort['recent_rec'] / player_rolling_sort['recent_tdrec']"
   ]
  },
  {
   "cell_type": "markdown",
   "metadata": {},
   "source": [
    "### Return stats"
   ]
  },
  {
   "cell_type": "markdown",
   "metadata": {},
   "source": [
    "#### Career stats"
   ]
  },
  {
   "cell_type": "code",
   "execution_count": 44,
   "metadata": {},
   "outputs": [],
   "source": [
    "#average return yards\n",
    "player_rolling_sort['career_avg_ret'] = player_rolling_sort['cusum_rety'] / player_rolling_sort['cusum_ret']"
   ]
  },
  {
   "cell_type": "code",
   "execution_count": 45,
   "metadata": {},
   "outputs": [],
   "source": [
    "#returns to td's\n",
    "player_rolling_sort['career_ret_to_td'] = player_rolling_sort['cusum_ret'] / player_rolling_sort['cusum_tdret']"
   ]
  },
  {
   "cell_type": "markdown",
   "metadata": {},
   "source": [
    "#### Recent stats"
   ]
  },
  {
   "cell_type": "code",
   "execution_count": 46,
   "metadata": {},
   "outputs": [],
   "source": [
    "#average return yards\n",
    "player_rolling_sort['recent_avg_ret'] = player_rolling_sort['recent_rety'] / player_rolling_sort['recent_ret']"
   ]
  },
  {
   "cell_type": "code",
   "execution_count": 47,
   "metadata": {},
   "outputs": [],
   "source": [
    "#returns to td's\n",
    "player_rolling_sort['recent_ret_to_td'] = player_rolling_sort['recent_ret'] / player_rolling_sort['recent_tdret']"
   ]
  },
  {
   "cell_type": "markdown",
   "metadata": {},
   "source": [
    "### Final checks"
   ]
  },
  {
   "cell_type": "code",
   "execution_count": 48,
   "metadata": {},
   "outputs": [
    {
     "data": {
      "text/plain": [
       "Index(['pk', 'gid', 'seas', 'wk', 'player', 'fname', 'lname', 'full_name',\n",
       "       'team', 'pos1', 'nflid', 'pa', 'pc', 'py', 'ints', 'tdp', 'ra', 'sra',\n",
       "       'ry', 'tdr', 'fuml', 'trg', 'rec', 'recy', 'tdrec', 'ret', 'rety',\n",
       "       'tdret', 'exp', 'height', 'weight', 'dob', 'dv', 'forty', 'bench',\n",
       "       'vertical', 'broad', 'shuttle', 'cone', 'arm', 'hand', 'cusum_pa',\n",
       "       'cusum_pc', 'cusum_py', 'cusum_ints', 'cusum_tdp', 'cusum_ra',\n",
       "       'cusum_sra', 'cusum_ry', 'cusum_tdr', 'cusum_fuml', 'cusum_trg',\n",
       "       'cusum_rec', 'cusum_recy', 'cusum_tdrec', 'cusum_ret', 'cusum_rety',\n",
       "       'cusum_tdret', 'recent_pa', 'recent_pc', 'recent_py', 'recent_ints',\n",
       "       'recent_tdp', 'recent_ra', 'recent_sra', 'recent_ry', 'recent_tdr',\n",
       "       'recent_fuml', 'recent_trg', 'recent_rec', 'recent_recy',\n",
       "       'recent_tdrec', 'recent_ret', 'recent_rety', 'recent_tdret', 'age',\n",
       "       'career_comp_pct', 'career_td_to_int', 'career_yds_per_comp',\n",
       "       'recent_comp_pct', 'recent_td_to_int', 'recent_yds_per_comp',\n",
       "       'career_ryds_per_carry', 'career_carry_to_td', 'career_carry_to_fuml',\n",
       "       'recent_ryds_per_carry', 'recent_carry_to_td', 'recent_carry_to_fuml',\n",
       "       'career_catch_pct', 'career_yds_per_rec', 'career_rec_to_td',\n",
       "       'recent_catch_pct', 'recent_yds_per_rec', 'recent_rec_to_td',\n",
       "       'career_avg_ret', 'career_ret_to_td', 'recent_avg_ret',\n",
       "       'recent_ret_to_td'],\n",
       "      dtype='object')"
      ]
     },
     "execution_count": 48,
     "metadata": {},
     "output_type": "execute_result"
    }
   ],
   "source": [
    "player_rolling_sort.columns"
   ]
  },
  {
   "cell_type": "code",
   "execution_count": 49,
   "metadata": {},
   "outputs": [
    {
     "data": {
      "text/plain": [
       "0.5866666666666667"
      ]
     },
     "execution_count": 49,
     "metadata": {},
     "output_type": "execute_result"
    }
   ],
   "source": [
    "#percentage of players that played in more than 4 games\n",
    "game_thres = 10\n",
    "sum(player_rolling_sort.groupby(by='player')['gid'].count() > game_thres) / len(player_rolling_sort.groupby(by='player')['gid'].count())"
   ]
  },
  {
   "cell_type": "markdown",
   "metadata": {},
   "source": [
    "## Game features"
   ]
  },
  {
   "cell_type": "markdown",
   "metadata": {},
   "source": [
    "### Read in data"
   ]
  },
  {
   "cell_type": "code",
   "execution_count": 50,
   "metadata": {},
   "outputs": [],
   "source": [
    "game = pd.read_csv('https://raw.githubusercontent.com/jchristo12/fantasy_football/master/data/predictor/game.csv')"
   ]
  },
  {
   "cell_type": "code",
   "execution_count": 51,
   "metadata": {},
   "outputs": [],
   "source": [
    "#change the data types to the correct format\n",
    "game = game.astype({'v': 'category',\n",
    "                   'h': 'category',\n",
    "                   'day': 'category',\n",
    "                   'cond': 'category',\n",
    "                   'stad': 'category',\n",
    "                   'wdir': 'category',\n",
    "                   'surf': 'category'})"
   ]
  },
  {
   "cell_type": "code",
   "execution_count": 52,
   "metadata": {},
   "outputs": [
    {
     "data": {
      "text/html": [
       "<div>\n",
       "<style scoped>\n",
       "    .dataframe tbody tr th:only-of-type {\n",
       "        vertical-align: middle;\n",
       "    }\n",
       "\n",
       "    .dataframe tbody tr th {\n",
       "        vertical-align: top;\n",
       "    }\n",
       "\n",
       "    .dataframe thead th {\n",
       "        text-align: right;\n",
       "    }\n",
       "</style>\n",
       "<table border=\"1\" class=\"dataframe\">\n",
       "  <thead>\n",
       "    <tr style=\"text-align: right;\">\n",
       "      <th></th>\n",
       "      <th>gid</th>\n",
       "      <th>v</th>\n",
       "      <th>h</th>\n",
       "      <th>day</th>\n",
       "      <th>cond</th>\n",
       "      <th>stad</th>\n",
       "      <th>temp</th>\n",
       "      <th>wdir</th>\n",
       "      <th>surf</th>\n",
       "      <th>humd</th>\n",
       "      <th>ou</th>\n",
       "      <th>sprv</th>\n",
       "      <th>ptsv</th>\n",
       "      <th>ptsh</th>\n",
       "    </tr>\n",
       "  </thead>\n",
       "  <tbody>\n",
       "    <tr>\n",
       "      <th>0</th>\n",
       "      <td>1</td>\n",
       "      <td>SF</td>\n",
       "      <td>ATL</td>\n",
       "      <td>SUN</td>\n",
       "      <td>Dome</td>\n",
       "      <td>Georgia Dome</td>\n",
       "      <td>79.0</td>\n",
       "      <td>NaN</td>\n",
       "      <td>AstroTurf</td>\n",
       "      <td>NaN</td>\n",
       "      <td>42.5</td>\n",
       "      <td>7.0</td>\n",
       "      <td>28</td>\n",
       "      <td>36</td>\n",
       "    </tr>\n",
       "    <tr>\n",
       "      <th>1</th>\n",
       "      <td>2</td>\n",
       "      <td>JAC</td>\n",
       "      <td>CLE</td>\n",
       "      <td>SUN</td>\n",
       "      <td>Sunny</td>\n",
       "      <td>Cleveland Browns Stadium</td>\n",
       "      <td>78.0</td>\n",
       "      <td>NE</td>\n",
       "      <td>Grass</td>\n",
       "      <td>63.0</td>\n",
       "      <td>38.0</td>\n",
       "      <td>-10.0</td>\n",
       "      <td>27</td>\n",
       "      <td>7</td>\n",
       "    </tr>\n",
       "    <tr>\n",
       "      <th>2</th>\n",
       "      <td>3</td>\n",
       "      <td>PHI</td>\n",
       "      <td>DAL</td>\n",
       "      <td>SUN</td>\n",
       "      <td>Sunny</td>\n",
       "      <td>Texas Stadium</td>\n",
       "      <td>109.0</td>\n",
       "      <td>S</td>\n",
       "      <td>AstroTurf</td>\n",
       "      <td>19.0</td>\n",
       "      <td>40.0</td>\n",
       "      <td>6.0</td>\n",
       "      <td>41</td>\n",
       "      <td>14</td>\n",
       "    </tr>\n",
       "    <tr>\n",
       "      <th>3</th>\n",
       "      <td>4</td>\n",
       "      <td>NYJ</td>\n",
       "      <td>GB</td>\n",
       "      <td>SUN</td>\n",
       "      <td>Mostly Cloudy</td>\n",
       "      <td>Lambeau Field</td>\n",
       "      <td>77.0</td>\n",
       "      <td>E</td>\n",
       "      <td>Grass</td>\n",
       "      <td>66.0</td>\n",
       "      <td>36.0</td>\n",
       "      <td>2.5</td>\n",
       "      <td>20</td>\n",
       "      <td>16</td>\n",
       "    </tr>\n",
       "    <tr>\n",
       "      <th>4</th>\n",
       "      <td>5</td>\n",
       "      <td>IND</td>\n",
       "      <td>KC</td>\n",
       "      <td>SUN</td>\n",
       "      <td>Mostly Sunny</td>\n",
       "      <td>Arrowhead Stadium</td>\n",
       "      <td>90.0</td>\n",
       "      <td>E</td>\n",
       "      <td>Grass</td>\n",
       "      <td>50.0</td>\n",
       "      <td>44.0</td>\n",
       "      <td>-3.0</td>\n",
       "      <td>27</td>\n",
       "      <td>14</td>\n",
       "    </tr>\n",
       "  </tbody>\n",
       "</table>\n",
       "</div>"
      ],
      "text/plain": [
       "   gid    v    h  day           cond                      stad   temp wdir  \\\n",
       "0    1   SF  ATL  SUN           Dome              Georgia Dome   79.0  NaN   \n",
       "1    2  JAC  CLE  SUN          Sunny  Cleveland Browns Stadium   78.0   NE   \n",
       "2    3  PHI  DAL  SUN          Sunny             Texas Stadium  109.0    S   \n",
       "3    4  NYJ   GB  SUN  Mostly Cloudy             Lambeau Field   77.0    E   \n",
       "4    5  IND   KC  SUN   Mostly Sunny         Arrowhead Stadium   90.0    E   \n",
       "\n",
       "        surf  humd    ou  sprv  ptsv  ptsh  \n",
       "0  AstroTurf   NaN  42.5   7.0    28    36  \n",
       "1      Grass  63.0  38.0 -10.0    27     7  \n",
       "2  AstroTurf  19.0  40.0   6.0    41    14  \n",
       "3      Grass  66.0  36.0   2.5    20    16  \n",
       "4      Grass  50.0  44.0  -3.0    27    14  "
      ]
     },
     "execution_count": 52,
     "metadata": {},
     "output_type": "execute_result"
    }
   ],
   "source": [
    "game.head()"
   ]
  },
  {
   "cell_type": "markdown",
   "metadata": {},
   "source": [
    "### Feature creation"
   ]
  },
  {
   "cell_type": "code",
   "execution_count": 53,
   "metadata": {},
   "outputs": [],
   "source": [
    "#add underdog category\n",
    "game['udog'] = pd.Series(np.where(game['sprv'] > 0, game['v'], game['h']))\n",
    "game = game.astype({'udog': 'category'})"
   ]
  },
  {
   "cell_type": "code",
   "execution_count": 54,
   "metadata": {},
   "outputs": [
    {
     "data": {
      "text/html": [
       "<div>\n",
       "<style scoped>\n",
       "    .dataframe tbody tr th:only-of-type {\n",
       "        vertical-align: middle;\n",
       "    }\n",
       "\n",
       "    .dataframe tbody tr th {\n",
       "        vertical-align: top;\n",
       "    }\n",
       "\n",
       "    .dataframe thead th {\n",
       "        text-align: right;\n",
       "    }\n",
       "</style>\n",
       "<table border=\"1\" class=\"dataframe\">\n",
       "  <thead>\n",
       "    <tr style=\"text-align: right;\">\n",
       "      <th></th>\n",
       "      <th>gid</th>\n",
       "      <th>v</th>\n",
       "      <th>h</th>\n",
       "      <th>day</th>\n",
       "      <th>cond</th>\n",
       "      <th>stad</th>\n",
       "      <th>temp</th>\n",
       "      <th>wdir</th>\n",
       "      <th>surf</th>\n",
       "      <th>humd</th>\n",
       "      <th>ou</th>\n",
       "      <th>sprv</th>\n",
       "      <th>ptsv</th>\n",
       "      <th>ptsh</th>\n",
       "      <th>udog</th>\n",
       "    </tr>\n",
       "  </thead>\n",
       "  <tbody>\n",
       "    <tr>\n",
       "      <th>0</th>\n",
       "      <td>1</td>\n",
       "      <td>SF</td>\n",
       "      <td>ATL</td>\n",
       "      <td>SUN</td>\n",
       "      <td>Dome</td>\n",
       "      <td>Georgia Dome</td>\n",
       "      <td>79.0</td>\n",
       "      <td>NaN</td>\n",
       "      <td>AstroTurf</td>\n",
       "      <td>NaN</td>\n",
       "      <td>42.5</td>\n",
       "      <td>7.0</td>\n",
       "      <td>28</td>\n",
       "      <td>36</td>\n",
       "      <td>SF</td>\n",
       "    </tr>\n",
       "    <tr>\n",
       "      <th>1</th>\n",
       "      <td>2</td>\n",
       "      <td>JAC</td>\n",
       "      <td>CLE</td>\n",
       "      <td>SUN</td>\n",
       "      <td>Sunny</td>\n",
       "      <td>Cleveland Browns Stadium</td>\n",
       "      <td>78.0</td>\n",
       "      <td>NE</td>\n",
       "      <td>Grass</td>\n",
       "      <td>63.0</td>\n",
       "      <td>38.0</td>\n",
       "      <td>-10.0</td>\n",
       "      <td>27</td>\n",
       "      <td>7</td>\n",
       "      <td>CLE</td>\n",
       "    </tr>\n",
       "    <tr>\n",
       "      <th>2</th>\n",
       "      <td>3</td>\n",
       "      <td>PHI</td>\n",
       "      <td>DAL</td>\n",
       "      <td>SUN</td>\n",
       "      <td>Sunny</td>\n",
       "      <td>Texas Stadium</td>\n",
       "      <td>109.0</td>\n",
       "      <td>S</td>\n",
       "      <td>AstroTurf</td>\n",
       "      <td>19.0</td>\n",
       "      <td>40.0</td>\n",
       "      <td>6.0</td>\n",
       "      <td>41</td>\n",
       "      <td>14</td>\n",
       "      <td>PHI</td>\n",
       "    </tr>\n",
       "    <tr>\n",
       "      <th>3</th>\n",
       "      <td>4</td>\n",
       "      <td>NYJ</td>\n",
       "      <td>GB</td>\n",
       "      <td>SUN</td>\n",
       "      <td>Mostly Cloudy</td>\n",
       "      <td>Lambeau Field</td>\n",
       "      <td>77.0</td>\n",
       "      <td>E</td>\n",
       "      <td>Grass</td>\n",
       "      <td>66.0</td>\n",
       "      <td>36.0</td>\n",
       "      <td>2.5</td>\n",
       "      <td>20</td>\n",
       "      <td>16</td>\n",
       "      <td>NYJ</td>\n",
       "    </tr>\n",
       "    <tr>\n",
       "      <th>4</th>\n",
       "      <td>5</td>\n",
       "      <td>IND</td>\n",
       "      <td>KC</td>\n",
       "      <td>SUN</td>\n",
       "      <td>Mostly Sunny</td>\n",
       "      <td>Arrowhead Stadium</td>\n",
       "      <td>90.0</td>\n",
       "      <td>E</td>\n",
       "      <td>Grass</td>\n",
       "      <td>50.0</td>\n",
       "      <td>44.0</td>\n",
       "      <td>-3.0</td>\n",
       "      <td>27</td>\n",
       "      <td>14</td>\n",
       "      <td>KC</td>\n",
       "    </tr>\n",
       "  </tbody>\n",
       "</table>\n",
       "</div>"
      ],
      "text/plain": [
       "   gid    v    h  day           cond                      stad   temp wdir  \\\n",
       "0    1   SF  ATL  SUN           Dome              Georgia Dome   79.0  NaN   \n",
       "1    2  JAC  CLE  SUN          Sunny  Cleveland Browns Stadium   78.0   NE   \n",
       "2    3  PHI  DAL  SUN          Sunny             Texas Stadium  109.0    S   \n",
       "3    4  NYJ   GB  SUN  Mostly Cloudy             Lambeau Field   77.0    E   \n",
       "4    5  IND   KC  SUN   Mostly Sunny         Arrowhead Stadium   90.0    E   \n",
       "\n",
       "        surf  humd    ou  sprv  ptsv  ptsh udog  \n",
       "0  AstroTurf   NaN  42.5   7.0    28    36   SF  \n",
       "1      Grass  63.0  38.0 -10.0    27     7  CLE  \n",
       "2  AstroTurf  19.0  40.0   6.0    41    14  PHI  \n",
       "3      Grass  66.0  36.0   2.5    20    16  NYJ  \n",
       "4      Grass  50.0  44.0  -3.0    27    14   KC  "
      ]
     },
     "execution_count": 54,
     "metadata": {},
     "output_type": "execute_result"
    }
   ],
   "source": [
    "game.head()"
   ]
  },
  {
   "cell_type": "code",
   "execution_count": 55,
   "metadata": {},
   "outputs": [
    {
     "data": {
      "text/plain": [
       "udog\n",
       "CLE    242\n",
       "DET    205\n",
       "OAK    203\n",
       "ARI    202\n",
       "WAS    198\n",
       "JAC    197\n",
       "BUF    196\n",
       "MIA    185\n",
       "SF     183\n",
       "CHI    180\n",
       "NYJ    179\n",
       "TB     177\n",
       "CIN    172\n",
       "HOU    169\n",
       "CAR    159\n",
       "KC     156\n",
       "TEN    155\n",
       "MIN    153\n",
       "NYG    152\n",
       "ATL    150\n",
       "STL    147\n",
       "SEA    143\n",
       "DAL    139\n",
       "SD     134\n",
       "BAL    127\n",
       "NO     121\n",
       "PHI    115\n",
       "GB     109\n",
       "IND    109\n",
       "DEN    107\n",
       "PIT     90\n",
       "NE      71\n",
       "LA      20\n",
       "LAC     12\n",
       "Name: sprv, dtype: int64"
      ]
     },
     "execution_count": 55,
     "metadata": {},
     "output_type": "execute_result"
    }
   ],
   "source": [
    "#count how many times each team has been an underdog\n",
    "tot_udog = game.groupby(by='udog')['sprv'].count().sort_values(ascending=False)\n",
    "tot_udog"
   ]
  },
  {
   "cell_type": "code",
   "execution_count": 56,
   "metadata": {},
   "outputs": [],
   "source": [
    "#combine game and offensive player data\n",
    "player_game = player_rolling_sort.merge(game, how='left', on='gid', suffixes=('_poff', '_game'))"
   ]
  },
  {
   "cell_type": "code",
   "execution_count": 57,
   "metadata": {},
   "outputs": [
    {
     "data": {
      "text/html": [
       "<div>\n",
       "<style scoped>\n",
       "    .dataframe tbody tr th:only-of-type {\n",
       "        vertical-align: middle;\n",
       "    }\n",
       "\n",
       "    .dataframe tbody tr th {\n",
       "        vertical-align: top;\n",
       "    }\n",
       "\n",
       "    .dataframe thead th {\n",
       "        text-align: right;\n",
       "    }\n",
       "</style>\n",
       "<table border=\"1\" class=\"dataframe\">\n",
       "  <thead>\n",
       "    <tr style=\"text-align: right;\">\n",
       "      <th></th>\n",
       "      <th>pk</th>\n",
       "      <th>gid</th>\n",
       "      <th>seas</th>\n",
       "      <th>wk</th>\n",
       "      <th>player</th>\n",
       "      <th>fname</th>\n",
       "      <th>lname</th>\n",
       "      <th>full_name</th>\n",
       "      <th>team</th>\n",
       "      <th>pos1</th>\n",
       "      <th>...</th>\n",
       "      <th>stad</th>\n",
       "      <th>temp</th>\n",
       "      <th>wdir</th>\n",
       "      <th>surf</th>\n",
       "      <th>humd</th>\n",
       "      <th>ou</th>\n",
       "      <th>sprv</th>\n",
       "      <th>ptsv</th>\n",
       "      <th>ptsh</th>\n",
       "      <th>udog</th>\n",
       "    </tr>\n",
       "  </thead>\n",
       "  <tbody>\n",
       "    <tr>\n",
       "      <th>0</th>\n",
       "      <td>3999&amp;AA-0025</td>\n",
       "      <td>3999</td>\n",
       "      <td>2015</td>\n",
       "      <td>1</td>\n",
       "      <td>AA-0025</td>\n",
       "      <td>Ameer</td>\n",
       "      <td>Abdullah</td>\n",
       "      <td>Ameer Abdullah</td>\n",
       "      <td>DET</td>\n",
       "      <td>RB</td>\n",
       "      <td>...</td>\n",
       "      <td>Qualcomm Stadium</td>\n",
       "      <td>84.0</td>\n",
       "      <td>WSW</td>\n",
       "      <td>Grass</td>\n",
       "      <td>47.0</td>\n",
       "      <td>46.0</td>\n",
       "      <td>3.0</td>\n",
       "      <td>28</td>\n",
       "      <td>33</td>\n",
       "      <td>DET</td>\n",
       "    </tr>\n",
       "    <tr>\n",
       "      <th>1</th>\n",
       "      <td>4010&amp;AA-0025</td>\n",
       "      <td>4010</td>\n",
       "      <td>2015</td>\n",
       "      <td>2</td>\n",
       "      <td>AA-0025</td>\n",
       "      <td>Ameer</td>\n",
       "      <td>Abdullah</td>\n",
       "      <td>Ameer Abdullah</td>\n",
       "      <td>DET</td>\n",
       "      <td>RB</td>\n",
       "      <td>...</td>\n",
       "      <td>TCF Bank Stadium</td>\n",
       "      <td>67.0</td>\n",
       "      <td>NaN</td>\n",
       "      <td>FieldTurf</td>\n",
       "      <td>NaN</td>\n",
       "      <td>43.5</td>\n",
       "      <td>2.0</td>\n",
       "      <td>16</td>\n",
       "      <td>26</td>\n",
       "      <td>DET</td>\n",
       "    </tr>\n",
       "    <tr>\n",
       "      <th>2</th>\n",
       "      <td>4036&amp;AA-0025</td>\n",
       "      <td>4036</td>\n",
       "      <td>2015</td>\n",
       "      <td>3</td>\n",
       "      <td>AA-0025</td>\n",
       "      <td>Ameer</td>\n",
       "      <td>Abdullah</td>\n",
       "      <td>Ameer Abdullah</td>\n",
       "      <td>DET</td>\n",
       "      <td>RB</td>\n",
       "      <td>...</td>\n",
       "      <td>Ford Field</td>\n",
       "      <td>NaN</td>\n",
       "      <td>NaN</td>\n",
       "      <td>FieldTurf</td>\n",
       "      <td>NaN</td>\n",
       "      <td>44.5</td>\n",
       "      <td>-3.0</td>\n",
       "      <td>24</td>\n",
       "      <td>12</td>\n",
       "      <td>DET</td>\n",
       "    </tr>\n",
       "    <tr>\n",
       "      <th>3</th>\n",
       "      <td>4052&amp;AA-0025</td>\n",
       "      <td>4052</td>\n",
       "      <td>2015</td>\n",
       "      <td>4</td>\n",
       "      <td>AA-0025</td>\n",
       "      <td>Ameer</td>\n",
       "      <td>Abdullah</td>\n",
       "      <td>Ameer Abdullah</td>\n",
       "      <td>DET</td>\n",
       "      <td>RB</td>\n",
       "      <td>...</td>\n",
       "      <td>CenturyLink Field</td>\n",
       "      <td>74.0</td>\n",
       "      <td>N</td>\n",
       "      <td>FieldTurf</td>\n",
       "      <td>41.0</td>\n",
       "      <td>43.0</td>\n",
       "      <td>10.0</td>\n",
       "      <td>10</td>\n",
       "      <td>13</td>\n",
       "      <td>DET</td>\n",
       "    </tr>\n",
       "    <tr>\n",
       "      <th>4</th>\n",
       "      <td>4062&amp;AA-0025</td>\n",
       "      <td>4062</td>\n",
       "      <td>2015</td>\n",
       "      <td>5</td>\n",
       "      <td>AA-0025</td>\n",
       "      <td>Ameer</td>\n",
       "      <td>Abdullah</td>\n",
       "      <td>Ameer Abdullah</td>\n",
       "      <td>DET</td>\n",
       "      <td>RB</td>\n",
       "      <td>...</td>\n",
       "      <td>Ford Field</td>\n",
       "      <td>NaN</td>\n",
       "      <td>NaN</td>\n",
       "      <td>FieldTurf</td>\n",
       "      <td>NaN</td>\n",
       "      <td>44.5</td>\n",
       "      <td>-3.0</td>\n",
       "      <td>42</td>\n",
       "      <td>17</td>\n",
       "      <td>DET</td>\n",
       "    </tr>\n",
       "  </tbody>\n",
       "</table>\n",
       "<p>5 rows × 112 columns</p>\n",
       "</div>"
      ],
      "text/plain": [
       "             pk   gid  seas wk   player  fname     lname       full_name team  \\\n",
       "0  3999&AA-0025  3999  2015  1  AA-0025  Ameer  Abdullah  Ameer Abdullah  DET   \n",
       "1  4010&AA-0025  4010  2015  2  AA-0025  Ameer  Abdullah  Ameer Abdullah  DET   \n",
       "2  4036&AA-0025  4036  2015  3  AA-0025  Ameer  Abdullah  Ameer Abdullah  DET   \n",
       "3  4052&AA-0025  4052  2015  4  AA-0025  Ameer  Abdullah  Ameer Abdullah  DET   \n",
       "4  4062&AA-0025  4062  2015  5  AA-0025  Ameer  Abdullah  Ameer Abdullah  DET   \n",
       "\n",
       "  pos1  ...                stad  temp  wdir       surf  humd    ou  sprv  \\\n",
       "0   RB  ...    Qualcomm Stadium  84.0   WSW      Grass  47.0  46.0   3.0   \n",
       "1   RB  ...    TCF Bank Stadium  67.0   NaN  FieldTurf   NaN  43.5   2.0   \n",
       "2   RB  ...          Ford Field   NaN   NaN  FieldTurf   NaN  44.5  -3.0   \n",
       "3   RB  ...   CenturyLink Field  74.0     N  FieldTurf  41.0  43.0  10.0   \n",
       "4   RB  ...          Ford Field   NaN   NaN  FieldTurf   NaN  44.5  -3.0   \n",
       "\n",
       "   ptsv  ptsh  udog  \n",
       "0    28    33   DET  \n",
       "1    16    26   DET  \n",
       "2    24    12   DET  \n",
       "3    10    13   DET  \n",
       "4    42    17   DET  \n",
       "\n",
       "[5 rows x 112 columns]"
      ]
     },
     "execution_count": 57,
     "metadata": {},
     "output_type": "execute_result"
    }
   ],
   "source": [
    "player_game.head()"
   ]
  },
  {
   "cell_type": "code",
   "execution_count": 58,
   "metadata": {},
   "outputs": [
    {
     "data": {
      "text/plain": [
       "Index(['pk', 'gid', 'seas', 'wk', 'player', 'fname', 'lname', 'full_name',\n",
       "       'team', 'pos1',\n",
       "       ...\n",
       "       'stad', 'temp', 'wdir', 'surf', 'humd', 'ou', 'sprv', 'ptsv', 'ptsh',\n",
       "       'udog'],\n",
       "      dtype='object', length=112)"
      ]
     },
     "execution_count": 58,
     "metadata": {},
     "output_type": "execute_result"
    }
   ],
   "source": [
    "player_game.columns"
   ]
  },
  {
   "cell_type": "markdown",
   "metadata": {},
   "source": [
    "# Feature and Response variables"
   ]
  },
  {
   "cell_type": "markdown",
   "metadata": {},
   "source": [
    "### Initial setup"
   ]
  },
  {
   "cell_type": "code",
   "execution_count": 59,
   "metadata": {},
   "outputs": [],
   "source": [
    "#read in the offensive player response variables\n",
    "ft_pts = pd.read_csv('https://raw.githubusercontent.com/jchristo12/fantasy_football/master/data/response/offense_final.csv',\n",
    "                     header=0)"
   ]
  },
  {
   "cell_type": "code",
   "execution_count": 60,
   "metadata": {},
   "outputs": [
    {
     "data": {
      "text/html": [
       "<div>\n",
       "<style scoped>\n",
       "    .dataframe tbody tr th:only-of-type {\n",
       "        vertical-align: middle;\n",
       "    }\n",
       "\n",
       "    .dataframe tbody tr th {\n",
       "        vertical-align: top;\n",
       "    }\n",
       "\n",
       "    .dataframe thead th {\n",
       "        text-align: right;\n",
       "    }\n",
       "</style>\n",
       "<table border=\"1\" class=\"dataframe\">\n",
       "  <thead>\n",
       "    <tr style=\"text-align: right;\">\n",
       "      <th></th>\n",
       "      <th>pk</th>\n",
       "      <th>gid</th>\n",
       "      <th>seas</th>\n",
       "      <th>wk</th>\n",
       "      <th>player</th>\n",
       "      <th>pos1</th>\n",
       "      <th>py</th>\n",
       "      <th>ints</th>\n",
       "      <th>tdp</th>\n",
       "      <th>ry</th>\n",
       "      <th>tdr</th>\n",
       "      <th>recy</th>\n",
       "      <th>tdrec</th>\n",
       "      <th>rety</th>\n",
       "      <th>tdret</th>\n",
       "      <th>fuml</th>\n",
       "      <th>conv</th>\n",
       "      <th>tot_sack</th>\n",
       "      <th>f_pts</th>\n",
       "    </tr>\n",
       "  </thead>\n",
       "  <tbody>\n",
       "    <tr>\n",
       "      <th>0</th>\n",
       "      <td>1&amp;KW-1500</td>\n",
       "      <td>1</td>\n",
       "      <td>2000</td>\n",
       "      <td>1</td>\n",
       "      <td>KW-1500</td>\n",
       "      <td>WR</td>\n",
       "      <td>0</td>\n",
       "      <td>0</td>\n",
       "      <td>0</td>\n",
       "      <td>0</td>\n",
       "      <td>0</td>\n",
       "      <td>0</td>\n",
       "      <td>0</td>\n",
       "      <td>56</td>\n",
       "      <td>0</td>\n",
       "      <td>0</td>\n",
       "      <td>0</td>\n",
       "      <td>0.0</td>\n",
       "      <td>1.60</td>\n",
       "    </tr>\n",
       "    <tr>\n",
       "      <th>1</th>\n",
       "      <td>1&amp;CG-0400</td>\n",
       "      <td>1</td>\n",
       "      <td>2000</td>\n",
       "      <td>1</td>\n",
       "      <td>CG-0400</td>\n",
       "      <td>RB</td>\n",
       "      <td>0</td>\n",
       "      <td>0</td>\n",
       "      <td>0</td>\n",
       "      <td>62</td>\n",
       "      <td>0</td>\n",
       "      <td>45</td>\n",
       "      <td>0</td>\n",
       "      <td>0</td>\n",
       "      <td>0</td>\n",
       "      <td>0</td>\n",
       "      <td>0</td>\n",
       "      <td>0.0</td>\n",
       "      <td>10.70</td>\n",
       "    </tr>\n",
       "    <tr>\n",
       "      <th>2</th>\n",
       "      <td>1&amp;JG-0600</td>\n",
       "      <td>1</td>\n",
       "      <td>2000</td>\n",
       "      <td>1</td>\n",
       "      <td>JG-0600</td>\n",
       "      <td>QB</td>\n",
       "      <td>252</td>\n",
       "      <td>1</td>\n",
       "      <td>3</td>\n",
       "      <td>22</td>\n",
       "      <td>0</td>\n",
       "      <td>0</td>\n",
       "      <td>0</td>\n",
       "      <td>0</td>\n",
       "      <td>0</td>\n",
       "      <td>0</td>\n",
       "      <td>0</td>\n",
       "      <td>1.0</td>\n",
       "      <td>22.03</td>\n",
       "    </tr>\n",
       "    <tr>\n",
       "      <th>3</th>\n",
       "      <td>1&amp;JR-2000</td>\n",
       "      <td>1</td>\n",
       "      <td>2000</td>\n",
       "      <td>1</td>\n",
       "      <td>JR-2000</td>\n",
       "      <td>WR</td>\n",
       "      <td>0</td>\n",
       "      <td>0</td>\n",
       "      <td>0</td>\n",
       "      <td>-2</td>\n",
       "      <td>0</td>\n",
       "      <td>59</td>\n",
       "      <td>0</td>\n",
       "      <td>0</td>\n",
       "      <td>0</td>\n",
       "      <td>0</td>\n",
       "      <td>0</td>\n",
       "      <td>0.0</td>\n",
       "      <td>5.70</td>\n",
       "    </tr>\n",
       "    <tr>\n",
       "      <th>4</th>\n",
       "      <td>1&amp;TO-0200</td>\n",
       "      <td>1</td>\n",
       "      <td>2000</td>\n",
       "      <td>1</td>\n",
       "      <td>TO-0200</td>\n",
       "      <td>WR</td>\n",
       "      <td>0</td>\n",
       "      <td>0</td>\n",
       "      <td>0</td>\n",
       "      <td>0</td>\n",
       "      <td>0</td>\n",
       "      <td>72</td>\n",
       "      <td>1</td>\n",
       "      <td>0</td>\n",
       "      <td>0</td>\n",
       "      <td>0</td>\n",
       "      <td>0</td>\n",
       "      <td>0.0</td>\n",
       "      <td>13.20</td>\n",
       "    </tr>\n",
       "  </tbody>\n",
       "</table>\n",
       "</div>"
      ],
      "text/plain": [
       "          pk  gid  seas  wk   player pos1   py  ints  tdp  ry  tdr  recy  \\\n",
       "0  1&KW-1500    1  2000   1  KW-1500   WR    0     0    0   0    0     0   \n",
       "1  1&CG-0400    1  2000   1  CG-0400   RB    0     0    0  62    0    45   \n",
       "2  1&JG-0600    1  2000   1  JG-0600   QB  252     1    3  22    0     0   \n",
       "3  1&JR-2000    1  2000   1  JR-2000   WR    0     0    0  -2    0    59   \n",
       "4  1&TO-0200    1  2000   1  TO-0200   WR    0     0    0   0    0    72   \n",
       "\n",
       "   tdrec  rety  tdret  fuml  conv  tot_sack  f_pts  \n",
       "0      0    56      0     0     0       0.0   1.60  \n",
       "1      0     0      0     0     0       0.0  10.70  \n",
       "2      0     0      0     0     0       1.0  22.03  \n",
       "3      0     0      0     0     0       0.0   5.70  \n",
       "4      1     0      0     0     0       0.0  13.20  "
      ]
     },
     "execution_count": 60,
     "metadata": {},
     "output_type": "execute_result"
    }
   ],
   "source": [
    "ft_pts.head()"
   ]
  },
  {
   "cell_type": "code",
   "execution_count": 61,
   "metadata": {},
   "outputs": [
    {
     "data": {
      "text/html": [
       "<div>\n",
       "<style scoped>\n",
       "    .dataframe tbody tr th:only-of-type {\n",
       "        vertical-align: middle;\n",
       "    }\n",
       "\n",
       "    .dataframe tbody tr th {\n",
       "        vertical-align: top;\n",
       "    }\n",
       "\n",
       "    .dataframe thead th {\n",
       "        text-align: right;\n",
       "    }\n",
       "</style>\n",
       "<table border=\"1\" class=\"dataframe\">\n",
       "  <thead>\n",
       "    <tr style=\"text-align: right;\">\n",
       "      <th></th>\n",
       "      <th>pk</th>\n",
       "      <th>f_pts</th>\n",
       "    </tr>\n",
       "  </thead>\n",
       "  <tbody>\n",
       "    <tr>\n",
       "      <th>0</th>\n",
       "      <td>1&amp;KW-1500</td>\n",
       "      <td>1.60</td>\n",
       "    </tr>\n",
       "    <tr>\n",
       "      <th>1</th>\n",
       "      <td>1&amp;CG-0400</td>\n",
       "      <td>10.70</td>\n",
       "    </tr>\n",
       "    <tr>\n",
       "      <th>2</th>\n",
       "      <td>1&amp;JG-0600</td>\n",
       "      <td>22.03</td>\n",
       "    </tr>\n",
       "    <tr>\n",
       "      <th>3</th>\n",
       "      <td>1&amp;JR-2000</td>\n",
       "      <td>5.70</td>\n",
       "    </tr>\n",
       "    <tr>\n",
       "      <th>4</th>\n",
       "      <td>1&amp;TO-0200</td>\n",
       "      <td>13.20</td>\n",
       "    </tr>\n",
       "  </tbody>\n",
       "</table>\n",
       "</div>"
      ],
      "text/plain": [
       "          pk  f_pts\n",
       "0  1&KW-1500   1.60\n",
       "1  1&CG-0400  10.70\n",
       "2  1&JG-0600  22.03\n",
       "3  1&JR-2000   5.70\n",
       "4  1&TO-0200  13.20"
      ]
     },
     "execution_count": 61,
     "metadata": {},
     "output_type": "execute_result"
    }
   ],
   "source": [
    "#trim the columns\n",
    "response = ft_pts.loc[:, ['pk', 'f_pts']]\n",
    "response.head()"
   ]
  },
  {
   "cell_type": "markdown",
   "metadata": {},
   "source": [
    "### Merge response and feature df's"
   ]
  },
  {
   "cell_type": "code",
   "execution_count": 62,
   "metadata": {},
   "outputs": [
    {
     "data": {
      "text/html": [
       "<div>\n",
       "<style scoped>\n",
       "    .dataframe tbody tr th:only-of-type {\n",
       "        vertical-align: middle;\n",
       "    }\n",
       "\n",
       "    .dataframe tbody tr th {\n",
       "        vertical-align: top;\n",
       "    }\n",
       "\n",
       "    .dataframe thead th {\n",
       "        text-align: right;\n",
       "    }\n",
       "</style>\n",
       "<table border=\"1\" class=\"dataframe\">\n",
       "  <thead>\n",
       "    <tr style=\"text-align: right;\">\n",
       "      <th></th>\n",
       "      <th>pk</th>\n",
       "      <th>gid</th>\n",
       "      <th>seas</th>\n",
       "      <th>wk</th>\n",
       "      <th>player</th>\n",
       "      <th>fname</th>\n",
       "      <th>lname</th>\n",
       "      <th>full_name</th>\n",
       "      <th>team</th>\n",
       "      <th>pos1</th>\n",
       "      <th>...</th>\n",
       "      <th>temp</th>\n",
       "      <th>wdir</th>\n",
       "      <th>surf</th>\n",
       "      <th>humd</th>\n",
       "      <th>ou</th>\n",
       "      <th>sprv</th>\n",
       "      <th>ptsv</th>\n",
       "      <th>ptsh</th>\n",
       "      <th>udog</th>\n",
       "      <th>f_pts</th>\n",
       "    </tr>\n",
       "  </thead>\n",
       "  <tbody>\n",
       "    <tr>\n",
       "      <th>0</th>\n",
       "      <td>3999&amp;AA-0025</td>\n",
       "      <td>3999</td>\n",
       "      <td>2015</td>\n",
       "      <td>1</td>\n",
       "      <td>AA-0025</td>\n",
       "      <td>Ameer</td>\n",
       "      <td>Abdullah</td>\n",
       "      <td>Ameer Abdullah</td>\n",
       "      <td>DET</td>\n",
       "      <td>RB</td>\n",
       "      <td>...</td>\n",
       "      <td>84.0</td>\n",
       "      <td>WSW</td>\n",
       "      <td>Grass</td>\n",
       "      <td>47.0</td>\n",
       "      <td>46.0</td>\n",
       "      <td>3.0</td>\n",
       "      <td>28</td>\n",
       "      <td>33</td>\n",
       "      <td>DET</td>\n",
       "      <td>18.400000</td>\n",
       "    </tr>\n",
       "    <tr>\n",
       "      <th>1</th>\n",
       "      <td>4010&amp;AA-0025</td>\n",
       "      <td>4010</td>\n",
       "      <td>2015</td>\n",
       "      <td>2</td>\n",
       "      <td>AA-0025</td>\n",
       "      <td>Ameer</td>\n",
       "      <td>Abdullah</td>\n",
       "      <td>Ameer Abdullah</td>\n",
       "      <td>DET</td>\n",
       "      <td>RB</td>\n",
       "      <td>...</td>\n",
       "      <td>67.0</td>\n",
       "      <td>NaN</td>\n",
       "      <td>FieldTurf</td>\n",
       "      <td>NaN</td>\n",
       "      <td>43.5</td>\n",
       "      <td>2.0</td>\n",
       "      <td>16</td>\n",
       "      <td>26</td>\n",
       "      <td>DET</td>\n",
       "      <td>4.200000</td>\n",
       "    </tr>\n",
       "    <tr>\n",
       "      <th>2</th>\n",
       "      <td>4036&amp;AA-0025</td>\n",
       "      <td>4036</td>\n",
       "      <td>2015</td>\n",
       "      <td>3</td>\n",
       "      <td>AA-0025</td>\n",
       "      <td>Ameer</td>\n",
       "      <td>Abdullah</td>\n",
       "      <td>Ameer Abdullah</td>\n",
       "      <td>DET</td>\n",
       "      <td>RB</td>\n",
       "      <td>...</td>\n",
       "      <td>NaN</td>\n",
       "      <td>NaN</td>\n",
       "      <td>FieldTurf</td>\n",
       "      <td>NaN</td>\n",
       "      <td>44.5</td>\n",
       "      <td>-3.0</td>\n",
       "      <td>24</td>\n",
       "      <td>12</td>\n",
       "      <td>DET</td>\n",
       "      <td>10.200000</td>\n",
       "    </tr>\n",
       "    <tr>\n",
       "      <th>3</th>\n",
       "      <td>4052&amp;AA-0025</td>\n",
       "      <td>4052</td>\n",
       "      <td>2015</td>\n",
       "      <td>4</td>\n",
       "      <td>AA-0025</td>\n",
       "      <td>Ameer</td>\n",
       "      <td>Abdullah</td>\n",
       "      <td>Ameer Abdullah</td>\n",
       "      <td>DET</td>\n",
       "      <td>RB</td>\n",
       "      <td>...</td>\n",
       "      <td>74.0</td>\n",
       "      <td>N</td>\n",
       "      <td>FieldTurf</td>\n",
       "      <td>41.0</td>\n",
       "      <td>43.0</td>\n",
       "      <td>10.0</td>\n",
       "      <td>10</td>\n",
       "      <td>13</td>\n",
       "      <td>DET</td>\n",
       "      <td>5.942857</td>\n",
       "    </tr>\n",
       "    <tr>\n",
       "      <th>4</th>\n",
       "      <td>4062&amp;AA-0025</td>\n",
       "      <td>4062</td>\n",
       "      <td>2015</td>\n",
       "      <td>5</td>\n",
       "      <td>AA-0025</td>\n",
       "      <td>Ameer</td>\n",
       "      <td>Abdullah</td>\n",
       "      <td>Ameer Abdullah</td>\n",
       "      <td>DET</td>\n",
       "      <td>RB</td>\n",
       "      <td>...</td>\n",
       "      <td>NaN</td>\n",
       "      <td>NaN</td>\n",
       "      <td>FieldTurf</td>\n",
       "      <td>NaN</td>\n",
       "      <td>44.5</td>\n",
       "      <td>-3.0</td>\n",
       "      <td>42</td>\n",
       "      <td>17</td>\n",
       "      <td>DET</td>\n",
       "      <td>1.671429</td>\n",
       "    </tr>\n",
       "  </tbody>\n",
       "</table>\n",
       "<p>5 rows × 113 columns</p>\n",
       "</div>"
      ],
      "text/plain": [
       "             pk   gid  seas wk   player  fname     lname       full_name team  \\\n",
       "0  3999&AA-0025  3999  2015  1  AA-0025  Ameer  Abdullah  Ameer Abdullah  DET   \n",
       "1  4010&AA-0025  4010  2015  2  AA-0025  Ameer  Abdullah  Ameer Abdullah  DET   \n",
       "2  4036&AA-0025  4036  2015  3  AA-0025  Ameer  Abdullah  Ameer Abdullah  DET   \n",
       "3  4052&AA-0025  4052  2015  4  AA-0025  Ameer  Abdullah  Ameer Abdullah  DET   \n",
       "4  4062&AA-0025  4062  2015  5  AA-0025  Ameer  Abdullah  Ameer Abdullah  DET   \n",
       "\n",
       "  pos1    ...      temp  wdir       surf  humd    ou  sprv  ptsv  ptsh  udog  \\\n",
       "0   RB    ...      84.0   WSW      Grass  47.0  46.0   3.0    28    33   DET   \n",
       "1   RB    ...      67.0   NaN  FieldTurf   NaN  43.5   2.0    16    26   DET   \n",
       "2   RB    ...       NaN   NaN  FieldTurf   NaN  44.5  -3.0    24    12   DET   \n",
       "3   RB    ...      74.0     N  FieldTurf  41.0  43.0  10.0    10    13   DET   \n",
       "4   RB    ...       NaN   NaN  FieldTurf   NaN  44.5  -3.0    42    17   DET   \n",
       "\n",
       "       f_pts  \n",
       "0  18.400000  \n",
       "1   4.200000  \n",
       "2  10.200000  \n",
       "3   5.942857  \n",
       "4   1.671429  \n",
       "\n",
       "[5 rows x 113 columns]"
      ]
     },
     "execution_count": 62,
     "metadata": {},
     "output_type": "execute_result"
    }
   ],
   "source": [
    "full_df = player_game.merge(response, on='pk', how='left')\n",
    "full_df.head()"
   ]
  },
  {
   "cell_type": "code",
   "execution_count": 63,
   "metadata": {},
   "outputs": [
    {
     "name": "stdout",
     "output_type": "stream",
     "text": [
      "(94759, 113)\n"
     ]
    },
    {
     "data": {
      "text/plain": [
       "Index(['pk', 'gid', 'seas', 'wk', 'player', 'fname', 'lname', 'full_name',\n",
       "       'team', 'pos1',\n",
       "       ...\n",
       "       'temp', 'wdir', 'surf', 'humd', 'ou', 'sprv', 'ptsv', 'ptsh', 'udog',\n",
       "       'f_pts'],\n",
       "      dtype='object', length=113)"
      ]
     },
     "execution_count": 63,
     "metadata": {},
     "output_type": "execute_result"
    }
   ],
   "source": [
    "print(full_df.shape)\n",
    "full_df.columns"
   ]
  },
  {
   "cell_type": "markdown",
   "metadata": {},
   "source": [
    "Everything looks good!"
   ]
  },
  {
   "cell_type": "markdown",
   "metadata": {},
   "source": [
    "## Exploratory Data Analysis"
   ]
  },
  {
   "cell_type": "code",
   "execution_count": 235,
   "metadata": {},
   "outputs": [],
   "source": [
    "#remove observations that don't have NaN for fantasy points\n",
    "df_eda = full_df[full_df['f_pts'].notna()]"
   ]
  },
  {
   "cell_type": "code",
   "execution_count": 236,
   "metadata": {},
   "outputs": [],
   "source": [
    "#store positions of interest\n",
    "pos_of_interest = ['QB', 'RB', 'WR', 'TE']"
   ]
  },
  {
   "cell_type": "code",
   "execution_count": 237,
   "metadata": {},
   "outputs": [
    {
     "name": "stderr",
     "output_type": "stream",
     "text": [
      "C:\\Users\\Joe\\Anaconda3\\lib\\site-packages\\ipykernel_launcher.py:4: SettingWithCopyWarning: \n",
      "A value is trying to be set on a copy of a slice from a DataFrame.\n",
      "Try using .loc[row_indexer,col_indexer] = value instead\n",
      "\n",
      "See the caveats in the documentation: http://pandas.pydata.org/pandas-docs/stable/indexing.html#indexing-view-versus-copy\n",
      "  after removing the cwd from sys.path.\n"
     ]
    }
   ],
   "source": [
    "#filter out positions that aren't primary offense positions\n",
    "df_eda = full_df[full_df['pos1'].isin(pos_of_interest)]\n",
    "#remove unused categories\n",
    "df_eda['pos1'] = df_eda['pos1'].cat.remove_unused_categories()"
   ]
  },
  {
   "cell_type": "code",
   "execution_count": 238,
   "metadata": {},
   "outputs": [
    {
     "data": {
      "text/plain": [
       "<seaborn.axisgrid.FacetGrid at 0x1d3d04a0710>"
      ]
     },
     "execution_count": 238,
     "metadata": {},
     "output_type": "execute_result"
    },
    {
     "data": {
      "image/png": "[encoded data removed]",
      "text/plain": [
       "<Figure size 408.25x360 with 1 Axes>"
      ]
     },
     "metadata": {
      "needs_background": "light"
     },
     "output_type": "display_data"
    }
   ],
   "source": [
    "sb.catplot(x='seas', y='f_pts', hue='pos1', hue_order=['TE'], kind='box', data=df_eda)"
   ]
  },
  {
   "cell_type": "code",
   "execution_count": 239,
   "metadata": {
    "scrolled": true
   },
   "outputs": [
    {
     "name": "stdout",
     "output_type": "stream",
     "text": [
      "pk\n",
      "gid\n",
      "seas\n",
      "wk\n",
      "player\n",
      "fname\n",
      "lname\n",
      "full_name\n",
      "team\n",
      "pos1\n",
      "nflid\n",
      "pa\n",
      "pc\n",
      "py\n",
      "ints\n",
      "tdp\n",
      "ra\n",
      "sra\n",
      "ry\n",
      "tdr\n",
      "fuml\n",
      "trg\n",
      "rec\n",
      "recy\n",
      "tdrec\n",
      "ret\n",
      "rety\n",
      "tdret\n",
      "exp\n",
      "height\n",
      "weight\n",
      "dob\n",
      "dv\n",
      "forty\n",
      "bench\n",
      "vertical\n",
      "broad\n",
      "shuttle\n",
      "cone\n",
      "arm\n",
      "hand\n",
      "cusum_pa\n",
      "cusum_pc\n",
      "cusum_py\n",
      "cusum_ints\n",
      "cusum_tdp\n",
      "cusum_ra\n",
      "cusum_sra\n",
      "cusum_ry\n",
      "cusum_tdr\n",
      "cusum_fuml\n",
      "cusum_trg\n",
      "cusum_rec\n",
      "cusum_recy\n",
      "cusum_tdrec\n",
      "cusum_ret\n",
      "cusum_rety\n",
      "cusum_tdret\n",
      "recent_pa\n",
      "recent_pc\n",
      "recent_py\n",
      "recent_ints\n",
      "recent_tdp\n",
      "recent_ra\n",
      "recent_sra\n",
      "recent_ry\n",
      "recent_tdr\n",
      "recent_fuml\n",
      "recent_trg\n",
      "recent_rec\n",
      "recent_recy\n",
      "recent_tdrec\n",
      "recent_ret\n",
      "recent_rety\n",
      "recent_tdret\n",
      "age\n",
      "career_comp_pct\n",
      "career_td_to_int\n",
      "career_yds_per_comp\n",
      "recent_comp_pct\n",
      "recent_td_to_int\n",
      "recent_yds_per_comp\n",
      "career_ryds_per_carry\n",
      "career_carry_to_td\n",
      "career_carry_to_fuml\n",
      "recent_ryds_per_carry\n",
      "recent_carry_to_td\n",
      "recent_carry_to_fuml\n",
      "career_catch_pct\n",
      "career_yds_per_rec\n",
      "career_rec_to_td\n",
      "recent_catch_pct\n",
      "recent_yds_per_rec\n",
      "recent_rec_to_td\n",
      "career_avg_ret\n",
      "career_ret_to_td\n",
      "recent_avg_ret\n",
      "recent_ret_to_td\n",
      "v\n",
      "h\n",
      "day\n",
      "cond\n",
      "stad\n",
      "temp\n",
      "wdir\n",
      "surf\n",
      "humd\n",
      "ou\n",
      "sprv\n",
      "ptsv\n",
      "ptsh\n",
      "udog\n",
      "f_pts\n"
     ]
    }
   ],
   "source": [
    "#list out all of the columns\n",
    "for i in df_eda.columns:\n",
    "    print(i)"
   ]
  },
  {
   "cell_type": "markdown",
   "metadata": {},
   "source": [
    "#### Explore the underdog feature"
   ]
  },
  {
   "cell_type": "code",
   "execution_count": 240,
   "metadata": {
    "scrolled": true
   },
   "outputs": [
    {
     "name": "stderr",
     "output_type": "stream",
     "text": [
      "C:\\Users\\Joe\\Anaconda3\\lib\\site-packages\\ipykernel_launcher.py:2: SettingWithCopyWarning: \n",
      "A value is trying to be set on a copy of a slice from a DataFrame.\n",
      "Try using .loc[row_indexer,col_indexer] = value instead\n",
      "\n",
      "See the caveats in the documentation: http://pandas.pydata.org/pandas-docs/stable/indexing.html#indexing-view-versus-copy\n",
      "  \n",
      "C:\\Users\\Joe\\Anaconda3\\lib\\site-packages\\ipykernel_launcher.py:4: SettingWithCopyWarning: \n",
      "A value is trying to be set on a copy of a slice from a DataFrame.\n",
      "Try using .loc[row_indexer,col_indexer] = value instead\n",
      "\n",
      "See the caveats in the documentation: http://pandas.pydata.org/pandas-docs/stable/indexing.html#indexing-view-versus-copy\n",
      "  after removing the cwd from sys.path.\n"
     ]
    }
   ],
   "source": [
    "#create new column of binary underdog\n",
    "df_eda['udog_bin'] = df_eda['team'].eq(df_eda['udog'])\n",
    "#convert to category\n",
    "df_eda['udog_bin'] = df_eda['udog_bin'].astype('category')"
   ]
  },
  {
   "cell_type": "code",
   "execution_count": 241,
   "metadata": {},
   "outputs": [
    {
     "data": {
      "text/plain": [
       "<seaborn.axisgrid.FacetGrid at 0x1d3d04d9d30>"
      ]
     },
     "execution_count": 241,
     "metadata": {},
     "output_type": "execute_result"
    },
    {
     "data": {
      "image/png": "[encoded data removed]",
      "text/plain": [
       "<Figure size 422.125x360 with 1 Axes>"
      ]
     },
     "metadata": {
      "needs_background": "light"
     },
     "output_type": "display_data"
    }
   ],
   "source": [
    "sb.catplot(x='pos1', y='f_pts', hue='udog_bin', kind='box', data=df_eda)"
   ]
  },
  {
   "cell_type": "code",
   "execution_count": 270,
   "metadata": {},
   "outputs": [
    {
     "data": {
      "text/html": [
       "<div>\n",
       "<style scoped>\n",
       "    .dataframe tbody tr th:only-of-type {\n",
       "        vertical-align: middle;\n",
       "    }\n",
       "\n",
       "    .dataframe tbody tr th {\n",
       "        vertical-align: top;\n",
       "    }\n",
       "\n",
       "    .dataframe thead tr th {\n",
       "        text-align: left;\n",
       "    }\n",
       "\n",
       "    .dataframe thead tr:last-of-type th {\n",
       "        text-align: right;\n",
       "    }\n",
       "</style>\n",
       "<table border=\"1\" class=\"dataframe\">\n",
       "  <thead>\n",
       "    <tr>\n",
       "      <th></th>\n",
       "      <th></th>\n",
       "      <th colspan=\"4\" halign=\"left\">f_pts</th>\n",
       "    </tr>\n",
       "    <tr>\n",
       "      <th></th>\n",
       "      <th></th>\n",
       "      <th>min</th>\n",
       "      <th>max</th>\n",
       "      <th>mean</th>\n",
       "      <th>median</th>\n",
       "    </tr>\n",
       "    <tr>\n",
       "      <th>pos1</th>\n",
       "      <th>udog_bin</th>\n",
       "      <th></th>\n",
       "      <th></th>\n",
       "      <th></th>\n",
       "      <th></th>\n",
       "    </tr>\n",
       "  </thead>\n",
       "  <tbody>\n",
       "    <tr>\n",
       "      <th rowspan=\"2\" valign=\"top\">QB</th>\n",
       "      <th>False</th>\n",
       "      <td>-7.440000</td>\n",
       "      <td>48.82</td>\n",
       "      <td>13.065708</td>\n",
       "      <td>13.070000</td>\n",
       "    </tr>\n",
       "    <tr>\n",
       "      <th>True</th>\n",
       "      <td>-7.990000</td>\n",
       "      <td>44.99</td>\n",
       "      <td>10.789780</td>\n",
       "      <td>10.320000</td>\n",
       "    </tr>\n",
       "    <tr>\n",
       "      <th rowspan=\"2\" valign=\"top\">RB</th>\n",
       "      <th>False</th>\n",
       "      <td>-2.800000</td>\n",
       "      <td>55.40</td>\n",
       "      <td>6.609011</td>\n",
       "      <td>3.700000</td>\n",
       "    </tr>\n",
       "    <tr>\n",
       "      <th>True</th>\n",
       "      <td>-2.800000</td>\n",
       "      <td>51.20</td>\n",
       "      <td>5.627840</td>\n",
       "      <td>3.200000</td>\n",
       "    </tr>\n",
       "    <tr>\n",
       "      <th rowspan=\"2\" valign=\"top\">TE</th>\n",
       "      <th>False</th>\n",
       "      <td>-2.200000</td>\n",
       "      <td>33.40</td>\n",
       "      <td>3.753956</td>\n",
       "      <td>2.000000</td>\n",
       "    </tr>\n",
       "    <tr>\n",
       "      <th>True</th>\n",
       "      <td>-3.300000</td>\n",
       "      <td>32.00</td>\n",
       "      <td>3.203514</td>\n",
       "      <td>1.600000</td>\n",
       "    </tr>\n",
       "    <tr>\n",
       "      <th rowspan=\"2\" valign=\"top\">WR</th>\n",
       "      <th>False</th>\n",
       "      <td>-4.342857</td>\n",
       "      <td>41.40</td>\n",
       "      <td>5.865394</td>\n",
       "      <td>3.771429</td>\n",
       "    </tr>\n",
       "    <tr>\n",
       "      <th>True</th>\n",
       "      <td>-3.500000</td>\n",
       "      <td>47.10</td>\n",
       "      <td>5.165432</td>\n",
       "      <td>3.300000</td>\n",
       "    </tr>\n",
       "  </tbody>\n",
       "</table>\n",
       "</div>"
      ],
      "text/plain": [
       "                  f_pts                             \n",
       "                    min    max       mean     median\n",
       "pos1 udog_bin                                       \n",
       "QB   False    -7.440000  48.82  13.065708  13.070000\n",
       "     True     -7.990000  44.99  10.789780  10.320000\n",
       "RB   False    -2.800000  55.40   6.609011   3.700000\n",
       "     True     -2.800000  51.20   5.627840   3.200000\n",
       "TE   False    -2.200000  33.40   3.753956   2.000000\n",
       "     True     -3.300000  32.00   3.203514   1.600000\n",
       "WR   False    -4.342857  41.40   5.865394   3.771429\n",
       "     True     -3.500000  47.10   5.165432   3.300000"
      ]
     },
     "execution_count": 270,
     "metadata": {},
     "output_type": "execute_result"
    }
   ],
   "source": [
    "df_eda.groupby(['pos1', 'udog_bin'], as_index=True).agg({'f_pts': ['min', 'max', 'mean', 'median']})"
   ]
  },
  {
   "cell_type": "markdown",
   "metadata": {},
   "source": [
    "### Lag the information by 1 week"
   ]
  },
  {
   "cell_type": "markdown",
   "metadata": {},
   "source": [
    "Need to lag the information by one week to see if we can predict the next week's fantasy points.<br>\n",
    "The game information can stay at the current week as long as we can know it before the week."
   ]
  },
  {
   "cell_type": "code",
   "execution_count": 310,
   "metadata": {},
   "outputs": [],
   "source": [
    "#store unique player list\n",
    "unique_players = df_eda['player'].unique()"
   ]
  },
  {
   "cell_type": "code",
   "execution_count": 311,
   "metadata": {},
   "outputs": [],
   "source": [
    "#sort by player and game order\n",
    "df_lag = df_eda.sort_values(by=['player', 'gid'], ascending=True)"
   ]
  },
  {
   "cell_type": "markdown",
   "metadata": {},
   "source": [
    "#### Career stats"
   ]
  },
  {
   "cell_type": "code",
   "execution_count": 312,
   "metadata": {},
   "outputs": [],
   "source": [
    "#initial empty list\n",
    "cusum_lag = []"
   ]
  },
  {
   "cell_type": "code",
   "execution_count": 313,
   "metadata": {
    "scrolled": true
   },
   "outputs": [],
   "source": [
    "#calculate cumulative stats for each unique player\n",
    "for p in unique_players:\n",
    "    p_interim = df_lag.loc[df_lag['player'] == p, 'pa':'tdret'].shift(1).cumsum()\n",
    "    cusum_lag.append(p_interim)"
   ]
  },
  {
   "cell_type": "code",
   "execution_count": 320,
   "metadata": {},
   "outputs": [],
   "source": [
    "#combine all players data together\n",
    "lag_interim = pd.concat(cusum_lag, axis=0).shape"
   ]
  },
  {
   "cell_type": "markdown",
   "metadata": {},
   "source": [
    "#### 4-game rolling"
   ]
  },
  {
   "cell_type": "code",
   "execution_count": 321,
   "metadata": {},
   "outputs": [],
   "source": [
    "#initialize empty list\n",
    "recent_lag = []"
   ]
  },
  {
   "cell_type": "code",
   "execution_count": null,
   "metadata": {},
   "outputs": [],
   "source": [
    "#loop thru and calculate 4 game rolling stats for each unique player\n",
    "for p in unique_players:\n",
    "    p_interim = df_lag.loc[df_log['player'] == p, 'pa':'tdret'].shift(1).rolling(window=4, min_periods=1).sum()\n",
    "    recent_lag.append(p_interim)"
   ]
  }
 ],
 "metadata": {
  "kernelspec": {
   "display_name": "Python 3",
   "language": "python",
   "name": "python3"
  },
  "language_info": {
   "codemirror_mode": {
    "name": "ipython",
    "version": 3
   },
   "file_extension": ".py",
   "mimetype": "text/x-python",
   "name": "python",
   "nbconvert_exporter": "python",
   "pygments_lexer": "ipython3",
   "version": "3.7.1"
  }
 },
 "nbformat": 4,
 "nbformat_minor": 2
}
