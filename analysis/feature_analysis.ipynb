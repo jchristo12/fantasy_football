{
 "cells": [
  {
   "cell_type": "markdown",
   "metadata": {},
   "source": [
    "# Feature data only"
   ]
  },
  {
   "cell_type": "code",
   "execution_count": 2,
   "metadata": {},
   "outputs": [],
   "source": [
    "import pandas as pd\n",
    "import numpy as np\n",
    "import math\n",
    "import os\n",
    "import seaborn as sb"
   ]
  },
  {
   "cell_type": "markdown",
   "metadata": {},
   "source": [
    "## Read in the data"
   ]
  },
  {
   "cell_type": "code",
   "execution_count": 3,
   "metadata": {},
   "outputs": [],
   "source": [
    "player = pd.read_csv('https://raw.githubusercontent.com/jchristo12/fantasy_football/master/data/predictor/player_offense.csv')"
   ]
  },
  {
   "cell_type": "code",
   "execution_count": 4,
   "metadata": {},
   "outputs": [],
   "source": [
    "#rename columns\n",
    "player.rename(columns={'seas.1': 'exp'}, inplace=True)"
   ]
  },
  {
   "cell_type": "code",
   "execution_count": 5,
   "metadata": {},
   "outputs": [
    {
     "data": {
      "text/plain": [
       "Index(['pk', 'gid', 'seas', 'wk', 'player', 'fname', 'lname', 'full_name',\n",
       "       'team', 'pos1', 'nflid', 'pa', 'pc', 'py', 'ints', 'tdp', 'ra', 'sra',\n",
       "       'ry', 'tdr', 'fuml', 'trg', 'rec', 'recy', 'tdrec', 'ret', 'rety',\n",
       "       'tdret', 'exp', 'height', 'weight', 'dob', 'dv', 'forty', 'bench',\n",
       "       'vertical', 'broad', 'shuttle', 'cone', 'arm', 'hand'],\n",
       "      dtype='object')"
      ]
     },
     "execution_count": 5,
     "metadata": {},
     "output_type": "execute_result"
    }
   ],
   "source": [
    "player.columns"
   ]
  },
  {
   "cell_type": "code",
   "execution_count": 6,
   "metadata": {},
   "outputs": [],
   "source": [
    "#convert column types to appropriate data types\n",
    "player = player.astype({'seas': 'category',\n",
    "          'wk': 'category',\n",
    "          'team': 'category',\n",
    "          'pos1': 'category',\n",
    "          'dv': 'category',\n",
    "          'exp': 'category'})"
   ]
  },
  {
   "cell_type": "markdown",
   "metadata": {},
   "source": [
    "## Cumulative Stats"
   ]
  },
  {
   "cell_type": "markdown",
   "metadata": {},
   "source": [
    "Need to lag the information by one week to see if we can predict the next week's fantasy points.<br>\n",
    "The game information can stay at the current week as long as we can know it before the week starts."
   ]
  },
  {
   "cell_type": "code",
   "execution_count": 7,
   "metadata": {},
   "outputs": [],
   "source": [
    "#sort the stats\n",
    "player_sorted = player.sort_values(by=['player', 'gid'], ascending=True)"
   ]
  },
  {
   "cell_type": "code",
   "execution_count": 8,
   "metadata": {
    "scrolled": true
   },
   "outputs": [
    {
     "data": {
      "text/html": [
       "<div>\n",
       "<style scoped>\n",
       "    .dataframe tbody tr th:only-of-type {\n",
       "        vertical-align: middle;\n",
       "    }\n",
       "\n",
       "    .dataframe tbody tr th {\n",
       "        vertical-align: top;\n",
       "    }\n",
       "\n",
       "    .dataframe thead th {\n",
       "        text-align: right;\n",
       "    }\n",
       "</style>\n",
       "<table border=\"1\" class=\"dataframe\">\n",
       "  <thead>\n",
       "    <tr style=\"text-align: right;\">\n",
       "      <th></th>\n",
       "      <th>pk</th>\n",
       "      <th>gid</th>\n",
       "      <th>seas</th>\n",
       "      <th>wk</th>\n",
       "      <th>player</th>\n",
       "      <th>fname</th>\n",
       "      <th>lname</th>\n",
       "      <th>full_name</th>\n",
       "      <th>team</th>\n",
       "      <th>pos1</th>\n",
       "      <th>...</th>\n",
       "      <th>dob</th>\n",
       "      <th>dv</th>\n",
       "      <th>forty</th>\n",
       "      <th>bench</th>\n",
       "      <th>vertical</th>\n",
       "      <th>broad</th>\n",
       "      <th>shuttle</th>\n",
       "      <th>cone</th>\n",
       "      <th>arm</th>\n",
       "      <th>hand</th>\n",
       "    </tr>\n",
       "  </thead>\n",
       "  <tbody>\n",
       "    <tr>\n",
       "      <th>74708</th>\n",
       "      <td>3999&amp;AA-0025</td>\n",
       "      <td>3999</td>\n",
       "      <td>2015</td>\n",
       "      <td>1</td>\n",
       "      <td>AA-0025</td>\n",
       "      <td>Ameer</td>\n",
       "      <td>Abdullah</td>\n",
       "      <td>Ameer Abdullah</td>\n",
       "      <td>DET</td>\n",
       "      <td>RB</td>\n",
       "      <td>...</td>\n",
       "      <td>6/13/1993</td>\n",
       "      <td>Big Ten</td>\n",
       "      <td>4.5</td>\n",
       "      <td>24</td>\n",
       "      <td>42.5</td>\n",
       "      <td>130</td>\n",
       "      <td>3.95</td>\n",
       "      <td>6.79</td>\n",
       "      <td>30.0</td>\n",
       "      <td>8.625</td>\n",
       "    </tr>\n",
       "    <tr>\n",
       "      <th>74935</th>\n",
       "      <td>4010&amp;AA-0025</td>\n",
       "      <td>4010</td>\n",
       "      <td>2015</td>\n",
       "      <td>2</td>\n",
       "      <td>AA-0025</td>\n",
       "      <td>Ameer</td>\n",
       "      <td>Abdullah</td>\n",
       "      <td>Ameer Abdullah</td>\n",
       "      <td>DET</td>\n",
       "      <td>RB</td>\n",
       "      <td>...</td>\n",
       "      <td>6/13/1993</td>\n",
       "      <td>Big Ten</td>\n",
       "      <td>4.5</td>\n",
       "      <td>24</td>\n",
       "      <td>42.5</td>\n",
       "      <td>130</td>\n",
       "      <td>3.95</td>\n",
       "      <td>6.79</td>\n",
       "      <td>30.0</td>\n",
       "      <td>8.625</td>\n",
       "    </tr>\n",
       "    <tr>\n",
       "      <th>75490</th>\n",
       "      <td>4036&amp;AA-0025</td>\n",
       "      <td>4036</td>\n",
       "      <td>2015</td>\n",
       "      <td>3</td>\n",
       "      <td>AA-0025</td>\n",
       "      <td>Ameer</td>\n",
       "      <td>Abdullah</td>\n",
       "      <td>Ameer Abdullah</td>\n",
       "      <td>DET</td>\n",
       "      <td>RB</td>\n",
       "      <td>...</td>\n",
       "      <td>6/13/1993</td>\n",
       "      <td>Big Ten</td>\n",
       "      <td>4.5</td>\n",
       "      <td>24</td>\n",
       "      <td>42.5</td>\n",
       "      <td>130</td>\n",
       "      <td>3.95</td>\n",
       "      <td>6.79</td>\n",
       "      <td>30.0</td>\n",
       "      <td>8.625</td>\n",
       "    </tr>\n",
       "    <tr>\n",
       "      <th>75814</th>\n",
       "      <td>4052&amp;AA-0025</td>\n",
       "      <td>4052</td>\n",
       "      <td>2015</td>\n",
       "      <td>4</td>\n",
       "      <td>AA-0025</td>\n",
       "      <td>Ameer</td>\n",
       "      <td>Abdullah</td>\n",
       "      <td>Ameer Abdullah</td>\n",
       "      <td>DET</td>\n",
       "      <td>RB</td>\n",
       "      <td>...</td>\n",
       "      <td>6/13/1993</td>\n",
       "      <td>Big Ten</td>\n",
       "      <td>4.5</td>\n",
       "      <td>24</td>\n",
       "      <td>42.5</td>\n",
       "      <td>130</td>\n",
       "      <td>3.95</td>\n",
       "      <td>6.79</td>\n",
       "      <td>30.0</td>\n",
       "      <td>8.625</td>\n",
       "    </tr>\n",
       "    <tr>\n",
       "      <th>76021</th>\n",
       "      <td>4062&amp;AA-0025</td>\n",
       "      <td>4062</td>\n",
       "      <td>2015</td>\n",
       "      <td>5</td>\n",
       "      <td>AA-0025</td>\n",
       "      <td>Ameer</td>\n",
       "      <td>Abdullah</td>\n",
       "      <td>Ameer Abdullah</td>\n",
       "      <td>DET</td>\n",
       "      <td>RB</td>\n",
       "      <td>...</td>\n",
       "      <td>6/13/1993</td>\n",
       "      <td>Big Ten</td>\n",
       "      <td>4.5</td>\n",
       "      <td>24</td>\n",
       "      <td>42.5</td>\n",
       "      <td>130</td>\n",
       "      <td>3.95</td>\n",
       "      <td>6.79</td>\n",
       "      <td>30.0</td>\n",
       "      <td>8.625</td>\n",
       "    </tr>\n",
       "  </tbody>\n",
       "</table>\n",
       "<p>5 rows × 41 columns</p>\n",
       "</div>"
      ],
      "text/plain": [
       "                 pk   gid  seas wk   player  fname     lname       full_name  \\\n",
       "74708  3999&AA-0025  3999  2015  1  AA-0025  Ameer  Abdullah  Ameer Abdullah   \n",
       "74935  4010&AA-0025  4010  2015  2  AA-0025  Ameer  Abdullah  Ameer Abdullah   \n",
       "75490  4036&AA-0025  4036  2015  3  AA-0025  Ameer  Abdullah  Ameer Abdullah   \n",
       "75814  4052&AA-0025  4052  2015  4  AA-0025  Ameer  Abdullah  Ameer Abdullah   \n",
       "76021  4062&AA-0025  4062  2015  5  AA-0025  Ameer  Abdullah  Ameer Abdullah   \n",
       "\n",
       "      team pos1  ...          dob       dv  forty  bench  vertical  broad  \\\n",
       "74708  DET   RB  ...    6/13/1993  Big Ten    4.5     24      42.5    130   \n",
       "74935  DET   RB  ...    6/13/1993  Big Ten    4.5     24      42.5    130   \n",
       "75490  DET   RB  ...    6/13/1993  Big Ten    4.5     24      42.5    130   \n",
       "75814  DET   RB  ...    6/13/1993  Big Ten    4.5     24      42.5    130   \n",
       "76021  DET   RB  ...    6/13/1993  Big Ten    4.5     24      42.5    130   \n",
       "\n",
       "       shuttle  cone   arm   hand  \n",
       "74708     3.95  6.79  30.0  8.625  \n",
       "74935     3.95  6.79  30.0  8.625  \n",
       "75490     3.95  6.79  30.0  8.625  \n",
       "75814     3.95  6.79  30.0  8.625  \n",
       "76021     3.95  6.79  30.0  8.625  \n",
       "\n",
       "[5 rows x 41 columns]"
      ]
     },
     "execution_count": 8,
     "metadata": {},
     "output_type": "execute_result"
    }
   ],
   "source": [
    "player_sorted.head()"
   ]
  },
  {
   "cell_type": "code",
   "execution_count": 9,
   "metadata": {},
   "outputs": [],
   "source": [
    "#unique player list\n",
    "unique_players = player_sorted['player'].unique()"
   ]
  },
  {
   "cell_type": "code",
   "execution_count": 10,
   "metadata": {},
   "outputs": [
    {
     "data": {
      "text/plain": [
       "[2015, 2016, 2017, 2018]\n",
       "Categories (4, int64): [2015, 2016, 2017, 2018]"
      ]
     },
     "execution_count": 10,
     "metadata": {},
     "output_type": "execute_result"
    }
   ],
   "source": [
    "player_sorted.loc[player_sorted['player'] == 'AA-0025', 'seas'].unique()"
   ]
  },
  {
   "cell_type": "markdown",
   "metadata": {},
   "source": [
    "#### Career stats"
   ]
  },
  {
   "cell_type": "code",
   "execution_count": 11,
   "metadata": {},
   "outputs": [],
   "source": [
    "#initialize a list to hold all cumulative stats\n",
    "cusum_stats = []"
   ]
  },
  {
   "cell_type": "code",
   "execution_count": 12,
   "metadata": {},
   "outputs": [],
   "source": [
    "#loop through all unique players and calculate cumulative stats\n",
    "for i in unique_players:\n",
    "    x = player_sorted.loc[player_sorted['player'] == i, 'pa':'tdret'].shift(1).cumsum()\n",
    "    cusum_stats.append(x)"
   ]
  },
  {
   "cell_type": "code",
   "execution_count": 13,
   "metadata": {},
   "outputs": [],
   "source": [
    "#combine all of the items in the list into 1 dataframe\n",
    "cusum_df = pd.concat(cusum_stats, axis=0)"
   ]
  },
  {
   "cell_type": "code",
   "execution_count": 14,
   "metadata": {},
   "outputs": [
    {
     "name": "stdout",
     "output_type": "stream",
     "text": [
      "94759\n",
      "94759\n"
     ]
    }
   ],
   "source": [
    "#check to see if length matches the original dataframe\n",
    "print(cusum_df.shape[0])\n",
    "print(player.shape[0])"
   ]
  },
  {
   "cell_type": "markdown",
   "metadata": {},
   "source": [
    "Proof that this method is calculating correctly (lengths match)"
   ]
  },
  {
   "cell_type": "code",
   "execution_count": 15,
   "metadata": {},
   "outputs": [],
   "source": [
    "#rename columns to add a cusum prefix\n",
    "cusum_df = cusum_df.add_prefix('cusum_')"
   ]
  },
  {
   "cell_type": "code",
   "execution_count": 16,
   "metadata": {},
   "outputs": [],
   "source": [
    "#add the cusum data to the sorted data frame\n",
    "player_sorted_cusum = pd.concat([player_sorted, cusum_df], axis=1)"
   ]
  },
  {
   "cell_type": "markdown",
   "metadata": {},
   "source": [
    "#### 4-game rolling"
   ]
  },
  {
   "cell_type": "markdown",
   "metadata": {},
   "source": [
    "4-game rolling sum for each season<br>\n",
    "Lagged by 1 week"
   ]
  },
  {
   "cell_type": "code",
   "execution_count": 17,
   "metadata": {},
   "outputs": [
    {
     "data": {
      "text/html": [
       "<div>\n",
       "<style scoped>\n",
       "    .dataframe tbody tr th:only-of-type {\n",
       "        vertical-align: middle;\n",
       "    }\n",
       "\n",
       "    .dataframe tbody tr th {\n",
       "        vertical-align: top;\n",
       "    }\n",
       "\n",
       "    .dataframe thead th {\n",
       "        text-align: right;\n",
       "    }\n",
       "</style>\n",
       "<table border=\"1\" class=\"dataframe\">\n",
       "  <thead>\n",
       "    <tr style=\"text-align: right;\">\n",
       "      <th></th>\n",
       "      <th>pk</th>\n",
       "      <th>gid</th>\n",
       "      <th>seas</th>\n",
       "      <th>wk</th>\n",
       "      <th>player</th>\n",
       "      <th>fname</th>\n",
       "      <th>lname</th>\n",
       "      <th>full_name</th>\n",
       "      <th>team</th>\n",
       "      <th>pos1</th>\n",
       "      <th>...</th>\n",
       "      <th>dob</th>\n",
       "      <th>dv</th>\n",
       "      <th>forty</th>\n",
       "      <th>bench</th>\n",
       "      <th>vertical</th>\n",
       "      <th>broad</th>\n",
       "      <th>shuttle</th>\n",
       "      <th>cone</th>\n",
       "      <th>arm</th>\n",
       "      <th>hand</th>\n",
       "    </tr>\n",
       "  </thead>\n",
       "  <tbody>\n",
       "    <tr>\n",
       "      <th>74708</th>\n",
       "      <td>3999&amp;AA-0025</td>\n",
       "      <td>3999</td>\n",
       "      <td>2015</td>\n",
       "      <td>1</td>\n",
       "      <td>AA-0025</td>\n",
       "      <td>Ameer</td>\n",
       "      <td>Abdullah</td>\n",
       "      <td>Ameer Abdullah</td>\n",
       "      <td>DET</td>\n",
       "      <td>RB</td>\n",
       "      <td>...</td>\n",
       "      <td>6/13/1993</td>\n",
       "      <td>Big Ten</td>\n",
       "      <td>4.5</td>\n",
       "      <td>24</td>\n",
       "      <td>42.5</td>\n",
       "      <td>130</td>\n",
       "      <td>3.95</td>\n",
       "      <td>6.79</td>\n",
       "      <td>30.0</td>\n",
       "      <td>8.625</td>\n",
       "    </tr>\n",
       "    <tr>\n",
       "      <th>74935</th>\n",
       "      <td>4010&amp;AA-0025</td>\n",
       "      <td>4010</td>\n",
       "      <td>2015</td>\n",
       "      <td>2</td>\n",
       "      <td>AA-0025</td>\n",
       "      <td>Ameer</td>\n",
       "      <td>Abdullah</td>\n",
       "      <td>Ameer Abdullah</td>\n",
       "      <td>DET</td>\n",
       "      <td>RB</td>\n",
       "      <td>...</td>\n",
       "      <td>6/13/1993</td>\n",
       "      <td>Big Ten</td>\n",
       "      <td>4.5</td>\n",
       "      <td>24</td>\n",
       "      <td>42.5</td>\n",
       "      <td>130</td>\n",
       "      <td>3.95</td>\n",
       "      <td>6.79</td>\n",
       "      <td>30.0</td>\n",
       "      <td>8.625</td>\n",
       "    </tr>\n",
       "    <tr>\n",
       "      <th>75490</th>\n",
       "      <td>4036&amp;AA-0025</td>\n",
       "      <td>4036</td>\n",
       "      <td>2015</td>\n",
       "      <td>3</td>\n",
       "      <td>AA-0025</td>\n",
       "      <td>Ameer</td>\n",
       "      <td>Abdullah</td>\n",
       "      <td>Ameer Abdullah</td>\n",
       "      <td>DET</td>\n",
       "      <td>RB</td>\n",
       "      <td>...</td>\n",
       "      <td>6/13/1993</td>\n",
       "      <td>Big Ten</td>\n",
       "      <td>4.5</td>\n",
       "      <td>24</td>\n",
       "      <td>42.5</td>\n",
       "      <td>130</td>\n",
       "      <td>3.95</td>\n",
       "      <td>6.79</td>\n",
       "      <td>30.0</td>\n",
       "      <td>8.625</td>\n",
       "    </tr>\n",
       "    <tr>\n",
       "      <th>75814</th>\n",
       "      <td>4052&amp;AA-0025</td>\n",
       "      <td>4052</td>\n",
       "      <td>2015</td>\n",
       "      <td>4</td>\n",
       "      <td>AA-0025</td>\n",
       "      <td>Ameer</td>\n",
       "      <td>Abdullah</td>\n",
       "      <td>Ameer Abdullah</td>\n",
       "      <td>DET</td>\n",
       "      <td>RB</td>\n",
       "      <td>...</td>\n",
       "      <td>6/13/1993</td>\n",
       "      <td>Big Ten</td>\n",
       "      <td>4.5</td>\n",
       "      <td>24</td>\n",
       "      <td>42.5</td>\n",
       "      <td>130</td>\n",
       "      <td>3.95</td>\n",
       "      <td>6.79</td>\n",
       "      <td>30.0</td>\n",
       "      <td>8.625</td>\n",
       "    </tr>\n",
       "    <tr>\n",
       "      <th>76021</th>\n",
       "      <td>4062&amp;AA-0025</td>\n",
       "      <td>4062</td>\n",
       "      <td>2015</td>\n",
       "      <td>5</td>\n",
       "      <td>AA-0025</td>\n",
       "      <td>Ameer</td>\n",
       "      <td>Abdullah</td>\n",
       "      <td>Ameer Abdullah</td>\n",
       "      <td>DET</td>\n",
       "      <td>RB</td>\n",
       "      <td>...</td>\n",
       "      <td>6/13/1993</td>\n",
       "      <td>Big Ten</td>\n",
       "      <td>4.5</td>\n",
       "      <td>24</td>\n",
       "      <td>42.5</td>\n",
       "      <td>130</td>\n",
       "      <td>3.95</td>\n",
       "      <td>6.79</td>\n",
       "      <td>30.0</td>\n",
       "      <td>8.625</td>\n",
       "    </tr>\n",
       "  </tbody>\n",
       "</table>\n",
       "<p>5 rows × 41 columns</p>\n",
       "</div>"
      ],
      "text/plain": [
       "                 pk   gid  seas wk   player  fname     lname       full_name  \\\n",
       "74708  3999&AA-0025  3999  2015  1  AA-0025  Ameer  Abdullah  Ameer Abdullah   \n",
       "74935  4010&AA-0025  4010  2015  2  AA-0025  Ameer  Abdullah  Ameer Abdullah   \n",
       "75490  4036&AA-0025  4036  2015  3  AA-0025  Ameer  Abdullah  Ameer Abdullah   \n",
       "75814  4052&AA-0025  4052  2015  4  AA-0025  Ameer  Abdullah  Ameer Abdullah   \n",
       "76021  4062&AA-0025  4062  2015  5  AA-0025  Ameer  Abdullah  Ameer Abdullah   \n",
       "\n",
       "      team pos1  ...          dob       dv  forty  bench  vertical  broad  \\\n",
       "74708  DET   RB  ...    6/13/1993  Big Ten    4.5     24      42.5    130   \n",
       "74935  DET   RB  ...    6/13/1993  Big Ten    4.5     24      42.5    130   \n",
       "75490  DET   RB  ...    6/13/1993  Big Ten    4.5     24      42.5    130   \n",
       "75814  DET   RB  ...    6/13/1993  Big Ten    4.5     24      42.5    130   \n",
       "76021  DET   RB  ...    6/13/1993  Big Ten    4.5     24      42.5    130   \n",
       "\n",
       "       shuttle  cone   arm   hand  \n",
       "74708     3.95  6.79  30.0  8.625  \n",
       "74935     3.95  6.79  30.0  8.625  \n",
       "75490     3.95  6.79  30.0  8.625  \n",
       "75814     3.95  6.79  30.0  8.625  \n",
       "76021     3.95  6.79  30.0  8.625  \n",
       "\n",
       "[5 rows x 41 columns]"
      ]
     },
     "execution_count": 17,
     "metadata": {},
     "output_type": "execute_result"
    }
   ],
   "source": [
    "player_sorted.head()"
   ]
  },
  {
   "cell_type": "code",
   "execution_count": 18,
   "metadata": {},
   "outputs": [],
   "source": [
    "#initialize a list to hold each players rolling sum\n",
    "recent_stats = []"
   ]
  },
  {
   "cell_type": "code",
   "execution_count": 19,
   "metadata": {},
   "outputs": [],
   "source": [
    "#loop thru each unique player calculating rolling sum\n",
    "for i in unique_players:\n",
    "    interim_df = player_sorted.loc[player_sorted['player'] == i, :]\n",
    "    unique_seas = interim_df['seas'].unique()\n",
    "    for s in unique_seas:\n",
    "        s_stat = interim_df.loc[interim_df['seas'] == s, 'pa':'tdret'].shift(1).rolling(window=4, min_periods=1).sum()\n",
    "        recent_stats.append(s_stat)"
   ]
  },
  {
   "cell_type": "code",
   "execution_count": 20,
   "metadata": {},
   "outputs": [],
   "source": [
    "#combine the items in the recent stats list\n",
    "recent_df = pd.concat(recent_stats, axis=0)"
   ]
  },
  {
   "cell_type": "code",
   "execution_count": 21,
   "metadata": {},
   "outputs": [
    {
     "name": "stdout",
     "output_type": "stream",
     "text": [
      "94759\n",
      "94759\n"
     ]
    }
   ],
   "source": [
    "#make sure lengths match the original\n",
    "print(recent_df.shape[0])\n",
    "print(player.shape[0])"
   ]
  },
  {
   "cell_type": "code",
   "execution_count": 22,
   "metadata": {},
   "outputs": [],
   "source": [
    "#rename columns to add a recent prefix\n",
    "recent_df = recent_df.add_prefix('recent_')"
   ]
  },
  {
   "cell_type": "code",
   "execution_count": 23,
   "metadata": {},
   "outputs": [],
   "source": [
    "#add the recent stats columns to the sorted data frame\n",
    "player_rolling_sort = pd.concat([player_sorted_cusum, recent_df], axis=1)"
   ]
  },
  {
   "cell_type": "markdown",
   "metadata": {},
   "source": [
    "#### Season stats"
   ]
  },
  {
   "cell_type": "markdown",
   "metadata": {},
   "source": [
    "Calculate the rolling seasonal stats"
   ]
  },
  {
   "cell_type": "code",
   "execution_count": 24,
   "metadata": {},
   "outputs": [],
   "source": [
    "#store columns to identify the columns (these will be used for grouping a second time)\n",
    "identifiers = player_sorted.loc[:, ['pk', 'player', 'seas', 'wk']]"
   ]
  },
  {
   "cell_type": "code",
   "execution_count": 25,
   "metadata": {
    "scrolled": false
   },
   "outputs": [],
   "source": [
    "#group by player and season so that when the shift is applied, we lag by 1 week for each player each season\n",
    "seas_grouped_shift = player_sorted.groupby(by=['player', 'seas'], as_index=True).shift(1).loc[:, 'pa':'tdret']"
   ]
  },
  {
   "cell_type": "code",
   "execution_count": 26,
   "metadata": {},
   "outputs": [],
   "source": [
    "#add the identifying features to the shifted dataframe\n",
    "#store as an interim dataframe because NaN's will need to be removed\n",
    "seas_interim = pd.concat([identifiers, seas_grouped_shift], axis=1)"
   ]
  },
  {
   "cell_type": "code",
   "execution_count": 27,
   "metadata": {},
   "outputs": [],
   "source": [
    "#remove the NaN rows (the lagged rows)\n",
    "seas_clean = seas_interim[seas_interim.notna().all(axis=1)]"
   ]
  },
  {
   "cell_type": "code",
   "execution_count": 28,
   "metadata": {},
   "outputs": [],
   "source": [
    "#group and calculate the season totals\n",
    "seas_stats_no_pk = seas_clean.groupby(by=['player', 'seas']).cumsum().add_prefix('seas_')"
   ]
  },
  {
   "cell_type": "code",
   "execution_count": 29,
   "metadata": {},
   "outputs": [],
   "source": [
    "#add identifying feature so the merge to the full dataframe will work\n",
    "seas_stats = pd.concat([seas_clean['pk'], seas_stats_no_pk], axis=1)"
   ]
  },
  {
   "cell_type": "code",
   "execution_count": 30,
   "metadata": {},
   "outputs": [],
   "source": [
    "#add the season rolling stats to the full dataframe\n",
    "player_rolling_sort = player_rolling_sort.merge(seas_stats, on='pk', how='left')"
   ]
  },
  {
   "cell_type": "markdown",
   "metadata": {},
   "source": [
    "## Add other features"
   ]
  },
  {
   "cell_type": "code",
   "execution_count": 31,
   "metadata": {},
   "outputs": [
    {
     "data": {
      "text/plain": [
       "Index(['pk', 'gid', 'seas', 'wk', 'player', 'fname', 'lname', 'full_name',\n",
       "       'team', 'pos1', 'nflid', 'pa', 'pc', 'py', 'ints', 'tdp', 'ra', 'sra',\n",
       "       'ry', 'tdr', 'fuml', 'trg', 'rec', 'recy', 'tdrec', 'ret', 'rety',\n",
       "       'tdret', 'exp', 'height', 'weight', 'dob', 'dv', 'forty', 'bench',\n",
       "       'vertical', 'broad', 'shuttle', 'cone', 'arm', 'hand', 'cusum_pa',\n",
       "       'cusum_pc', 'cusum_py', 'cusum_ints', 'cusum_tdp', 'cusum_ra',\n",
       "       'cusum_sra', 'cusum_ry', 'cusum_tdr', 'cusum_fuml', 'cusum_trg',\n",
       "       'cusum_rec', 'cusum_recy', 'cusum_tdrec', 'cusum_ret', 'cusum_rety',\n",
       "       'cusum_tdret', 'recent_pa', 'recent_pc', 'recent_py', 'recent_ints',\n",
       "       'recent_tdp', 'recent_ra', 'recent_sra', 'recent_ry', 'recent_tdr',\n",
       "       'recent_fuml', 'recent_trg', 'recent_rec', 'recent_recy',\n",
       "       'recent_tdrec', 'recent_ret', 'recent_rety', 'recent_tdret', 'seas_pa',\n",
       "       'seas_pc', 'seas_py', 'seas_ints', 'seas_tdp', 'seas_ra', 'seas_sra',\n",
       "       'seas_ry', 'seas_tdr', 'seas_fuml', 'seas_trg', 'seas_rec', 'seas_recy',\n",
       "       'seas_tdrec', 'seas_ret', 'seas_rety', 'seas_tdret'],\n",
       "      dtype='object')"
      ]
     },
     "execution_count": 31,
     "metadata": {},
     "output_type": "execute_result"
    }
   ],
   "source": [
    "player_rolling_sort.columns"
   ]
  },
  {
   "cell_type": "markdown",
   "metadata": {},
   "source": [
    "##### Function to calculate various ratio stats for all cumulative versions (i.e. career, season, 4-game, etc.)"
   ]
  },
  {
   "cell_type": "code",
   "execution_count": 32,
   "metadata": {},
   "outputs": [],
   "source": [
    "def ratio_stat(num_col, denom_col, new_col, data=player_rolling_sort):\n",
    "    #career stat calc\n",
    "    career_col = data['cusum_' + num_col] / data['cusum_' + denom_col]\n",
    "    #season stat calc\n",
    "    seas_col = data['seas_' + num_col] / data['seas_' + denom_col]\n",
    "    #rolling game stat calc\n",
    "    rolling_col = data['recent_' + num_col] / data['recent_' + denom_col]\n",
    "    \n",
    "    #concate the series together\n",
    "    added_df = pd.concat([data, career_col, seas_col, rolling_col], axis=1)\n",
    "    added_df.rename(columns={0: 'career_'+new_col,\n",
    "                             1: 'seas_'+new_col,\n",
    "                             2: 'roll_'+new_col}, inplace=True)\n",
    "    \n",
    "    return added_df"
   ]
  },
  {
   "cell_type": "markdown",
   "metadata": {},
   "source": [
    "### Passing summaries"
   ]
  },
  {
   "cell_type": "code",
   "execution_count": 33,
   "metadata": {},
   "outputs": [],
   "source": [
    "#Passing completion\n",
    "player_rolling_sort = ratio_stat('pc', 'pa', 'comp_pct', data=player_rolling_sort)"
   ]
  },
  {
   "cell_type": "code",
   "execution_count": 34,
   "metadata": {},
   "outputs": [],
   "source": [
    "#touchdown to interception ratio\n",
    "player_rolling_sort = ratio_stat('tdp', 'ints', 'td_to_int', data=player_rolling_sort)"
   ]
  },
  {
   "cell_type": "code",
   "execution_count": 35,
   "metadata": {},
   "outputs": [],
   "source": [
    "#Passing yards per completion\n",
    "player_rolling_sort = ratio_stat('py', 'pc', 'yds_per_comp', data=player_rolling_sort)"
   ]
  },
  {
   "cell_type": "markdown",
   "metadata": {},
   "source": [
    "### Running summaries"
   ]
  },
  {
   "cell_type": "code",
   "execution_count": 36,
   "metadata": {},
   "outputs": [],
   "source": [
    "#Yards per rush\n",
    "player_rolling_sort = ratio_stat('ry', 'ra', 'ryds_per_carry', data=player_rolling_sort)"
   ]
  },
  {
   "cell_type": "code",
   "execution_count": 37,
   "metadata": {},
   "outputs": [],
   "source": [
    "#Carries to touchdown ratio\n",
    "player_rolling_sort = ratio_stat('ra', 'tdr', 'carry_to_td', data=player_rolling_sort)"
   ]
  },
  {
   "cell_type": "code",
   "execution_count": 38,
   "metadata": {},
   "outputs": [],
   "source": [
    "#Carries to fumbles lost ratio\n",
    "player_rolling_sort = ratio_stat('ra', 'fuml', 'carry_to_fuml', data=player_rolling_sort)"
   ]
  },
  {
   "cell_type": "markdown",
   "metadata": {},
   "source": [
    "### Receiving stats"
   ]
  },
  {
   "cell_type": "code",
   "execution_count": 39,
   "metadata": {},
   "outputs": [],
   "source": [
    "#catch percent (catches/targets)\n",
    "player_rolling_sort = ratio_stat('rec', 'trg', 'catch_pct', data=player_rolling_sort)"
   ]
  },
  {
   "cell_type": "code",
   "execution_count": 40,
   "metadata": {},
   "outputs": [],
   "source": [
    "#yards per catch\n",
    "player_rolling_sort = ratio_stat('recy', 'rec', 'yds_per_rec', data=player_rolling_sort)"
   ]
  },
  {
   "cell_type": "code",
   "execution_count": 41,
   "metadata": {},
   "outputs": [],
   "source": [
    "#rec to td's\n",
    "player_rolling_sort = ratio_stat('rec', 'tdrec', 'rec_to_td', data=player_rolling_sort)"
   ]
  },
  {
   "cell_type": "markdown",
   "metadata": {},
   "source": [
    "### Return stats"
   ]
  },
  {
   "cell_type": "code",
   "execution_count": 42,
   "metadata": {},
   "outputs": [],
   "source": [
    "#average return yards\n",
    "player_rolling_sort = ratio_stat('rety', 'ret', 'avg_ret', data=player_rolling_sort)"
   ]
  },
  {
   "cell_type": "code",
   "execution_count": 43,
   "metadata": {},
   "outputs": [],
   "source": [
    "#returns to td's\n",
    "player_rolling_sort = ratio_stat('ret', 'tdret', 'ret_to_td', data=player_rolling_sort)"
   ]
  },
  {
   "cell_type": "markdown",
   "metadata": {},
   "source": [
    "### Age"
   ]
  },
  {
   "cell_type": "code",
   "execution_count": 44,
   "metadata": {},
   "outputs": [],
   "source": [
    "#strip out the year from DOB\n",
    "dob_year = player_rolling_sort['dob'].apply(lambda x: int(str(x[-4:])))"
   ]
  },
  {
   "cell_type": "code",
   "execution_count": 45,
   "metadata": {},
   "outputs": [],
   "source": [
    "#add age to dataframe\n",
    "player_rolling_sort['age'] = player_rolling_sort['seas'].astype(int) - dob_year"
   ]
  },
  {
   "cell_type": "code",
   "execution_count": 46,
   "metadata": {},
   "outputs": [
    {
     "data": {
      "text/plain": [
       "0    22\n",
       "1    22\n",
       "2    22\n",
       "3    22\n",
       "4    22\n",
       "Name: age, dtype: int64"
      ]
     },
     "execution_count": 46,
     "metadata": {},
     "output_type": "execute_result"
    }
   ],
   "source": [
    "#check\n",
    "player_rolling_sort['age'].head()"
   ]
  },
  {
   "cell_type": "markdown",
   "metadata": {},
   "source": [
    "### Final checks"
   ]
  },
  {
   "cell_type": "code",
   "execution_count": 47,
   "metadata": {
    "scrolled": false
   },
   "outputs": [
    {
     "name": "stdout",
     "output_type": "stream",
     "text": [
      "pk\n",
      "gid\n",
      "seas\n",
      "wk\n",
      "player\n",
      "fname\n",
      "lname\n",
      "full_name\n",
      "team\n",
      "pos1\n",
      "nflid\n",
      "pa\n",
      "pc\n",
      "py\n",
      "ints\n",
      "tdp\n",
      "ra\n",
      "sra\n",
      "ry\n",
      "tdr\n",
      "fuml\n",
      "trg\n",
      "rec\n",
      "recy\n",
      "tdrec\n",
      "ret\n",
      "rety\n",
      "tdret\n",
      "exp\n",
      "height\n",
      "weight\n",
      "dob\n",
      "dv\n",
      "forty\n",
      "bench\n",
      "vertical\n",
      "broad\n",
      "shuttle\n",
      "cone\n",
      "arm\n",
      "hand\n",
      "cusum_pa\n",
      "cusum_pc\n",
      "cusum_py\n",
      "cusum_ints\n",
      "cusum_tdp\n",
      "cusum_ra\n",
      "cusum_sra\n",
      "cusum_ry\n",
      "cusum_tdr\n",
      "cusum_fuml\n",
      "cusum_trg\n",
      "cusum_rec\n",
      "cusum_recy\n",
      "cusum_tdrec\n",
      "cusum_ret\n",
      "cusum_rety\n",
      "cusum_tdret\n",
      "recent_pa\n",
      "recent_pc\n",
      "recent_py\n",
      "recent_ints\n",
      "recent_tdp\n",
      "recent_ra\n",
      "recent_sra\n",
      "recent_ry\n",
      "recent_tdr\n",
      "recent_fuml\n",
      "recent_trg\n",
      "recent_rec\n",
      "recent_recy\n",
      "recent_tdrec\n",
      "recent_ret\n",
      "recent_rety\n",
      "recent_tdret\n",
      "seas_pa\n",
      "seas_pc\n",
      "seas_py\n",
      "seas_ints\n",
      "seas_tdp\n",
      "seas_ra\n",
      "seas_sra\n",
      "seas_ry\n",
      "seas_tdr\n",
      "seas_fuml\n",
      "seas_trg\n",
      "seas_rec\n",
      "seas_recy\n",
      "seas_tdrec\n",
      "seas_ret\n",
      "seas_rety\n",
      "seas_tdret\n",
      "career_comp_pct\n",
      "seas_comp_pct\n",
      "roll_comp_pct\n",
      "career_td_to_int\n",
      "seas_td_to_int\n",
      "roll_td_to_int\n",
      "career_yds_per_comp\n",
      "seas_yds_per_comp\n",
      "roll_yds_per_comp\n",
      "career_ryds_per_carry\n",
      "seas_ryds_per_carry\n",
      "roll_ryds_per_carry\n",
      "career_carry_to_td\n",
      "seas_carry_to_td\n",
      "roll_carry_to_td\n",
      "career_carry_to_fuml\n",
      "seas_carry_to_fuml\n",
      "roll_carry_to_fuml\n",
      "career_catch_pct\n",
      "seas_catch_pct\n",
      "roll_catch_pct\n",
      "career_yds_per_rec\n",
      "seas_yds_per_rec\n",
      "roll_yds_per_rec\n",
      "career_rec_to_td\n",
      "seas_rec_to_td\n",
      "roll_rec_to_td\n",
      "career_avg_ret\n",
      "seas_avg_ret\n",
      "roll_avg_ret\n",
      "career_ret_to_td\n",
      "seas_ret_to_td\n",
      "roll_ret_to_td\n",
      "age\n"
     ]
    }
   ],
   "source": [
    "for i in player_rolling_sort.columns: print(i)"
   ]
  },
  {
   "cell_type": "code",
   "execution_count": 48,
   "metadata": {},
   "outputs": [
    {
     "data": {
      "text/plain": [
       "0.5866666666666667"
      ]
     },
     "execution_count": 48,
     "metadata": {},
     "output_type": "execute_result"
    }
   ],
   "source": [
    "#percentage of players that played in more than xx games\n",
    "game_thres = 10\n",
    "sum(player_rolling_sort.groupby(by='player')['gid'].count() > game_thres) / len(player_rolling_sort.groupby(by='player')['gid'].count())"
   ]
  },
  {
   "cell_type": "markdown",
   "metadata": {},
   "source": [
    "## Game features"
   ]
  },
  {
   "cell_type": "markdown",
   "metadata": {},
   "source": [
    "### Read in data"
   ]
  },
  {
   "cell_type": "code",
   "execution_count": 49,
   "metadata": {},
   "outputs": [],
   "source": [
    "game = pd.read_csv('https://raw.githubusercontent.com/jchristo12/fantasy_football/master/data/predictor/game.csv')"
   ]
  },
  {
   "cell_type": "code",
   "execution_count": 50,
   "metadata": {},
   "outputs": [],
   "source": [
    "#change the data types to the correct format\n",
    "game = game.astype({'v': 'category',\n",
    "                   'h': 'category',\n",
    "                   'day': 'category',\n",
    "                   'cond': 'category',\n",
    "                   'stad': 'category',\n",
    "                   'wdir': 'category',\n",
    "                   'surf': 'category'})"
   ]
  },
  {
   "cell_type": "code",
   "execution_count": 51,
   "metadata": {},
   "outputs": [
    {
     "data": {
      "text/html": [
       "<div>\n",
       "<style scoped>\n",
       "    .dataframe tbody tr th:only-of-type {\n",
       "        vertical-align: middle;\n",
       "    }\n",
       "\n",
       "    .dataframe tbody tr th {\n",
       "        vertical-align: top;\n",
       "    }\n",
       "\n",
       "    .dataframe thead th {\n",
       "        text-align: right;\n",
       "    }\n",
       "</style>\n",
       "<table border=\"1\" class=\"dataframe\">\n",
       "  <thead>\n",
       "    <tr style=\"text-align: right;\">\n",
       "      <th></th>\n",
       "      <th>gid</th>\n",
       "      <th>v</th>\n",
       "      <th>h</th>\n",
       "      <th>day</th>\n",
       "      <th>cond</th>\n",
       "      <th>stad</th>\n",
       "      <th>temp</th>\n",
       "      <th>wdir</th>\n",
       "      <th>surf</th>\n",
       "      <th>humd</th>\n",
       "      <th>ou</th>\n",
       "      <th>sprv</th>\n",
       "      <th>ptsv</th>\n",
       "      <th>ptsh</th>\n",
       "    </tr>\n",
       "  </thead>\n",
       "  <tbody>\n",
       "    <tr>\n",
       "      <th>0</th>\n",
       "      <td>1</td>\n",
       "      <td>SF</td>\n",
       "      <td>ATL</td>\n",
       "      <td>SUN</td>\n",
       "      <td>Dome</td>\n",
       "      <td>Georgia Dome</td>\n",
       "      <td>79.0</td>\n",
       "      <td>NaN</td>\n",
       "      <td>AstroTurf</td>\n",
       "      <td>NaN</td>\n",
       "      <td>42.5</td>\n",
       "      <td>7.0</td>\n",
       "      <td>28</td>\n",
       "      <td>36</td>\n",
       "    </tr>\n",
       "    <tr>\n",
       "      <th>1</th>\n",
       "      <td>2</td>\n",
       "      <td>JAC</td>\n",
       "      <td>CLE</td>\n",
       "      <td>SUN</td>\n",
       "      <td>Sunny</td>\n",
       "      <td>Cleveland Browns Stadium</td>\n",
       "      <td>78.0</td>\n",
       "      <td>NE</td>\n",
       "      <td>Grass</td>\n",
       "      <td>63.0</td>\n",
       "      <td>38.0</td>\n",
       "      <td>-10.0</td>\n",
       "      <td>27</td>\n",
       "      <td>7</td>\n",
       "    </tr>\n",
       "    <tr>\n",
       "      <th>2</th>\n",
       "      <td>3</td>\n",
       "      <td>PHI</td>\n",
       "      <td>DAL</td>\n",
       "      <td>SUN</td>\n",
       "      <td>Sunny</td>\n",
       "      <td>Texas Stadium</td>\n",
       "      <td>109.0</td>\n",
       "      <td>S</td>\n",
       "      <td>AstroTurf</td>\n",
       "      <td>19.0</td>\n",
       "      <td>40.0</td>\n",
       "      <td>6.0</td>\n",
       "      <td>41</td>\n",
       "      <td>14</td>\n",
       "    </tr>\n",
       "    <tr>\n",
       "      <th>3</th>\n",
       "      <td>4</td>\n",
       "      <td>NYJ</td>\n",
       "      <td>GB</td>\n",
       "      <td>SUN</td>\n",
       "      <td>Mostly Cloudy</td>\n",
       "      <td>Lambeau Field</td>\n",
       "      <td>77.0</td>\n",
       "      <td>E</td>\n",
       "      <td>Grass</td>\n",
       "      <td>66.0</td>\n",
       "      <td>36.0</td>\n",
       "      <td>2.5</td>\n",
       "      <td>20</td>\n",
       "      <td>16</td>\n",
       "    </tr>\n",
       "    <tr>\n",
       "      <th>4</th>\n",
       "      <td>5</td>\n",
       "      <td>IND</td>\n",
       "      <td>KC</td>\n",
       "      <td>SUN</td>\n",
       "      <td>Mostly Sunny</td>\n",
       "      <td>Arrowhead Stadium</td>\n",
       "      <td>90.0</td>\n",
       "      <td>E</td>\n",
       "      <td>Grass</td>\n",
       "      <td>50.0</td>\n",
       "      <td>44.0</td>\n",
       "      <td>-3.0</td>\n",
       "      <td>27</td>\n",
       "      <td>14</td>\n",
       "    </tr>\n",
       "  </tbody>\n",
       "</table>\n",
       "</div>"
      ],
      "text/plain": [
       "   gid    v    h  day           cond                      stad   temp wdir  \\\n",
       "0    1   SF  ATL  SUN           Dome              Georgia Dome   79.0  NaN   \n",
       "1    2  JAC  CLE  SUN          Sunny  Cleveland Browns Stadium   78.0   NE   \n",
       "2    3  PHI  DAL  SUN          Sunny             Texas Stadium  109.0    S   \n",
       "3    4  NYJ   GB  SUN  Mostly Cloudy             Lambeau Field   77.0    E   \n",
       "4    5  IND   KC  SUN   Mostly Sunny         Arrowhead Stadium   90.0    E   \n",
       "\n",
       "        surf  humd    ou  sprv  ptsv  ptsh  \n",
       "0  AstroTurf   NaN  42.5   7.0    28    36  \n",
       "1      Grass  63.0  38.0 -10.0    27     7  \n",
       "2  AstroTurf  19.0  40.0   6.0    41    14  \n",
       "3      Grass  66.0  36.0   2.5    20    16  \n",
       "4      Grass  50.0  44.0  -3.0    27    14  "
      ]
     },
     "execution_count": 51,
     "metadata": {},
     "output_type": "execute_result"
    }
   ],
   "source": [
    "game.head()"
   ]
  },
  {
   "cell_type": "markdown",
   "metadata": {},
   "source": [
    "### Feature creation"
   ]
  },
  {
   "cell_type": "markdown",
   "metadata": {},
   "source": [
    "#### Underdog feature"
   ]
  },
  {
   "cell_type": "code",
   "execution_count": 52,
   "metadata": {},
   "outputs": [],
   "source": [
    "#add underdog category\n",
    "game['udog'] = pd.Series(np.where(game['sprv'] > 0, game['v'], game['h']))\n",
    "game = game.astype({'udog': 'category'})"
   ]
  },
  {
   "cell_type": "code",
   "execution_count": 53,
   "metadata": {},
   "outputs": [
    {
     "data": {
      "text/html": [
       "<div>\n",
       "<style scoped>\n",
       "    .dataframe tbody tr th:only-of-type {\n",
       "        vertical-align: middle;\n",
       "    }\n",
       "\n",
       "    .dataframe tbody tr th {\n",
       "        vertical-align: top;\n",
       "    }\n",
       "\n",
       "    .dataframe thead th {\n",
       "        text-align: right;\n",
       "    }\n",
       "</style>\n",
       "<table border=\"1\" class=\"dataframe\">\n",
       "  <thead>\n",
       "    <tr style=\"text-align: right;\">\n",
       "      <th></th>\n",
       "      <th>gid</th>\n",
       "      <th>v</th>\n",
       "      <th>h</th>\n",
       "      <th>day</th>\n",
       "      <th>cond</th>\n",
       "      <th>stad</th>\n",
       "      <th>temp</th>\n",
       "      <th>wdir</th>\n",
       "      <th>surf</th>\n",
       "      <th>humd</th>\n",
       "      <th>ou</th>\n",
       "      <th>sprv</th>\n",
       "      <th>ptsv</th>\n",
       "      <th>ptsh</th>\n",
       "      <th>udog</th>\n",
       "    </tr>\n",
       "  </thead>\n",
       "  <tbody>\n",
       "    <tr>\n",
       "      <th>0</th>\n",
       "      <td>1</td>\n",
       "      <td>SF</td>\n",
       "      <td>ATL</td>\n",
       "      <td>SUN</td>\n",
       "      <td>Dome</td>\n",
       "      <td>Georgia Dome</td>\n",
       "      <td>79.0</td>\n",
       "      <td>NaN</td>\n",
       "      <td>AstroTurf</td>\n",
       "      <td>NaN</td>\n",
       "      <td>42.5</td>\n",
       "      <td>7.0</td>\n",
       "      <td>28</td>\n",
       "      <td>36</td>\n",
       "      <td>SF</td>\n",
       "    </tr>\n",
       "    <tr>\n",
       "      <th>1</th>\n",
       "      <td>2</td>\n",
       "      <td>JAC</td>\n",
       "      <td>CLE</td>\n",
       "      <td>SUN</td>\n",
       "      <td>Sunny</td>\n",
       "      <td>Cleveland Browns Stadium</td>\n",
       "      <td>78.0</td>\n",
       "      <td>NE</td>\n",
       "      <td>Grass</td>\n",
       "      <td>63.0</td>\n",
       "      <td>38.0</td>\n",
       "      <td>-10.0</td>\n",
       "      <td>27</td>\n",
       "      <td>7</td>\n",
       "      <td>CLE</td>\n",
       "    </tr>\n",
       "    <tr>\n",
       "      <th>2</th>\n",
       "      <td>3</td>\n",
       "      <td>PHI</td>\n",
       "      <td>DAL</td>\n",
       "      <td>SUN</td>\n",
       "      <td>Sunny</td>\n",
       "      <td>Texas Stadium</td>\n",
       "      <td>109.0</td>\n",
       "      <td>S</td>\n",
       "      <td>AstroTurf</td>\n",
       "      <td>19.0</td>\n",
       "      <td>40.0</td>\n",
       "      <td>6.0</td>\n",
       "      <td>41</td>\n",
       "      <td>14</td>\n",
       "      <td>PHI</td>\n",
       "    </tr>\n",
       "    <tr>\n",
       "      <th>3</th>\n",
       "      <td>4</td>\n",
       "      <td>NYJ</td>\n",
       "      <td>GB</td>\n",
       "      <td>SUN</td>\n",
       "      <td>Mostly Cloudy</td>\n",
       "      <td>Lambeau Field</td>\n",
       "      <td>77.0</td>\n",
       "      <td>E</td>\n",
       "      <td>Grass</td>\n",
       "      <td>66.0</td>\n",
       "      <td>36.0</td>\n",
       "      <td>2.5</td>\n",
       "      <td>20</td>\n",
       "      <td>16</td>\n",
       "      <td>NYJ</td>\n",
       "    </tr>\n",
       "    <tr>\n",
       "      <th>4</th>\n",
       "      <td>5</td>\n",
       "      <td>IND</td>\n",
       "      <td>KC</td>\n",
       "      <td>SUN</td>\n",
       "      <td>Mostly Sunny</td>\n",
       "      <td>Arrowhead Stadium</td>\n",
       "      <td>90.0</td>\n",
       "      <td>E</td>\n",
       "      <td>Grass</td>\n",
       "      <td>50.0</td>\n",
       "      <td>44.0</td>\n",
       "      <td>-3.0</td>\n",
       "      <td>27</td>\n",
       "      <td>14</td>\n",
       "      <td>KC</td>\n",
       "    </tr>\n",
       "  </tbody>\n",
       "</table>\n",
       "</div>"
      ],
      "text/plain": [
       "   gid    v    h  day           cond                      stad   temp wdir  \\\n",
       "0    1   SF  ATL  SUN           Dome              Georgia Dome   79.0  NaN   \n",
       "1    2  JAC  CLE  SUN          Sunny  Cleveland Browns Stadium   78.0   NE   \n",
       "2    3  PHI  DAL  SUN          Sunny             Texas Stadium  109.0    S   \n",
       "3    4  NYJ   GB  SUN  Mostly Cloudy             Lambeau Field   77.0    E   \n",
       "4    5  IND   KC  SUN   Mostly Sunny         Arrowhead Stadium   90.0    E   \n",
       "\n",
       "        surf  humd    ou  sprv  ptsv  ptsh udog  \n",
       "0  AstroTurf   NaN  42.5   7.0    28    36   SF  \n",
       "1      Grass  63.0  38.0 -10.0    27     7  CLE  \n",
       "2  AstroTurf  19.0  40.0   6.0    41    14  PHI  \n",
       "3      Grass  66.0  36.0   2.5    20    16  NYJ  \n",
       "4      Grass  50.0  44.0  -3.0    27    14   KC  "
      ]
     },
     "execution_count": 53,
     "metadata": {},
     "output_type": "execute_result"
    }
   ],
   "source": [
    "game.head()"
   ]
  },
  {
   "cell_type": "code",
   "execution_count": 54,
   "metadata": {
    "scrolled": true
   },
   "outputs": [
    {
     "data": {
      "text/plain": [
       "udog\n",
       "CLE    242\n",
       "DET    205\n",
       "OAK    203\n",
       "ARI    202\n",
       "WAS    198\n",
       "JAC    197\n",
       "BUF    196\n",
       "MIA    185\n",
       "SF     183\n",
       "CHI    180\n",
       "NYJ    179\n",
       "TB     177\n",
       "CIN    172\n",
       "HOU    169\n",
       "CAR    159\n",
       "KC     156\n",
       "TEN    155\n",
       "MIN    153\n",
       "NYG    152\n",
       "ATL    150\n",
       "STL    147\n",
       "SEA    143\n",
       "DAL    139\n",
       "SD     134\n",
       "BAL    127\n",
       "NO     121\n",
       "PHI    115\n",
       "GB     109\n",
       "IND    109\n",
       "DEN    107\n",
       "PIT     90\n",
       "NE      71\n",
       "LA      20\n",
       "LAC     12\n",
       "Name: sprv, dtype: int64"
      ]
     },
     "execution_count": 54,
     "metadata": {},
     "output_type": "execute_result"
    }
   ],
   "source": [
    "#count how many times each team has been an underdog\n",
    "tot_udog = game.groupby(by='udog')['sprv'].count().sort_values(ascending=False)\n",
    "tot_udog"
   ]
  },
  {
   "cell_type": "markdown",
   "metadata": {},
   "source": [
    "#### Remap condition categories"
   ]
  },
  {
   "cell_type": "markdown",
   "metadata": {},
   "source": [
    "There are too many categories and too many that are similar. Want to map the categories to a smaller number for analysis."
   ]
  },
  {
   "cell_type": "code",
   "execution_count": 55,
   "metadata": {},
   "outputs": [],
   "source": [
    "#game.groupby('cond').cond.count()"
   ]
  },
  {
   "cell_type": "code",
   "execution_count": 56,
   "metadata": {},
   "outputs": [],
   "source": [
    "#dictionary of general conditions\n",
    "general_cond = {'indoor_cond': ['Closed Roof', 'Covered Roof', 'Dome'], \n",
    "                'percip_cond': ['Flurries', 'Light Rain', 'Light Showers', 'Light Snow',\n",
    "                                'Rain', 'Showers', 'Snow', 'Thunderstorms', 'Chance Rain'],\n",
    "                'fair_cond': ['Clear', 'Sunny', 'Cloudy', 'Cold', 'Fair', 'Foggy', 'Hazy', 'Mostly Cloudy',\n",
    "                              'Mostly Sunny', 'Overcast', 'Partly Cloudy', 'Partly CLoudy', 'Partly Sunny',\n",
    "                              'Sunny', 'Windy']}\n"
   ]
  },
  {
   "cell_type": "code",
   "execution_count": 57,
   "metadata": {},
   "outputs": [],
   "source": [
    "#map the keys to each value to be used in category creation\n",
    "general_cond_flipped = {old: new for new, old_all in general_cond.items() for old in old_all}"
   ]
  },
  {
   "cell_type": "code",
   "execution_count": 58,
   "metadata": {
    "scrolled": false
   },
   "outputs": [],
   "source": [
    "#create a general conditions feature\n",
    "game['gen_cond'] = game['cond'].apply(lambda x: general_cond_flipped[x])"
   ]
  },
  {
   "cell_type": "markdown",
   "metadata": {},
   "source": [
    "### Combine data"
   ]
  },
  {
   "cell_type": "code",
   "execution_count": 67,
   "metadata": {},
   "outputs": [],
   "source": [
    "#combine game and offensive player data\n",
    "player_game = player_rolling_sort.merge(game, how='left', on='gid', suffixes=('_poff', '_game'))"
   ]
  },
  {
   "cell_type": "code",
   "execution_count": 68,
   "metadata": {},
   "outputs": [
    {
     "data": {
      "text/html": [
       "<div>\n",
       "<style scoped>\n",
       "    .dataframe tbody tr th:only-of-type {\n",
       "        vertical-align: middle;\n",
       "    }\n",
       "\n",
       "    .dataframe tbody tr th {\n",
       "        vertical-align: top;\n",
       "    }\n",
       "\n",
       "    .dataframe thead th {\n",
       "        text-align: right;\n",
       "    }\n",
       "</style>\n",
       "<table border=\"1\" class=\"dataframe\">\n",
       "  <thead>\n",
       "    <tr style=\"text-align: right;\">\n",
       "      <th></th>\n",
       "      <th>pk</th>\n",
       "      <th>gid</th>\n",
       "      <th>seas</th>\n",
       "      <th>wk</th>\n",
       "      <th>player</th>\n",
       "      <th>fname</th>\n",
       "      <th>lname</th>\n",
       "      <th>full_name</th>\n",
       "      <th>team</th>\n",
       "      <th>pos1</th>\n",
       "      <th>...</th>\n",
       "      <th>temp</th>\n",
       "      <th>wdir</th>\n",
       "      <th>surf</th>\n",
       "      <th>humd</th>\n",
       "      <th>ou</th>\n",
       "      <th>sprv</th>\n",
       "      <th>ptsv</th>\n",
       "      <th>ptsh</th>\n",
       "      <th>udog</th>\n",
       "      <th>gen_cond</th>\n",
       "    </tr>\n",
       "  </thead>\n",
       "  <tbody>\n",
       "    <tr>\n",
       "      <th>0</th>\n",
       "      <td>3999&amp;AA-0025</td>\n",
       "      <td>3999</td>\n",
       "      <td>2015</td>\n",
       "      <td>1</td>\n",
       "      <td>AA-0025</td>\n",
       "      <td>Ameer</td>\n",
       "      <td>Abdullah</td>\n",
       "      <td>Ameer Abdullah</td>\n",
       "      <td>DET</td>\n",
       "      <td>RB</td>\n",
       "      <td>...</td>\n",
       "      <td>84.0</td>\n",
       "      <td>WSW</td>\n",
       "      <td>Grass</td>\n",
       "      <td>47.0</td>\n",
       "      <td>46.0</td>\n",
       "      <td>3.0</td>\n",
       "      <td>28</td>\n",
       "      <td>33</td>\n",
       "      <td>DET</td>\n",
       "      <td>fair_cond</td>\n",
       "    </tr>\n",
       "    <tr>\n",
       "      <th>1</th>\n",
       "      <td>4010&amp;AA-0025</td>\n",
       "      <td>4010</td>\n",
       "      <td>2015</td>\n",
       "      <td>2</td>\n",
       "      <td>AA-0025</td>\n",
       "      <td>Ameer</td>\n",
       "      <td>Abdullah</td>\n",
       "      <td>Ameer Abdullah</td>\n",
       "      <td>DET</td>\n",
       "      <td>RB</td>\n",
       "      <td>...</td>\n",
       "      <td>67.0</td>\n",
       "      <td>NaN</td>\n",
       "      <td>FieldTurf</td>\n",
       "      <td>NaN</td>\n",
       "      <td>43.5</td>\n",
       "      <td>2.0</td>\n",
       "      <td>16</td>\n",
       "      <td>26</td>\n",
       "      <td>DET</td>\n",
       "      <td>fair_cond</td>\n",
       "    </tr>\n",
       "    <tr>\n",
       "      <th>2</th>\n",
       "      <td>4036&amp;AA-0025</td>\n",
       "      <td>4036</td>\n",
       "      <td>2015</td>\n",
       "      <td>3</td>\n",
       "      <td>AA-0025</td>\n",
       "      <td>Ameer</td>\n",
       "      <td>Abdullah</td>\n",
       "      <td>Ameer Abdullah</td>\n",
       "      <td>DET</td>\n",
       "      <td>RB</td>\n",
       "      <td>...</td>\n",
       "      <td>NaN</td>\n",
       "      <td>NaN</td>\n",
       "      <td>FieldTurf</td>\n",
       "      <td>NaN</td>\n",
       "      <td>44.5</td>\n",
       "      <td>-3.0</td>\n",
       "      <td>24</td>\n",
       "      <td>12</td>\n",
       "      <td>DET</td>\n",
       "      <td>indoor_cond</td>\n",
       "    </tr>\n",
       "    <tr>\n",
       "      <th>3</th>\n",
       "      <td>4052&amp;AA-0025</td>\n",
       "      <td>4052</td>\n",
       "      <td>2015</td>\n",
       "      <td>4</td>\n",
       "      <td>AA-0025</td>\n",
       "      <td>Ameer</td>\n",
       "      <td>Abdullah</td>\n",
       "      <td>Ameer Abdullah</td>\n",
       "      <td>DET</td>\n",
       "      <td>RB</td>\n",
       "      <td>...</td>\n",
       "      <td>74.0</td>\n",
       "      <td>N</td>\n",
       "      <td>FieldTurf</td>\n",
       "      <td>41.0</td>\n",
       "      <td>43.0</td>\n",
       "      <td>10.0</td>\n",
       "      <td>10</td>\n",
       "      <td>13</td>\n",
       "      <td>DET</td>\n",
       "      <td>fair_cond</td>\n",
       "    </tr>\n",
       "    <tr>\n",
       "      <th>4</th>\n",
       "      <td>4062&amp;AA-0025</td>\n",
       "      <td>4062</td>\n",
       "      <td>2015</td>\n",
       "      <td>5</td>\n",
       "      <td>AA-0025</td>\n",
       "      <td>Ameer</td>\n",
       "      <td>Abdullah</td>\n",
       "      <td>Ameer Abdullah</td>\n",
       "      <td>DET</td>\n",
       "      <td>RB</td>\n",
       "      <td>...</td>\n",
       "      <td>NaN</td>\n",
       "      <td>NaN</td>\n",
       "      <td>FieldTurf</td>\n",
       "      <td>NaN</td>\n",
       "      <td>44.5</td>\n",
       "      <td>-3.0</td>\n",
       "      <td>42</td>\n",
       "      <td>17</td>\n",
       "      <td>DET</td>\n",
       "      <td>indoor_cond</td>\n",
       "    </tr>\n",
       "  </tbody>\n",
       "</table>\n",
       "<p>5 rows × 141 columns</p>\n",
       "</div>"
      ],
      "text/plain": [
       "             pk   gid  seas wk   player  fname     lname       full_name team  \\\n",
       "0  3999&AA-0025  3999  2015  1  AA-0025  Ameer  Abdullah  Ameer Abdullah  DET   \n",
       "1  4010&AA-0025  4010  2015  2  AA-0025  Ameer  Abdullah  Ameer Abdullah  DET   \n",
       "2  4036&AA-0025  4036  2015  3  AA-0025  Ameer  Abdullah  Ameer Abdullah  DET   \n",
       "3  4052&AA-0025  4052  2015  4  AA-0025  Ameer  Abdullah  Ameer Abdullah  DET   \n",
       "4  4062&AA-0025  4062  2015  5  AA-0025  Ameer  Abdullah  Ameer Abdullah  DET   \n",
       "\n",
       "  pos1     ...       temp  wdir       surf  humd    ou  sprv  ptsv  ptsh  \\\n",
       "0   RB     ...       84.0   WSW      Grass  47.0  46.0   3.0    28    33   \n",
       "1   RB     ...       67.0   NaN  FieldTurf   NaN  43.5   2.0    16    26   \n",
       "2   RB     ...        NaN   NaN  FieldTurf   NaN  44.5  -3.0    24    12   \n",
       "3   RB     ...       74.0     N  FieldTurf  41.0  43.0  10.0    10    13   \n",
       "4   RB     ...        NaN   NaN  FieldTurf   NaN  44.5  -3.0    42    17   \n",
       "\n",
       "   udog     gen_cond  \n",
       "0   DET    fair_cond  \n",
       "1   DET    fair_cond  \n",
       "2   DET  indoor_cond  \n",
       "3   DET    fair_cond  \n",
       "4   DET  indoor_cond  \n",
       "\n",
       "[5 rows x 141 columns]"
      ]
     },
     "execution_count": 68,
     "metadata": {},
     "output_type": "execute_result"
    }
   ],
   "source": [
    "player_game.head()"
   ]
  },
  {
   "cell_type": "markdown",
   "metadata": {},
   "source": [
    "### Defensive Rankings features"
   ]
  },
  {
   "cell_type": "code",
   "execution_count": 86,
   "metadata": {},
   "outputs": [],
   "source": [
    "#create a new categorical column of the defensive team\n",
    "player_game['def_team'] = pd.Series(np.where(player_game['team'] == player_game['h'], player_game['v'],\n",
    "                                             player_game['h']), dtype='category')"
   ]
  },
  {
   "cell_type": "code",
   "execution_count": 87,
   "metadata": {},
   "outputs": [],
   "source": [
    "#sum the offensive stats given up by the defense by team, season, and week\n",
    "team_seas_wk = player_game.groupby(['def_team', 'seas', 'wk'], as_index=True).sum().loc[:, 'pa':'tdret']\n",
    "#seas_wk_team = player_game.groupby(['seas', 'wk', 'def_team'], as_index=True).sum().loc[:, 'pa':'tdret']"
   ]
  },
  {
   "cell_type": "markdown",
   "metadata": {},
   "source": [
    "NaN weeks represent each team's bye week"
   ]
  },
  {
   "cell_type": "code",
   "execution_count": 88,
   "metadata": {},
   "outputs": [],
   "source": [
    "#remove the bye weeks\n",
    "t_s_w_no_bye = team_seas_wk[team_seas_wk.notna().all(axis=1)]\n",
    "#s_w_t_no_bye = seas_wk_team[seas_wk_team.notna().all(axis=1)]"
   ]
  },
  {
   "cell_type": "markdown",
   "metadata": {},
   "source": [
    "#### Calculate running totals for each"
   ]
  },
  {
   "cell_type": "markdown",
   "metadata": {},
   "source": [
    "Need to lag by one week. Will calculate season running total and 4 game running total"
   ]
  },
  {
   "cell_type": "code",
   "execution_count": 89,
   "metadata": {},
   "outputs": [],
   "source": [
    "#store the identifying features\n",
    "identifiers = t_s_w_no_bye.reset_index(['def_team', 'seas', 'wk']).loc[:, 'def_team':'wk']"
   ]
  },
  {
   "cell_type": "code",
   "execution_count": 90,
   "metadata": {
    "scrolled": true
   },
   "outputs": [],
   "source": [
    "#reset index and then regroup by team and season\n",
    "#also shift the data by one\n",
    "t_s_w_grouped_shift = t_s_w_no_bye.reset_index(['def_team', 'seas', 'wk']).groupby(by=['def_team', 'seas']).shift(1)"
   ]
  },
  {
   "cell_type": "code",
   "execution_count": 91,
   "metadata": {
    "scrolled": true
   },
   "outputs": [],
   "source": [
    "#concate identifying features to shifted\n",
    "tsw_full = pd.concat([identifiers, t_s_w_grouped_shift.loc[:, 'pa':'tdret']], axis=1)"
   ]
  },
  {
   "cell_type": "code",
   "execution_count": 92,
   "metadata": {
    "scrolled": true
   },
   "outputs": [],
   "source": [
    "#remove the rows that are NaN due to the lagging (week 1 of each season)\n",
    "tsw_clean = tsw_full[tsw_full.loc[:, 'pa':'tdret'].notna().all(axis=1)]"
   ]
  },
  {
   "cell_type": "code",
   "execution_count": 93,
   "metadata": {},
   "outputs": [],
   "source": [
    "#store tsw_clean identifiers\n",
    "tsw_clean_identifiers = tsw_clean.loc[:, 'def_team':'wk']"
   ]
  },
  {
   "cell_type": "code",
   "execution_count": 94,
   "metadata": {
    "scrolled": true
   },
   "outputs": [],
   "source": [
    "#calculate the rolling mean\n",
    "def_mean = tsw_clean.groupby(by=['def_team', 'seas'], sort=False).rolling(window=4, min_periods=1).mean().reset_index().loc[:, 'fuml':'trg']"
   ]
  },
  {
   "cell_type": "code",
   "execution_count": 95,
   "metadata": {
    "scrolled": true
   },
   "outputs": [],
   "source": [
    "#combine the identifiers and the def_mean\n",
    "#reset the indexes of both columns so that they concat nicely\n",
    "def_mean_clean = pd.concat([tsw_clean_identifiers.reset_index(drop=True), def_mean.reset_index(drop=True)], axis=1)"
   ]
  },
  {
   "cell_type": "markdown",
   "metadata": {},
   "source": [
    "<br>The below code will calculate the ranks for each of the columns<br>\n",
    "Have to separate out stats that should be ranked ascending (more is worse) and decending (more is better)"
   ]
  },
  {
   "cell_type": "code",
   "execution_count": null,
   "metadata": {},
   "outputs": [],
   "source": [
    "#build function to perform the ranking\n",
    "def ranker(df):\n",
    "    #have to group so that all teams for each week are grouped together\n",
    "    interim = df.groupby(by=['seas', 'wk', 'def_team'])\n",
    "    interim_grp = interim.reset_index(level=['seas', 'wk', 'def_team']).groupby(['seas', 'wk'], as_index=False)\n",
    "    "
   ]
  },
  {
   "cell_type": "code",
   "execution_count": 84,
   "metadata": {
    "scrolled": true
   },
   "outputs": [],
   "source": [
    "#reset the index and regroup so that the ranks are calculated by subgroups\n",
    "#s_w_t_grouped = s_w_t_no_bye.reset_index(level=['seas', 'wk', 'def_team']).groupby(['seas', 'wk'], as_index=False)"
   ]
  },
  {
   "cell_type": "code",
   "execution_count": 90,
   "metadata": {},
   "outputs": [],
   "source": [
    "#s_w_t_grouped['py'].rank(method='dense', ascending=True).add_prefix('rank_')"
   ]
  },
  {
   "cell_type": "code",
   "execution_count": 122,
   "metadata": {},
   "outputs": [],
   "source": [
    "test = def_mean_clean.groupby(by=['seas', 'wk'])['py'].rank(method='first', ascending=True, na_option='bottom')"
   ]
  },
  {
   "cell_type": "code",
   "execution_count": 131,
   "metadata": {
    "scrolled": true
   },
   "outputs": [
    {
     "data": {
      "text/html": [
       "<div>\n",
       "<style scoped>\n",
       "    .dataframe tbody tr th:only-of-type {\n",
       "        vertical-align: middle;\n",
       "    }\n",
       "\n",
       "    .dataframe tbody tr th {\n",
       "        vertical-align: top;\n",
       "    }\n",
       "\n",
       "    .dataframe thead th {\n",
       "        text-align: right;\n",
       "    }\n",
       "</style>\n",
       "<table border=\"1\" class=\"dataframe\">\n",
       "  <thead>\n",
       "    <tr style=\"text-align: right;\">\n",
       "      <th></th>\n",
       "      <th>rank</th>\n",
       "      <th>act</th>\n",
       "    </tr>\n",
       "  </thead>\n",
       "  <tbody>\n",
       "    <tr>\n",
       "      <th>7</th>\n",
       "      <td>3.0</td>\n",
       "      <td>171.250000</td>\n",
       "    </tr>\n",
       "    <tr>\n",
       "      <th>0</th>\n",
       "      <td>11.0</td>\n",
       "      <td>172.000000</td>\n",
       "    </tr>\n",
       "    <tr>\n",
       "      <th>6</th>\n",
       "      <td>4.0</td>\n",
       "      <td>184.500000</td>\n",
       "    </tr>\n",
       "    <tr>\n",
       "      <th>33</th>\n",
       "      <td>8.0</td>\n",
       "      <td>194.500000</td>\n",
       "    </tr>\n",
       "    <tr>\n",
       "      <th>20</th>\n",
       "      <td>8.0</td>\n",
       "      <td>199.750000</td>\n",
       "    </tr>\n",
       "    <tr>\n",
       "      <th>13</th>\n",
       "      <td>10.0</td>\n",
       "      <td>203.250000</td>\n",
       "    </tr>\n",
       "    <tr>\n",
       "      <th>8</th>\n",
       "      <td>8.0</td>\n",
       "      <td>205.750000</td>\n",
       "    </tr>\n",
       "    <tr>\n",
       "      <th>1</th>\n",
       "      <td>8.0</td>\n",
       "      <td>207.500000</td>\n",
       "    </tr>\n",
       "    <tr>\n",
       "      <th>27</th>\n",
       "      <td>10.0</td>\n",
       "      <td>208.750000</td>\n",
       "    </tr>\n",
       "    <tr>\n",
       "      <th>21</th>\n",
       "      <td>11.0</td>\n",
       "      <td>209.500000</td>\n",
       "    </tr>\n",
       "    <tr>\n",
       "      <th>19</th>\n",
       "      <td>10.0</td>\n",
       "      <td>210.250000</td>\n",
       "    </tr>\n",
       "    <tr>\n",
       "      <th>12</th>\n",
       "      <td>15.0</td>\n",
       "      <td>216.000000</td>\n",
       "    </tr>\n",
       "    <tr>\n",
       "      <th>5</th>\n",
       "      <td>14.0</td>\n",
       "      <td>218.000000</td>\n",
       "    </tr>\n",
       "    <tr>\n",
       "      <th>4</th>\n",
       "      <td>15.0</td>\n",
       "      <td>222.250000</td>\n",
       "    </tr>\n",
       "    <tr>\n",
       "      <th>9</th>\n",
       "      <td>14.0</td>\n",
       "      <td>225.750000</td>\n",
       "    </tr>\n",
       "    <tr>\n",
       "      <th>22</th>\n",
       "      <td>14.0</td>\n",
       "      <td>230.500000</td>\n",
       "    </tr>\n",
       "    <tr>\n",
       "      <th>3</th>\n",
       "      <td>17.0</td>\n",
       "      <td>230.750000</td>\n",
       "    </tr>\n",
       "    <tr>\n",
       "      <th>17</th>\n",
       "      <td>18.0</td>\n",
       "      <td>231.000000</td>\n",
       "    </tr>\n",
       "    <tr>\n",
       "      <th>32</th>\n",
       "      <td>13.0</td>\n",
       "      <td>232.000000</td>\n",
       "    </tr>\n",
       "    <tr>\n",
       "      <th>2</th>\n",
       "      <td>20.0</td>\n",
       "      <td>234.333333</td>\n",
       "    </tr>\n",
       "    <tr>\n",
       "      <th>10</th>\n",
       "      <td>23.0</td>\n",
       "      <td>241.500000</td>\n",
       "    </tr>\n",
       "    <tr>\n",
       "      <th>26</th>\n",
       "      <td>23.0</td>\n",
       "      <td>241.750000</td>\n",
       "    </tr>\n",
       "    <tr>\n",
       "      <th>14</th>\n",
       "      <td>20.0</td>\n",
       "      <td>242.000000</td>\n",
       "    </tr>\n",
       "    <tr>\n",
       "      <th>11</th>\n",
       "      <td>26.0</td>\n",
       "      <td>257.750000</td>\n",
       "    </tr>\n",
       "    <tr>\n",
       "      <th>18</th>\n",
       "      <td>25.0</td>\n",
       "      <td>258.500000</td>\n",
       "    </tr>\n",
       "    <tr>\n",
       "      <th>15</th>\n",
       "      <td>27.0</td>\n",
       "      <td>264.000000</td>\n",
       "    </tr>\n",
       "    <tr>\n",
       "      <th>31</th>\n",
       "      <td>25.0</td>\n",
       "      <td>264.750000</td>\n",
       "    </tr>\n",
       "    <tr>\n",
       "      <th>16</th>\n",
       "      <td>27.0</td>\n",
       "      <td>269.333333</td>\n",
       "    </tr>\n",
       "    <tr>\n",
       "      <th>23</th>\n",
       "      <td>30.0</td>\n",
       "      <td>284.250000</td>\n",
       "    </tr>\n",
       "    <tr>\n",
       "      <th>30</th>\n",
       "      <td>24.0</td>\n",
       "      <td>286.666667</td>\n",
       "    </tr>\n",
       "    <tr>\n",
       "      <th>24</th>\n",
       "      <td>30.0</td>\n",
       "      <td>300.250000</td>\n",
       "    </tr>\n",
       "    <tr>\n",
       "      <th>25</th>\n",
       "      <td>30.0</td>\n",
       "      <td>314.000000</td>\n",
       "    </tr>\n",
       "    <tr>\n",
       "      <th>28</th>\n",
       "      <td>30.0</td>\n",
       "      <td>327.000000</td>\n",
       "    </tr>\n",
       "    <tr>\n",
       "      <th>29</th>\n",
       "      <td>26.0</td>\n",
       "      <td>339.500000</td>\n",
       "    </tr>\n",
       "  </tbody>\n",
       "</table>\n",
       "</div>"
      ],
      "text/plain": [
       "    rank         act\n",
       "7    3.0  171.250000\n",
       "0   11.0  172.000000\n",
       "6    4.0  184.500000\n",
       "33   8.0  194.500000\n",
       "20   8.0  199.750000\n",
       "13  10.0  203.250000\n",
       "8    8.0  205.750000\n",
       "1    8.0  207.500000\n",
       "27  10.0  208.750000\n",
       "21  11.0  209.500000\n",
       "19  10.0  210.250000\n",
       "12  15.0  216.000000\n",
       "5   14.0  218.000000\n",
       "4   15.0  222.250000\n",
       "9   14.0  225.750000\n",
       "22  14.0  230.500000\n",
       "3   17.0  230.750000\n",
       "17  18.0  231.000000\n",
       "32  13.0  232.000000\n",
       "2   20.0  234.333333\n",
       "10  23.0  241.500000\n",
       "26  23.0  241.750000\n",
       "14  20.0  242.000000\n",
       "11  26.0  257.750000\n",
       "18  25.0  258.500000\n",
       "15  27.0  264.000000\n",
       "31  25.0  264.750000\n",
       "16  27.0  269.333333\n",
       "23  30.0  284.250000\n",
       "30  24.0  286.666667\n",
       "24  30.0  300.250000\n",
       "25  30.0  314.000000\n",
       "28  30.0  327.000000\n",
       "29  26.0  339.500000"
      ]
     },
     "execution_count": 131,
     "metadata": {},
     "output_type": "execute_result"
    }
   ],
   "source": [
    "test_df = pd.DataFrame(data={'rank': test, 'act': def_mean_clean['py']}).iloc[:34,:]\n",
    "test_df.sort_values(by='act')"
   ]
  },
  {
   "cell_type": "code",
   "execution_count": null,
   "metadata": {},
   "outputs": [],
   "source": []
  },
  {
   "cell_type": "markdown",
   "metadata": {},
   "source": [
    "# Feature and Response variables"
   ]
  },
  {
   "cell_type": "markdown",
   "metadata": {},
   "source": [
    "### Initial setup"
   ]
  },
  {
   "cell_type": "code",
   "execution_count": 69,
   "metadata": {},
   "outputs": [],
   "source": [
    "#read in the offensive player response variables\n",
    "ft_pts = pd.read_csv('https://raw.githubusercontent.com/jchristo12/fantasy_football/master/data/response/offense_final.csv',\n",
    "                     header=0)"
   ]
  },
  {
   "cell_type": "code",
   "execution_count": 70,
   "metadata": {},
   "outputs": [
    {
     "data": {
      "text/html": [
       "<div>\n",
       "<style scoped>\n",
       "    .dataframe tbody tr th:only-of-type {\n",
       "        vertical-align: middle;\n",
       "    }\n",
       "\n",
       "    .dataframe tbody tr th {\n",
       "        vertical-align: top;\n",
       "    }\n",
       "\n",
       "    .dataframe thead th {\n",
       "        text-align: right;\n",
       "    }\n",
       "</style>\n",
       "<table border=\"1\" class=\"dataframe\">\n",
       "  <thead>\n",
       "    <tr style=\"text-align: right;\">\n",
       "      <th></th>\n",
       "      <th>pk</th>\n",
       "      <th>gid</th>\n",
       "      <th>seas</th>\n",
       "      <th>wk</th>\n",
       "      <th>player</th>\n",
       "      <th>pos1</th>\n",
       "      <th>py</th>\n",
       "      <th>ints</th>\n",
       "      <th>tdp</th>\n",
       "      <th>ry</th>\n",
       "      <th>tdr</th>\n",
       "      <th>recy</th>\n",
       "      <th>tdrec</th>\n",
       "      <th>rety</th>\n",
       "      <th>tdret</th>\n",
       "      <th>fuml</th>\n",
       "      <th>conv</th>\n",
       "      <th>tot_sack</th>\n",
       "      <th>f_pts</th>\n",
       "    </tr>\n",
       "  </thead>\n",
       "  <tbody>\n",
       "    <tr>\n",
       "      <th>0</th>\n",
       "      <td>1&amp;KW-1500</td>\n",
       "      <td>1</td>\n",
       "      <td>2000</td>\n",
       "      <td>1</td>\n",
       "      <td>KW-1500</td>\n",
       "      <td>WR</td>\n",
       "      <td>0</td>\n",
       "      <td>0</td>\n",
       "      <td>0</td>\n",
       "      <td>0</td>\n",
       "      <td>0</td>\n",
       "      <td>0</td>\n",
       "      <td>0</td>\n",
       "      <td>56</td>\n",
       "      <td>0</td>\n",
       "      <td>0</td>\n",
       "      <td>0</td>\n",
       "      <td>0.0</td>\n",
       "      <td>1.60</td>\n",
       "    </tr>\n",
       "    <tr>\n",
       "      <th>1</th>\n",
       "      <td>1&amp;CG-0400</td>\n",
       "      <td>1</td>\n",
       "      <td>2000</td>\n",
       "      <td>1</td>\n",
       "      <td>CG-0400</td>\n",
       "      <td>RB</td>\n",
       "      <td>0</td>\n",
       "      <td>0</td>\n",
       "      <td>0</td>\n",
       "      <td>62</td>\n",
       "      <td>0</td>\n",
       "      <td>45</td>\n",
       "      <td>0</td>\n",
       "      <td>0</td>\n",
       "      <td>0</td>\n",
       "      <td>0</td>\n",
       "      <td>0</td>\n",
       "      <td>0.0</td>\n",
       "      <td>10.70</td>\n",
       "    </tr>\n",
       "    <tr>\n",
       "      <th>2</th>\n",
       "      <td>1&amp;JG-0600</td>\n",
       "      <td>1</td>\n",
       "      <td>2000</td>\n",
       "      <td>1</td>\n",
       "      <td>JG-0600</td>\n",
       "      <td>QB</td>\n",
       "      <td>252</td>\n",
       "      <td>1</td>\n",
       "      <td>3</td>\n",
       "      <td>22</td>\n",
       "      <td>0</td>\n",
       "      <td>0</td>\n",
       "      <td>0</td>\n",
       "      <td>0</td>\n",
       "      <td>0</td>\n",
       "      <td>0</td>\n",
       "      <td>0</td>\n",
       "      <td>1.0</td>\n",
       "      <td>22.03</td>\n",
       "    </tr>\n",
       "    <tr>\n",
       "      <th>3</th>\n",
       "      <td>1&amp;JR-2000</td>\n",
       "      <td>1</td>\n",
       "      <td>2000</td>\n",
       "      <td>1</td>\n",
       "      <td>JR-2000</td>\n",
       "      <td>WR</td>\n",
       "      <td>0</td>\n",
       "      <td>0</td>\n",
       "      <td>0</td>\n",
       "      <td>-2</td>\n",
       "      <td>0</td>\n",
       "      <td>59</td>\n",
       "      <td>0</td>\n",
       "      <td>0</td>\n",
       "      <td>0</td>\n",
       "      <td>0</td>\n",
       "      <td>0</td>\n",
       "      <td>0.0</td>\n",
       "      <td>5.70</td>\n",
       "    </tr>\n",
       "    <tr>\n",
       "      <th>4</th>\n",
       "      <td>1&amp;TO-0200</td>\n",
       "      <td>1</td>\n",
       "      <td>2000</td>\n",
       "      <td>1</td>\n",
       "      <td>TO-0200</td>\n",
       "      <td>WR</td>\n",
       "      <td>0</td>\n",
       "      <td>0</td>\n",
       "      <td>0</td>\n",
       "      <td>0</td>\n",
       "      <td>0</td>\n",
       "      <td>72</td>\n",
       "      <td>1</td>\n",
       "      <td>0</td>\n",
       "      <td>0</td>\n",
       "      <td>0</td>\n",
       "      <td>0</td>\n",
       "      <td>0.0</td>\n",
       "      <td>13.20</td>\n",
       "    </tr>\n",
       "  </tbody>\n",
       "</table>\n",
       "</div>"
      ],
      "text/plain": [
       "          pk  gid  seas  wk   player pos1   py  ints  tdp  ry  tdr  recy  \\\n",
       "0  1&KW-1500    1  2000   1  KW-1500   WR    0     0    0   0    0     0   \n",
       "1  1&CG-0400    1  2000   1  CG-0400   RB    0     0    0  62    0    45   \n",
       "2  1&JG-0600    1  2000   1  JG-0600   QB  252     1    3  22    0     0   \n",
       "3  1&JR-2000    1  2000   1  JR-2000   WR    0     0    0  -2    0    59   \n",
       "4  1&TO-0200    1  2000   1  TO-0200   WR    0     0    0   0    0    72   \n",
       "\n",
       "   tdrec  rety  tdret  fuml  conv  tot_sack  f_pts  \n",
       "0      0    56      0     0     0       0.0   1.60  \n",
       "1      0     0      0     0     0       0.0  10.70  \n",
       "2      0     0      0     0     0       1.0  22.03  \n",
       "3      0     0      0     0     0       0.0   5.70  \n",
       "4      1     0      0     0     0       0.0  13.20  "
      ]
     },
     "execution_count": 70,
     "metadata": {},
     "output_type": "execute_result"
    }
   ],
   "source": [
    "ft_pts.head()"
   ]
  },
  {
   "cell_type": "code",
   "execution_count": 71,
   "metadata": {},
   "outputs": [
    {
     "data": {
      "text/html": [
       "<div>\n",
       "<style scoped>\n",
       "    .dataframe tbody tr th:only-of-type {\n",
       "        vertical-align: middle;\n",
       "    }\n",
       "\n",
       "    .dataframe tbody tr th {\n",
       "        vertical-align: top;\n",
       "    }\n",
       "\n",
       "    .dataframe thead th {\n",
       "        text-align: right;\n",
       "    }\n",
       "</style>\n",
       "<table border=\"1\" class=\"dataframe\">\n",
       "  <thead>\n",
       "    <tr style=\"text-align: right;\">\n",
       "      <th></th>\n",
       "      <th>pk</th>\n",
       "      <th>f_pts</th>\n",
       "    </tr>\n",
       "  </thead>\n",
       "  <tbody>\n",
       "    <tr>\n",
       "      <th>0</th>\n",
       "      <td>1&amp;KW-1500</td>\n",
       "      <td>1.60</td>\n",
       "    </tr>\n",
       "    <tr>\n",
       "      <th>1</th>\n",
       "      <td>1&amp;CG-0400</td>\n",
       "      <td>10.70</td>\n",
       "    </tr>\n",
       "    <tr>\n",
       "      <th>2</th>\n",
       "      <td>1&amp;JG-0600</td>\n",
       "      <td>22.03</td>\n",
       "    </tr>\n",
       "    <tr>\n",
       "      <th>3</th>\n",
       "      <td>1&amp;JR-2000</td>\n",
       "      <td>5.70</td>\n",
       "    </tr>\n",
       "    <tr>\n",
       "      <th>4</th>\n",
       "      <td>1&amp;TO-0200</td>\n",
       "      <td>13.20</td>\n",
       "    </tr>\n",
       "  </tbody>\n",
       "</table>\n",
       "</div>"
      ],
      "text/plain": [
       "          pk  f_pts\n",
       "0  1&KW-1500   1.60\n",
       "1  1&CG-0400  10.70\n",
       "2  1&JG-0600  22.03\n",
       "3  1&JR-2000   5.70\n",
       "4  1&TO-0200  13.20"
      ]
     },
     "execution_count": 71,
     "metadata": {},
     "output_type": "execute_result"
    }
   ],
   "source": [
    "#trim the columns\n",
    "response = ft_pts.loc[:, ['pk', 'f_pts']]\n",
    "response.head()"
   ]
  },
  {
   "cell_type": "markdown",
   "metadata": {},
   "source": [
    "### Merge response and feature df's"
   ]
  },
  {
   "cell_type": "code",
   "execution_count": 72,
   "metadata": {},
   "outputs": [
    {
     "data": {
      "text/html": [
       "<div>\n",
       "<style scoped>\n",
       "    .dataframe tbody tr th:only-of-type {\n",
       "        vertical-align: middle;\n",
       "    }\n",
       "\n",
       "    .dataframe tbody tr th {\n",
       "        vertical-align: top;\n",
       "    }\n",
       "\n",
       "    .dataframe thead th {\n",
       "        text-align: right;\n",
       "    }\n",
       "</style>\n",
       "<table border=\"1\" class=\"dataframe\">\n",
       "  <thead>\n",
       "    <tr style=\"text-align: right;\">\n",
       "      <th></th>\n",
       "      <th>pk</th>\n",
       "      <th>gid</th>\n",
       "      <th>seas</th>\n",
       "      <th>wk</th>\n",
       "      <th>player</th>\n",
       "      <th>fname</th>\n",
       "      <th>lname</th>\n",
       "      <th>full_name</th>\n",
       "      <th>team</th>\n",
       "      <th>pos1</th>\n",
       "      <th>...</th>\n",
       "      <th>wdir</th>\n",
       "      <th>surf</th>\n",
       "      <th>humd</th>\n",
       "      <th>ou</th>\n",
       "      <th>sprv</th>\n",
       "      <th>ptsv</th>\n",
       "      <th>ptsh</th>\n",
       "      <th>udog</th>\n",
       "      <th>gen_cond</th>\n",
       "      <th>f_pts</th>\n",
       "    </tr>\n",
       "  </thead>\n",
       "  <tbody>\n",
       "    <tr>\n",
       "      <th>0</th>\n",
       "      <td>3999&amp;AA-0025</td>\n",
       "      <td>3999</td>\n",
       "      <td>2015</td>\n",
       "      <td>1</td>\n",
       "      <td>AA-0025</td>\n",
       "      <td>Ameer</td>\n",
       "      <td>Abdullah</td>\n",
       "      <td>Ameer Abdullah</td>\n",
       "      <td>DET</td>\n",
       "      <td>RB</td>\n",
       "      <td>...</td>\n",
       "      <td>WSW</td>\n",
       "      <td>Grass</td>\n",
       "      <td>47.0</td>\n",
       "      <td>46.0</td>\n",
       "      <td>3.0</td>\n",
       "      <td>28</td>\n",
       "      <td>33</td>\n",
       "      <td>DET</td>\n",
       "      <td>fair_cond</td>\n",
       "      <td>18.400000</td>\n",
       "    </tr>\n",
       "    <tr>\n",
       "      <th>1</th>\n",
       "      <td>4010&amp;AA-0025</td>\n",
       "      <td>4010</td>\n",
       "      <td>2015</td>\n",
       "      <td>2</td>\n",
       "      <td>AA-0025</td>\n",
       "      <td>Ameer</td>\n",
       "      <td>Abdullah</td>\n",
       "      <td>Ameer Abdullah</td>\n",
       "      <td>DET</td>\n",
       "      <td>RB</td>\n",
       "      <td>...</td>\n",
       "      <td>NaN</td>\n",
       "      <td>FieldTurf</td>\n",
       "      <td>NaN</td>\n",
       "      <td>43.5</td>\n",
       "      <td>2.0</td>\n",
       "      <td>16</td>\n",
       "      <td>26</td>\n",
       "      <td>DET</td>\n",
       "      <td>fair_cond</td>\n",
       "      <td>4.200000</td>\n",
       "    </tr>\n",
       "    <tr>\n",
       "      <th>2</th>\n",
       "      <td>4036&amp;AA-0025</td>\n",
       "      <td>4036</td>\n",
       "      <td>2015</td>\n",
       "      <td>3</td>\n",
       "      <td>AA-0025</td>\n",
       "      <td>Ameer</td>\n",
       "      <td>Abdullah</td>\n",
       "      <td>Ameer Abdullah</td>\n",
       "      <td>DET</td>\n",
       "      <td>RB</td>\n",
       "      <td>...</td>\n",
       "      <td>NaN</td>\n",
       "      <td>FieldTurf</td>\n",
       "      <td>NaN</td>\n",
       "      <td>44.5</td>\n",
       "      <td>-3.0</td>\n",
       "      <td>24</td>\n",
       "      <td>12</td>\n",
       "      <td>DET</td>\n",
       "      <td>indoor_cond</td>\n",
       "      <td>10.200000</td>\n",
       "    </tr>\n",
       "    <tr>\n",
       "      <th>3</th>\n",
       "      <td>4052&amp;AA-0025</td>\n",
       "      <td>4052</td>\n",
       "      <td>2015</td>\n",
       "      <td>4</td>\n",
       "      <td>AA-0025</td>\n",
       "      <td>Ameer</td>\n",
       "      <td>Abdullah</td>\n",
       "      <td>Ameer Abdullah</td>\n",
       "      <td>DET</td>\n",
       "      <td>RB</td>\n",
       "      <td>...</td>\n",
       "      <td>N</td>\n",
       "      <td>FieldTurf</td>\n",
       "      <td>41.0</td>\n",
       "      <td>43.0</td>\n",
       "      <td>10.0</td>\n",
       "      <td>10</td>\n",
       "      <td>13</td>\n",
       "      <td>DET</td>\n",
       "      <td>fair_cond</td>\n",
       "      <td>5.942857</td>\n",
       "    </tr>\n",
       "    <tr>\n",
       "      <th>4</th>\n",
       "      <td>4062&amp;AA-0025</td>\n",
       "      <td>4062</td>\n",
       "      <td>2015</td>\n",
       "      <td>5</td>\n",
       "      <td>AA-0025</td>\n",
       "      <td>Ameer</td>\n",
       "      <td>Abdullah</td>\n",
       "      <td>Ameer Abdullah</td>\n",
       "      <td>DET</td>\n",
       "      <td>RB</td>\n",
       "      <td>...</td>\n",
       "      <td>NaN</td>\n",
       "      <td>FieldTurf</td>\n",
       "      <td>NaN</td>\n",
       "      <td>44.5</td>\n",
       "      <td>-3.0</td>\n",
       "      <td>42</td>\n",
       "      <td>17</td>\n",
       "      <td>DET</td>\n",
       "      <td>indoor_cond</td>\n",
       "      <td>1.671429</td>\n",
       "    </tr>\n",
       "  </tbody>\n",
       "</table>\n",
       "<p>5 rows × 142 columns</p>\n",
       "</div>"
      ],
      "text/plain": [
       "             pk   gid  seas wk   player  fname     lname       full_name team  \\\n",
       "0  3999&AA-0025  3999  2015  1  AA-0025  Ameer  Abdullah  Ameer Abdullah  DET   \n",
       "1  4010&AA-0025  4010  2015  2  AA-0025  Ameer  Abdullah  Ameer Abdullah  DET   \n",
       "2  4036&AA-0025  4036  2015  3  AA-0025  Ameer  Abdullah  Ameer Abdullah  DET   \n",
       "3  4052&AA-0025  4052  2015  4  AA-0025  Ameer  Abdullah  Ameer Abdullah  DET   \n",
       "4  4062&AA-0025  4062  2015  5  AA-0025  Ameer  Abdullah  Ameer Abdullah  DET   \n",
       "\n",
       "  pos1    ...      wdir       surf  humd    ou  sprv  ptsv  ptsh  udog  \\\n",
       "0   RB    ...       WSW      Grass  47.0  46.0   3.0    28    33   DET   \n",
       "1   RB    ...       NaN  FieldTurf   NaN  43.5   2.0    16    26   DET   \n",
       "2   RB    ...       NaN  FieldTurf   NaN  44.5  -3.0    24    12   DET   \n",
       "3   RB    ...         N  FieldTurf  41.0  43.0  10.0    10    13   DET   \n",
       "4   RB    ...       NaN  FieldTurf   NaN  44.5  -3.0    42    17   DET   \n",
       "\n",
       "      gen_cond      f_pts  \n",
       "0    fair_cond  18.400000  \n",
       "1    fair_cond   4.200000  \n",
       "2  indoor_cond  10.200000  \n",
       "3    fair_cond   5.942857  \n",
       "4  indoor_cond   1.671429  \n",
       "\n",
       "[5 rows x 142 columns]"
      ]
     },
     "execution_count": 72,
     "metadata": {},
     "output_type": "execute_result"
    }
   ],
   "source": [
    "full_df = player_game.merge(response, on='pk', how='left')\n",
    "full_df.head()"
   ]
  },
  {
   "cell_type": "code",
   "execution_count": 73,
   "metadata": {},
   "outputs": [
    {
     "name": "stdout",
     "output_type": "stream",
     "text": [
      "(94759, 142)\n"
     ]
    },
    {
     "data": {
      "text/plain": [
       "Index(['pk', 'gid', 'seas', 'wk', 'player', 'fname', 'lname', 'full_name',\n",
       "       'team', 'pos1',\n",
       "       ...\n",
       "       'wdir', 'surf', 'humd', 'ou', 'sprv', 'ptsv', 'ptsh', 'udog',\n",
       "       'gen_cond', 'f_pts'],\n",
       "      dtype='object', length=142)"
      ]
     },
     "execution_count": 73,
     "metadata": {},
     "output_type": "execute_result"
    }
   ],
   "source": [
    "print(full_df.shape)\n",
    "full_df.columns"
   ]
  },
  {
   "cell_type": "markdown",
   "metadata": {},
   "source": [
    "Everything looks good!"
   ]
  },
  {
   "cell_type": "markdown",
   "metadata": {},
   "source": [
    "## Exploratory Data Analysis"
   ]
  },
  {
   "cell_type": "code",
   "execution_count": 86,
   "metadata": {},
   "outputs": [],
   "source": [
    "#remove observations that don't have NaN for fantasy points\n",
    "df_eda = full_df[full_df['f_pts'].notna()]"
   ]
  },
  {
   "cell_type": "code",
   "execution_count": 87,
   "metadata": {},
   "outputs": [],
   "source": [
    "#store positions of interest\n",
    "pos_of_interest = ['QB', 'RB', 'WR', 'TE']"
   ]
  },
  {
   "cell_type": "code",
   "execution_count": 88,
   "metadata": {},
   "outputs": [
    {
     "name": "stderr",
     "output_type": "stream",
     "text": [
      "C:\\Users\\Joe\\Anaconda3\\lib\\site-packages\\ipykernel_launcher.py:4: SettingWithCopyWarning: \n",
      "A value is trying to be set on a copy of a slice from a DataFrame.\n",
      "Try using .loc[row_indexer,col_indexer] = value instead\n",
      "\n",
      "See the caveats in the documentation: http://pandas.pydata.org/pandas-docs/stable/indexing.html#indexing-view-versus-copy\n",
      "  after removing the cwd from sys.path.\n"
     ]
    }
   ],
   "source": [
    "#filter out positions that aren't primary offense positions\n",
    "df_eda = full_df[full_df['pos1'].isin(pos_of_interest)]\n",
    "#remove unused categories\n",
    "df_eda['pos1'] = df_eda['pos1'].cat.remove_unused_categories()"
   ]
  },
  {
   "cell_type": "code",
   "execution_count": 93,
   "metadata": {},
   "outputs": [
    {
     "data": {
      "text/plain": [
       "<seaborn.axisgrid.FacetGrid at 0x23011c52128>"
      ]
     },
     "execution_count": 93,
     "metadata": {},
     "output_type": "execute_result"
    },
    {
     "data": {
      "image/png": "[encoded data removed]",
      "text/plain": [
       "<Figure size 360x360 with 1 Axes>"
      ]
     },
     "metadata": {
      "needs_background": "light"
     },
     "output_type": "display_data"
    }
   ],
   "source": [
    "sb.catplot(x='gen_cond', y='f_pts', kind='box', data=df_eda)"
   ]
  },
  {
   "cell_type": "code",
   "execution_count": 91,
   "metadata": {
    "scrolled": true
   },
   "outputs": [
    {
     "name": "stdout",
     "output_type": "stream",
     "text": [
      "pk\n",
      "gid\n",
      "seas\n",
      "wk\n",
      "player\n",
      "fname\n",
      "lname\n",
      "full_name\n",
      "team\n",
      "pos1\n",
      "nflid\n",
      "pa\n",
      "pc\n",
      "py\n",
      "ints\n",
      "tdp\n",
      "ra\n",
      "sra\n",
      "ry\n",
      "tdr\n",
      "fuml\n",
      "trg\n",
      "rec\n",
      "recy\n",
      "tdrec\n",
      "ret\n",
      "rety\n",
      "tdret\n",
      "exp\n",
      "height\n",
      "weight\n",
      "dob\n",
      "dv\n",
      "forty\n",
      "bench\n",
      "vertical\n",
      "broad\n",
      "shuttle\n",
      "cone\n",
      "arm\n",
      "hand\n",
      "cusum_pa\n",
      "cusum_pc\n",
      "cusum_py\n",
      "cusum_ints\n",
      "cusum_tdp\n",
      "cusum_ra\n",
      "cusum_sra\n",
      "cusum_ry\n",
      "cusum_tdr\n",
      "cusum_fuml\n",
      "cusum_trg\n",
      "cusum_rec\n",
      "cusum_recy\n",
      "cusum_tdrec\n",
      "cusum_ret\n",
      "cusum_rety\n",
      "cusum_tdret\n",
      "recent_pa\n",
      "recent_pc\n",
      "recent_py\n",
      "recent_ints\n",
      "recent_tdp\n",
      "recent_ra\n",
      "recent_sra\n",
      "recent_ry\n",
      "recent_tdr\n",
      "recent_fuml\n",
      "recent_trg\n",
      "recent_rec\n",
      "recent_recy\n",
      "recent_tdrec\n",
      "recent_ret\n",
      "recent_rety\n",
      "recent_tdret\n",
      "career_comp_pct\n",
      "career_td_to_int\n",
      "career_yds_per_comp\n",
      "recent_comp_pct\n",
      "recent_td_to_int\n",
      "recent_yds_per_comp\n",
      "career_ryds_per_carry\n",
      "career_carry_to_td\n",
      "career_carry_to_fuml\n",
      "recent_ryds_per_carry\n",
      "recent_carry_to_td\n",
      "recent_carry_to_fuml\n",
      "career_catch_pct\n",
      "career_yds_per_rec\n",
      "career_rec_to_td\n",
      "recent_catch_pct\n",
      "recent_yds_per_rec\n",
      "recent_rec_to_td\n",
      "career_avg_ret\n",
      "career_ret_to_td\n",
      "recent_avg_ret\n",
      "recent_ret_to_td\n",
      "age\n",
      "v\n",
      "h\n",
      "day\n",
      "cond\n",
      "stad\n",
      "temp\n",
      "wdir\n",
      "surf\n",
      "humd\n",
      "ou\n",
      "sprv\n",
      "ptsv\n",
      "ptsh\n",
      "udog\n",
      "gen_cond\n",
      "f_pts\n"
     ]
    }
   ],
   "source": [
    "#list out all of the columns\n",
    "for i in df_eda.columns:\n",
    "    print(i)"
   ]
  },
  {
   "cell_type": "markdown",
   "metadata": {},
   "source": [
    "#### Explore the underdog feature"
   ]
  },
  {
   "cell_type": "code",
   "execution_count": 472,
   "metadata": {
    "scrolled": true
   },
   "outputs": [
    {
     "name": "stderr",
     "output_type": "stream",
     "text": [
      "C:\\Users\\Joe\\Anaconda3\\lib\\site-packages\\ipykernel_launcher.py:2: SettingWithCopyWarning: \n",
      "A value is trying to be set on a copy of a slice from a DataFrame.\n",
      "Try using .loc[row_indexer,col_indexer] = value instead\n",
      "\n",
      "See the caveats in the documentation: http://pandas.pydata.org/pandas-docs/stable/indexing.html#indexing-view-versus-copy\n",
      "  \n",
      "C:\\Users\\Joe\\Anaconda3\\lib\\site-packages\\ipykernel_launcher.py:4: SettingWithCopyWarning: \n",
      "A value is trying to be set on a copy of a slice from a DataFrame.\n",
      "Try using .loc[row_indexer,col_indexer] = value instead\n",
      "\n",
      "See the caveats in the documentation: http://pandas.pydata.org/pandas-docs/stable/indexing.html#indexing-view-versus-copy\n",
      "  after removing the cwd from sys.path.\n"
     ]
    }
   ],
   "source": [
    "#create new column of binary underdog\n",
    "df_eda['udog_bin'] = df_eda['team'].eq(df_eda['udog'])\n",
    "#convert to category\n",
    "df_eda['udog_bin'] = df_eda['udog_bin'].astype('category')"
   ]
  },
  {
   "cell_type": "code",
   "execution_count": 473,
   "metadata": {},
   "outputs": [
    {
     "data": {
      "text/plain": [
       "<seaborn.axisgrid.FacetGrid at 0x1d3abedb908>"
      ]
     },
     "execution_count": 473,
     "metadata": {},
     "output_type": "execute_result"
    },
    {
     "data": {
      "image/png": "[encoded data removed]",
      "text/plain": [
       "<Figure size 422.125x360 with 1 Axes>"
      ]
     },
     "metadata": {
      "needs_background": "light"
     },
     "output_type": "display_data"
    }
   ],
   "source": [
    "sb.catplot(x='pos1', y='f_pts', hue='udog_bin', kind='box', data=df_eda)"
   ]
  },
  {
   "cell_type": "code",
   "execution_count": 474,
   "metadata": {
    "scrolled": false
   },
   "outputs": [
    {
     "data": {
      "text/html": [
       "<div>\n",
       "<style scoped>\n",
       "    .dataframe tbody tr th:only-of-type {\n",
       "        vertical-align: middle;\n",
       "    }\n",
       "\n",
       "    .dataframe tbody tr th {\n",
       "        vertical-align: top;\n",
       "    }\n",
       "\n",
       "    .dataframe thead tr th {\n",
       "        text-align: left;\n",
       "    }\n",
       "\n",
       "    .dataframe thead tr:last-of-type th {\n",
       "        text-align: right;\n",
       "    }\n",
       "</style>\n",
       "<table border=\"1\" class=\"dataframe\">\n",
       "  <thead>\n",
       "    <tr>\n",
       "      <th></th>\n",
       "      <th></th>\n",
       "      <th colspan=\"4\" halign=\"left\">f_pts</th>\n",
       "    </tr>\n",
       "    <tr>\n",
       "      <th></th>\n",
       "      <th></th>\n",
       "      <th>min</th>\n",
       "      <th>max</th>\n",
       "      <th>mean</th>\n",
       "      <th>median</th>\n",
       "    </tr>\n",
       "    <tr>\n",
       "      <th>pos1</th>\n",
       "      <th>udog_bin</th>\n",
       "      <th></th>\n",
       "      <th></th>\n",
       "      <th></th>\n",
       "      <th></th>\n",
       "    </tr>\n",
       "  </thead>\n",
       "  <tbody>\n",
       "    <tr>\n",
       "      <th rowspan=\"2\" valign=\"top\">QB</th>\n",
       "      <th>False</th>\n",
       "      <td>-7.440000</td>\n",
       "      <td>48.82</td>\n",
       "      <td>13.065708</td>\n",
       "      <td>13.070000</td>\n",
       "    </tr>\n",
       "    <tr>\n",
       "      <th>True</th>\n",
       "      <td>-7.990000</td>\n",
       "      <td>44.99</td>\n",
       "      <td>10.789780</td>\n",
       "      <td>10.320000</td>\n",
       "    </tr>\n",
       "    <tr>\n",
       "      <th rowspan=\"2\" valign=\"top\">RB</th>\n",
       "      <th>False</th>\n",
       "      <td>-2.800000</td>\n",
       "      <td>55.40</td>\n",
       "      <td>6.609011</td>\n",
       "      <td>3.700000</td>\n",
       "    </tr>\n",
       "    <tr>\n",
       "      <th>True</th>\n",
       "      <td>-2.800000</td>\n",
       "      <td>51.20</td>\n",
       "      <td>5.627840</td>\n",
       "      <td>3.200000</td>\n",
       "    </tr>\n",
       "    <tr>\n",
       "      <th rowspan=\"2\" valign=\"top\">TE</th>\n",
       "      <th>False</th>\n",
       "      <td>-2.200000</td>\n",
       "      <td>33.40</td>\n",
       "      <td>3.753956</td>\n",
       "      <td>2.000000</td>\n",
       "    </tr>\n",
       "    <tr>\n",
       "      <th>True</th>\n",
       "      <td>-3.300000</td>\n",
       "      <td>32.00</td>\n",
       "      <td>3.203514</td>\n",
       "      <td>1.600000</td>\n",
       "    </tr>\n",
       "    <tr>\n",
       "      <th rowspan=\"2\" valign=\"top\">WR</th>\n",
       "      <th>False</th>\n",
       "      <td>-4.342857</td>\n",
       "      <td>41.40</td>\n",
       "      <td>5.865394</td>\n",
       "      <td>3.771429</td>\n",
       "    </tr>\n",
       "    <tr>\n",
       "      <th>True</th>\n",
       "      <td>-3.500000</td>\n",
       "      <td>47.10</td>\n",
       "      <td>5.165432</td>\n",
       "      <td>3.300000</td>\n",
       "    </tr>\n",
       "  </tbody>\n",
       "</table>\n",
       "</div>"
      ],
      "text/plain": [
       "                  f_pts                             \n",
       "                    min    max       mean     median\n",
       "pos1 udog_bin                                       \n",
       "QB   False    -7.440000  48.82  13.065708  13.070000\n",
       "     True     -7.990000  44.99  10.789780  10.320000\n",
       "RB   False    -2.800000  55.40   6.609011   3.700000\n",
       "     True     -2.800000  51.20   5.627840   3.200000\n",
       "TE   False    -2.200000  33.40   3.753956   2.000000\n",
       "     True     -3.300000  32.00   3.203514   1.600000\n",
       "WR   False    -4.342857  41.40   5.865394   3.771429\n",
       "     True     -3.500000  47.10   5.165432   3.300000"
      ]
     },
     "execution_count": 474,
     "metadata": {},
     "output_type": "execute_result"
    }
   ],
   "source": [
    "df_eda.groupby(['pos1', 'udog_bin'], as_index=True).agg({'f_pts': ['min', 'max', 'mean', 'median']})"
   ]
  },
  {
   "cell_type": "markdown",
   "metadata": {},
   "source": [
    "#### Analyze the cumulative stat features"
   ]
  },
  {
   "cell_type": "code",
   "execution_count": 94,
   "metadata": {},
   "outputs": [],
   "source": [
    "#remove rows where it is NA due to the lag\n",
    "df_eda_roll = df_eda[~df_eda.loc[:, 'cusum_pa':'recent_tdret'].isna().any(axis=1)]"
   ]
  },
  {
   "cell_type": "code",
   "execution_count": 98,
   "metadata": {},
   "outputs": [
    {
     "data": {
      "text/html": [
       "<div>\n",
       "<style scoped>\n",
       "    .dataframe tbody tr th:only-of-type {\n",
       "        vertical-align: middle;\n",
       "    }\n",
       "\n",
       "    .dataframe tbody tr th {\n",
       "        vertical-align: top;\n",
       "    }\n",
       "\n",
       "    .dataframe thead th {\n",
       "        text-align: right;\n",
       "    }\n",
       "</style>\n",
       "<table border=\"1\" class=\"dataframe\">\n",
       "  <thead>\n",
       "    <tr style=\"text-align: right;\">\n",
       "      <th></th>\n",
       "      <th>f_pts</th>\n",
       "      <th>recent_py</th>\n",
       "    </tr>\n",
       "  </thead>\n",
       "  <tbody>\n",
       "    <tr>\n",
       "      <th>f_pts</th>\n",
       "      <td>1.000000</td>\n",
       "      <td>0.267971</td>\n",
       "    </tr>\n",
       "    <tr>\n",
       "      <th>recent_py</th>\n",
       "      <td>0.267971</td>\n",
       "      <td>1.000000</td>\n",
       "    </tr>\n",
       "  </tbody>\n",
       "</table>\n",
       "</div>"
      ],
      "text/plain": [
       "              f_pts  recent_py\n",
       "f_pts      1.000000   0.267971\n",
       "recent_py  0.267971   1.000000"
      ]
     },
     "execution_count": 98,
     "metadata": {},
     "output_type": "execute_result"
    }
   ],
   "source": [
    "#career passing versus next week's fantasy points\n",
    "df_eda_roll.loc[(df_eda_roll['pos1']=='QB') & (df_eda_roll['cusum_pa'] > 100), ['f_pts', 'recent_py']].corr(method='pearson')"
   ]
  },
  {
   "cell_type": "code",
   "execution_count": 97,
   "metadata": {},
   "outputs": [
    {
     "data": {
      "text/plain": [
       "<matplotlib.axes._subplots.AxesSubplot at 0x2301f8c9fd0>"
      ]
     },
     "execution_count": 97,
     "metadata": {},
     "output_type": "execute_result"
    },
    {
     "data": {
      "image/png": "[encoded data removed]",
      "text/plain": [
       "<Figure size 432x288 with 1 Axes>"
      ]
     },
     "metadata": {
      "needs_background": "light"
     },
     "output_type": "display_data"
    }
   ],
   "source": [
    "sb.scatterplot(x='recent_py', y='f_pts',\n",
    "               data=df_eda_roll.loc[(df_eda_roll['pos1']=='QB') & (df_eda_roll['cusum_pa'] > 100), :])"
   ]
  },
  {
   "cell_type": "markdown",
   "metadata": {},
   "source": [
    "### Game features"
   ]
  },
  {
   "cell_type": "code",
   "execution_count": 100,
   "metadata": {
    "scrolled": true
   },
   "outputs": [
    {
     "data": {
      "text/html": [
       "<div>\n",
       "<style scoped>\n",
       "    .dataframe tbody tr th:only-of-type {\n",
       "        vertical-align: middle;\n",
       "    }\n",
       "\n",
       "    .dataframe tbody tr th {\n",
       "        vertical-align: top;\n",
       "    }\n",
       "\n",
       "    .dataframe thead tr th {\n",
       "        text-align: left;\n",
       "    }\n",
       "\n",
       "    .dataframe thead tr:last-of-type th {\n",
       "        text-align: right;\n",
       "    }\n",
       "</style>\n",
       "<table border=\"1\" class=\"dataframe\">\n",
       "  <thead>\n",
       "    <tr>\n",
       "      <th></th>\n",
       "      <th></th>\n",
       "      <th colspan=\"2\" halign=\"left\">f_pts</th>\n",
       "    </tr>\n",
       "    <tr>\n",
       "      <th></th>\n",
       "      <th></th>\n",
       "      <th>median</th>\n",
       "      <th>count</th>\n",
       "    </tr>\n",
       "    <tr>\n",
       "      <th>pos1</th>\n",
       "      <th>gen_cond</th>\n",
       "      <th></th>\n",
       "      <th></th>\n",
       "    </tr>\n",
       "  </thead>\n",
       "  <tbody>\n",
       "    <tr>\n",
       "      <th rowspan=\"3\" valign=\"top\">QB</th>\n",
       "      <th>fair_cond</th>\n",
       "      <td>12.255000</td>\n",
       "      <td>6350</td>\n",
       "    </tr>\n",
       "    <tr>\n",
       "      <th>indoor_cond</th>\n",
       "      <td>13.430000</td>\n",
       "      <td>2171</td>\n",
       "    </tr>\n",
       "    <tr>\n",
       "      <th>percip_cond</th>\n",
       "      <td>10.720000</td>\n",
       "      <td>831</td>\n",
       "    </tr>\n",
       "    <tr>\n",
       "      <th rowspan=\"3\" valign=\"top\">RB</th>\n",
       "      <th>fair_cond</th>\n",
       "      <td>3.600000</td>\n",
       "      <td>17711</td>\n",
       "    </tr>\n",
       "    <tr>\n",
       "      <th>indoor_cond</th>\n",
       "      <td>3.900000</td>\n",
       "      <td>5800</td>\n",
       "    </tr>\n",
       "    <tr>\n",
       "      <th>percip_cond</th>\n",
       "      <td>3.400000</td>\n",
       "      <td>2273</td>\n",
       "    </tr>\n",
       "    <tr>\n",
       "      <th rowspan=\"3\" valign=\"top\">TE</th>\n",
       "      <th>fair_cond</th>\n",
       "      <td>2.000000</td>\n",
       "      <td>10169</td>\n",
       "    </tr>\n",
       "    <tr>\n",
       "      <th>indoor_cond</th>\n",
       "      <td>1.900000</td>\n",
       "      <td>3491</td>\n",
       "    </tr>\n",
       "    <tr>\n",
       "      <th>percip_cond</th>\n",
       "      <td>1.700000</td>\n",
       "      <td>1267</td>\n",
       "    </tr>\n",
       "    <tr>\n",
       "      <th rowspan=\"3\" valign=\"top\">WR</th>\n",
       "      <th>fair_cond</th>\n",
       "      <td>3.600000</td>\n",
       "      <td>22709</td>\n",
       "    </tr>\n",
       "    <tr>\n",
       "      <th>indoor_cond</th>\n",
       "      <td>3.942857</td>\n",
       "      <td>7839</td>\n",
       "    </tr>\n",
       "    <tr>\n",
       "      <th>percip_cond</th>\n",
       "      <td>3.114286</td>\n",
       "      <td>2877</td>\n",
       "    </tr>\n",
       "  </tbody>\n",
       "</table>\n",
       "</div>"
      ],
      "text/plain": [
       "                      f_pts       \n",
       "                     median  count\n",
       "pos1 gen_cond                     \n",
       "QB   fair_cond    12.255000   6350\n",
       "     indoor_cond  13.430000   2171\n",
       "     percip_cond  10.720000    831\n",
       "RB   fair_cond     3.600000  17711\n",
       "     indoor_cond   3.900000   5800\n",
       "     percip_cond   3.400000   2273\n",
       "TE   fair_cond     2.000000  10169\n",
       "     indoor_cond   1.900000   3491\n",
       "     percip_cond   1.700000   1267\n",
       "WR   fair_cond     3.600000  22709\n",
       "     indoor_cond   3.942857   7839\n",
       "     percip_cond   3.114286   2877"
      ]
     },
     "execution_count": 100,
     "metadata": {},
     "output_type": "execute_result"
    }
   ],
   "source": [
    "df_eda_roll.groupby(['pos1', 'gen_cond']).agg({'f_pts': ['median', 'count']})"
   ]
  },
  {
   "cell_type": "markdown",
   "metadata": {},
   "source": [
    "## Write the dataframe for model building"
   ]
  },
  {
   "cell_type": "code",
   "execution_count": 79,
   "metadata": {},
   "outputs": [
    {
     "name": "stdout",
     "output_type": "stream",
     "text": [
      "Wall time: 0 ns\n"
     ]
    }
   ],
   "source": [
    "#write final dataframe to CSV\n",
    "full_df.to_csv('C:/Users/Joe/Projects/fantasy_football/data/full_data.csv', index=False, header=True, na_rep=np.NaN)"
   ]
  },
  {
   "cell_type": "code",
   "execution_count": 80,
   "metadata": {},
   "outputs": [],
   "source": [
    "#write final dataframe to pickle file\n",
    "full_df.to_pickle('C:/Users/Joe/Projects/fantasy_football/data/full_data.pkl')"
   ]
  }
 ],
 "metadata": {
  "kernelspec": {
   "display_name": "Python 3",
   "language": "python",
   "name": "python3"
  },
  "language_info": {
   "codemirror_mode": {
    "name": "ipython",
    "version": 3
   },
   "file_extension": ".py",
   "mimetype": "text/x-python",
   "name": "python",
   "nbconvert_exporter": "python",
   "pygments_lexer": "ipython3",
   "version": "3.7.1"
  }
 },
 "nbformat": 4,
 "nbformat_minor": 2
}
