{
 "cells": [
  {
   "cell_type": "markdown",
   "metadata": {},
   "source": [
    "# EDA & Model Development "
   ]
  },
  {
   "cell_type": "code",
   "execution_count": 1,
   "metadata": {},
   "outputs": [],
   "source": [
    "import pandas as pd\n",
    "import numpy as np\n",
    "import matplotlib.pyplot as plt\n",
    "import seaborn as sb\n",
    "import random"
   ]
  },
  {
   "cell_type": "markdown",
   "metadata": {},
   "source": [
    "## Initial Setup"
   ]
  },
  {
   "cell_type": "code",
   "execution_count": 2,
   "metadata": {},
   "outputs": [],
   "source": [
    "#https://raw.githubusercontent.com/jchristo12/fantasy_football/master/data/full_data.csv\n",
    "df = pd.read_csv('https://github.com/jchristo12/fantasy_football/blob/master/data/full_data.csv?raw=true')"
   ]
  },
  {
   "cell_type": "code",
   "execution_count": 3,
   "metadata": {},
   "outputs": [
    {
     "data": {
      "text/plain": [
       "Index(['pk', 'gid', 'seas', 'wk', 'player', 'fname', 'lname', 'full_name',\n",
       "       'team', 'pos1',\n",
       "       ...\n",
       "       'ou', 'sprv', 'ptsv', 'ptsh', 'udog', 'gen_cond', 'udog_binary',\n",
       "       'gen_dv', 'def_team', 'f_pts'],\n",
       "      dtype='object', length=171)"
      ]
     },
     "execution_count": 3,
     "metadata": {},
     "output_type": "execute_result"
    }
   ],
   "source": [
    "df.columns"
   ]
  },
  {
   "cell_type": "code",
   "execution_count": 4,
   "metadata": {},
   "outputs": [],
   "source": [
    "#remove rows that have NaN for the shifted variables\n",
    "df_clean = df[~df.loc[:,'seas_pa':'seas_tdret'].isna().all(axis=1)]"
   ]
  },
  {
   "cell_type": "markdown",
   "metadata": {},
   "source": [
    "##### We are only focused on offensive players right now. Therefore, we will specifiy the positions we want to retain in the data and remove everyone else"
   ]
  },
  {
   "cell_type": "code",
   "execution_count": 5,
   "metadata": {
    "scrolled": true
   },
   "outputs": [],
   "source": [
    "#store positions we are concerned about; will use these to filter out \n",
    "pos_of_interest = ['QB', 'RB', 'WR', 'TE']\n",
    "#filter out positions we don't care about\n",
    "df_clean2 = df_clean[df_clean['pos1'].isin(pos_of_interest)]"
   ]
  },
  {
   "cell_type": "markdown",
   "metadata": {},
   "source": [
    "##### Convert each column to the appropriate data type (i.e. make the categorical data categories)"
   ]
  },
  {
   "cell_type": "code",
   "execution_count": 8,
   "metadata": {},
   "outputs": [],
   "source": [
    "#set the column types\n",
    "col_dtypes = {'category': ['seas', 'wk', 'pos1', 'team', 'udog', 'v', 'h', 'day', 'stad', 'wdir',\n",
    "                          'surf', 'gen_cond', 'gen_dv', 'def_team']}\n",
    "#flip the key and values around so they will work in the argument for 'astype()'\n",
    "col_dtypes_alt = {old: new for new, old_all in col_dtypes.items() for old in old_all}"
   ]
  },
  {
   "cell_type": "code",
   "execution_count": 9,
   "metadata": {},
   "outputs": [],
   "source": [
    "df_clean2 = df_clean2.astype(col_dtypes_alt)"
   ]
  },
  {
   "cell_type": "markdown",
   "metadata": {},
   "source": [
    "##### Segment out the WR data"
   ]
  },
  {
   "cell_type": "code",
   "execution_count": 10,
   "metadata": {},
   "outputs": [],
   "source": [
    "df_wr = df_clean2.loc[df_clean2['pos1']=='WR', :]"
   ]
  },
  {
   "cell_type": "markdown",
   "metadata": {},
   "source": [
    "##### Only focus on week 10 data"
   ]
  },
  {
   "cell_type": "code",
   "execution_count": 11,
   "metadata": {},
   "outputs": [],
   "source": [
    "df_wr10 = df_wr.loc[df_wr['wk'] == 10, :]"
   ]
  },
  {
   "cell_type": "markdown",
   "metadata": {},
   "source": [
    "## EDA"
   ]
  },
  {
   "cell_type": "markdown",
   "metadata": {},
   "source": [
    "Only focusing on the WR data right now. Will need to build this so that each action is extendable to the other positions"
   ]
  },
  {
   "cell_type": "markdown",
   "metadata": {},
   "source": [
    "### Training/Test split"
   ]
  },
  {
   "cell_type": "code",
   "execution_count": 12,
   "metadata": {},
   "outputs": [],
   "source": [
    "from sklearn.model_selection import train_test_split"
   ]
  },
  {
   "cell_type": "code",
   "execution_count": 13,
   "metadata": {},
   "outputs": [],
   "source": [
    "#set the random seed for reproducability\n",
    "random.seed(837)"
   ]
  },
  {
   "cell_type": "code",
   "execution_count": 14,
   "metadata": {},
   "outputs": [],
   "source": [
    "#break out the data between training and test\n",
    "train_wr, test_wr = train_test_split(df_wr10, train_size=0.75, test_size=0.25, shuffle=True)"
   ]
  },
  {
   "cell_type": "code",
   "execution_count": 15,
   "metadata": {},
   "outputs": [
    {
     "name": "stdout",
     "output_type": "stream",
     "text": [
      "(1625, 171) (542, 171)\n"
     ]
    }
   ],
   "source": [
    "#shape of the data\n",
    "print(train_wr.shape, test_wr.shape)"
   ]
  },
  {
   "cell_type": "markdown",
   "metadata": {},
   "source": [
    "### Missing Data analysis"
   ]
  },
  {
   "cell_type": "markdown",
   "metadata": {},
   "source": [
    "#### Basic analysis"
   ]
  },
  {
   "cell_type": "code",
   "execution_count": 16,
   "metadata": {},
   "outputs": [],
   "source": [
    "#create a series of percent of missing data\n",
    "missing_data_pct = train_wr.isna().sum() / train_wr.shape[0]"
   ]
  },
  {
   "cell_type": "code",
   "execution_count": 17,
   "metadata": {},
   "outputs": [
    {
     "data": {
      "text/plain": [
       "roll_td_to_int           0.992615\n",
       "seas_td_to_int           0.990769\n",
       "roll_yds_per_comp        0.987077\n",
       "seas_yds_per_comp        0.982769\n",
       "roll_comp_pct            0.975385\n",
       "seas_comp_pct            0.963077\n",
       "last_td_to_int           0.910769\n",
       "last_yds_per_comp        0.901538\n",
       "last_comp_pct            0.896615\n",
       "last_ret_to_td           0.860308\n",
       "last_avg_ret             0.860308\n",
       "career_td_to_int         0.850462\n",
       "career_yds_per_comp      0.838154\n",
       "career_comp_pct          0.789538\n",
       "roll_carry_to_td         0.725538\n",
       "roll_ryds_per_carry      0.724923\n",
       "roll_ret_to_td           0.675692\n",
       "roll_avg_ret             0.675077\n",
       "roll_carry_to_fuml       0.659692\n",
       "last_ryds_per_carry      0.654769\n",
       "last_carry_to_td         0.654154\n",
       "seas_ret_to_td           0.646769\n",
       "seas_avg_ret             0.646154\n",
       "last_carry_to_fuml       0.641846\n",
       "seas_carry_to_td         0.624615\n",
       "seas_ryds_per_carry      0.624000\n",
       "career_avg_ret           0.588308\n",
       "career_ret_to_td         0.588308\n",
       "seas_carry_to_fuml       0.535385\n",
       "last_yds_per_rec         0.399385\n",
       "last_rec_to_td           0.399385\n",
       "last_catch_pct           0.328000\n",
       "career_ryds_per_carry    0.312615\n",
       "career_carry_to_td       0.310769\n",
       "dtype: float64"
      ]
     },
     "execution_count": 17,
     "metadata": {},
     "output_type": "execute_result"
    }
   ],
   "source": [
    "#list all columns with missing data that is greater than 25%\n",
    "missing_data_pct[missing_data_pct > 0.25].sort_values(ascending=False)"
   ]
  },
  {
   "cell_type": "code",
   "execution_count": 18,
   "metadata": {
    "scrolled": true
   },
   "outputs": [
    {
     "data": {
      "text/plain": [
       "career_carry_to_fuml    0.230154\n",
       "temp                    0.145846\n",
       "career_rec_to_td        0.136000\n",
       "career_yds_per_rec      0.132308\n",
       "last_pa                 0.123692\n",
       "last_ra                 0.123692\n",
       "last_rety               0.123692\n",
       "last_ret                0.123692\n",
       "last_tdrec              0.123692\n",
       "last_recy               0.123692\n",
       "last_rec                0.123692\n",
       "last_trg                0.123692\n",
       "last_fuml               0.123692\n",
       "last_tdr                0.123692\n",
       "last_ry                 0.123692\n",
       "last_sra                0.123692\n",
       "last_py                 0.123692\n",
       "last_tdp                0.123692\n",
       "last_ints               0.123692\n",
       "last_pc                 0.123692\n",
       "last_tdret              0.123692\n",
       "career_catch_pct        0.120615\n",
       "roll_yds_per_rec        0.068308\n",
       "roll_rec_to_td          0.068308\n",
       "seas_yds_per_rec        0.060923\n",
       "seas_rec_to_td          0.060923\n",
       "roll_catch_pct          0.045538\n",
       "seas_catch_pct          0.040000\n",
       "career_pa               0.033846\n",
       "career_sra              0.033846\n",
       "career_pc               0.033846\n",
       "career_trg              0.033846\n",
       "career_tdret            0.033846\n",
       "career_rety             0.033846\n",
       "career_ret              0.033846\n",
       "career_tdrec            0.033846\n",
       "career_recy             0.033846\n",
       "career_rec              0.033846\n",
       "career_fuml             0.033846\n",
       "career_py               0.033846\n",
       "career_tdr              0.033846\n",
       "career_ry               0.033846\n",
       "career_ra               0.033846\n",
       "career_tdp              0.033846\n",
       "career_ints             0.033846\n",
       "humd                    0.030154\n",
       "wdir                    0.021538\n",
       "dtype: float64"
      ]
     },
     "execution_count": 18,
     "metadata": {},
     "output_type": "execute_result"
    }
   ],
   "source": [
    "#columns with missing values but less than or equal to 25%\n",
    "impute_cols = missing_data_pct[(missing_data_pct <= 0.25) & (missing_data_pct > 0)].sort_values(ascending=False)\n",
    "impute_cols"
   ]
  },
  {
   "cell_type": "markdown",
   "metadata": {},
   "source": [
    "#### Take action on missing data"
   ]
  },
  {
   "cell_type": "markdown",
   "metadata": {},
   "source": [
    "##### Drop columns with too many missing values"
   ]
  },
  {
   "cell_type": "code",
   "execution_count": 23,
   "metadata": {},
   "outputs": [],
   "source": [
    "#drop columns with missing data greater than 25%\n",
    "#store the column names\n",
    "missing_cols_del = missing_data_pct[missing_data_pct > 0.25].sort_values(ascending=False).index\n",
    "#drop the columns and store as new dataframe\n",
    "train_wr_miss = train_wr.drop(missing_cols_del, axis=1, inplace=False)"
   ]
  },
  {
   "cell_type": "code",
   "execution_count": 24,
   "metadata": {},
   "outputs": [
    {
     "data": {
      "text/plain": [
       "(1625, 137)"
      ]
     },
     "execution_count": 24,
     "metadata": {},
     "output_type": "execute_result"
    }
   ],
   "source": [
    "#check the shape\n",
    "train_wr_miss.shape"
   ]
  },
  {
   "cell_type": "markdown",
   "metadata": {},
   "source": [
    "##### Impute the rest of the missing values"
   ]
  },
  {
   "cell_type": "code",
   "execution_count": 25,
   "metadata": {},
   "outputs": [],
   "source": [
    "from sklearn.impute import SimpleImputer"
   ]
  },
  {
   "cell_type": "code",
   "execution_count": 26,
   "metadata": {},
   "outputs": [],
   "source": [
    "#Build simple imputers for both numeric and categorical features\n",
    "numeric_impute = SimpleImputer(missing_values=np.NaN, strategy='median')\n",
    "cat_impute = SimpleImputer(missing_values=np.NaN, strategy='most_frequent')"
   ]
  },
  {
   "cell_type": "code",
   "execution_count": 27,
   "metadata": {},
   "outputs": [],
   "source": [
    "#create a dataframe of all of the features to impute\n",
    "missing_values_df = train_wr_miss.drop(train_wr_miss.columns.difference(impute_cols.index), axis=1, inplace=False)"
   ]
  },
  {
   "cell_type": "code",
   "execution_count": 28,
   "metadata": {},
   "outputs": [
    {
     "data": {
      "text/plain": [
       "Index(['last_pa', 'last_pc', 'last_py', 'last_ints', 'last_tdp', 'last_ra',\n",
       "       'last_sra', 'last_ry', 'last_tdr', 'last_fuml', 'last_trg', 'last_rec',\n",
       "       'last_recy', 'last_tdrec', 'last_ret', 'last_rety', 'last_tdret',\n",
       "       'career_pa', 'career_pc', 'career_py', 'career_ints', 'career_tdp',\n",
       "       'career_ra', 'career_sra', 'career_ry', 'career_tdr', 'career_fuml',\n",
       "       'career_trg', 'career_rec', 'career_recy', 'career_tdrec', 'career_ret',\n",
       "       'career_rety', 'career_tdret', 'career_carry_to_fuml',\n",
       "       'career_catch_pct', 'seas_catch_pct', 'roll_catch_pct',\n",
       "       'career_yds_per_rec', 'seas_yds_per_rec', 'roll_yds_per_rec',\n",
       "       'career_rec_to_td', 'seas_rec_to_td', 'roll_rec_to_td', 'temp', 'wdir',\n",
       "       'humd'],\n",
       "      dtype='object')"
      ]
     },
     "execution_count": 28,
     "metadata": {},
     "output_type": "execute_result"
    }
   ],
   "source": [
    "missing_values_df.columns"
   ]
  },
  {
   "cell_type": "code",
   "execution_count": 37,
   "metadata": {},
   "outputs": [
    {
     "data": {
      "text/plain": [
       "Index(['last_pa', 'last_pc', 'last_py', 'last_ints', 'last_tdp', 'last_ra',\n",
       "       'last_sra', 'last_ry', 'last_tdr', 'last_fuml', 'last_trg', 'last_rec',\n",
       "       'last_recy', 'last_tdrec', 'last_ret', 'last_rety', 'last_tdret',\n",
       "       'career_pa', 'career_pc', 'career_py', 'career_ints', 'career_tdp',\n",
       "       'career_ra', 'career_sra', 'career_ry', 'career_tdr', 'career_fuml',\n",
       "       'career_trg', 'career_rec', 'career_recy', 'career_tdrec', 'career_ret',\n",
       "       'career_rety', 'career_tdret', 'career_carry_to_fuml',\n",
       "       'career_catch_pct', 'seas_catch_pct', 'roll_catch_pct',\n",
       "       'career_yds_per_rec', 'seas_yds_per_rec', 'roll_yds_per_rec',\n",
       "       'career_rec_to_td', 'seas_rec_to_td', 'roll_rec_to_td', 'temp', 'humd'],\n",
       "      dtype='object')"
      ]
     },
     "execution_count": 37,
     "metadata": {},
     "output_type": "execute_result"
    }
   ],
   "source": [
    "#store the columns that need to use the numeric imputation and the categorical imputation\n",
    "impute_numeric_col = missing_values_df.select_dtypes(include=np.number).columns\n",
    "impute_cat_col = missing_values_df.select_dtypes(exclude=np.number).columns"
   ]
  },
  {
   "cell_type": "code",
   "execution_count": null,
   "metadata": {},
   "outputs": [],
   "source": []
  },
  {
   "cell_type": "code",
   "execution_count": null,
   "metadata": {},
   "outputs": [],
   "source": []
  },
  {
   "cell_type": "code",
   "execution_count": null,
   "metadata": {},
   "outputs": [],
   "source": []
  },
  {
   "cell_type": "code",
   "execution_count": null,
   "metadata": {},
   "outputs": [],
   "source": []
  },
  {
   "cell_type": "code",
   "execution_count": 86,
   "metadata": {},
   "outputs": [],
   "source": [
    "def tree_impute(df, cols):\n",
    "    #import necessary packages\n",
    "    try:\n",
    "        from sklearn.tree import DecisionTreeClassifier, DecisionTreeRegressor\n",
    "        from sklearn.impute import SimpleImputer\n",
    "        import pandas as pd\n",
    "    except:\n",
    "        print('Necessary packages are not installed. Please install:')\n",
    "        print('scikit-learn & pandas')\n",
    "    \n",
    "    #initialize a list to store imputed features\n",
    "    imputed_features = []\n",
    "    \n",
    "    #set up the dataframe to handle categorical features in Decision Trees\n",
    "        #store the categorical and bool columns as OneHotEncoded dummies\n",
    "\n",
    "    \n",
    "    #loop thru all features that have missing values\n",
    "    for c in cols:\n",
    "        #store the column datatype\n",
    "        data_type = df[c].dtype\n",
    "        #store the target variable separate\n",
    "        target = df[c].values\n",
    "        \n",
    "        \n",
    "        #store the features separate\n",
    "        features_df = df.drop(c, axis=1)\n",
    "        #create one hot encoded dummy variables\n",
    "        dummies = pd.get_dummies(features_df.select_dtypes(include=['category', 'bool']), drop_first=True)\n",
    "        #drop original columns (as well as strings) and concate the dummies\n",
    "        interim_df = features_df.drop(features_df.select_dtypes(include=['category', 'bool']), axis=1).select_dtypes(exclude='object')\n",
    "        new_df = pd.concat([interim_df, dummies], axis=1)\n",
    "        #convert to values\n",
    "        features = new_df.values\n",
    "        \n",
    "        \n",
    "        \n",
    "        #perform the imputation\n",
    "        if (data_type == 'category') | (data_type == 'bool'):\n",
    "            #Decision tree for categorical variable\n",
    "            Ctree = DecisionTreeClassifier(criterion='gini', random_state=100, max_depth=5, min_samples_leaf=3)\n",
    "            Ctree.fit(features, target)\n",
    "            output = Ctree.predict(target)\n",
    "        else:\n",
    "            try:\n",
    "                #Decision tree for regression variables\n",
    "                Rtree = DecisionTreeRegressor(criterion='mse', random_state=100, max_depth=5, min_samples_leaf=3)\n",
    "                Rtree.fit(features, target)\n",
    "                output = Rtree.predict(target)\n",
    "            except:\n",
    "                #use the average value to impute missing values\n",
    "                print('Decision tree could not be used for imputation')\n",
    "                print('Average value used')\n",
    "                mean_impute = SimpleImputer(strategy='mean')\n",
    "                output = mean_impute.fit_transform(target)\n",
    "        \n",
    "        #store the missing values\n",
    "        result = pd.Series(output).rename('imp_' + c)\n",
    "        imputed_features.append(result)\n",
    "    \n",
    "    #concat all series into a dataframe\n",
    "    final_df = pd.concat(imputed_features, axis=1)\n",
    "    \n",
    "    return final_df"
   ]
  },
  {
   "cell_type": "code",
   "execution_count": 19,
   "metadata": {},
   "outputs": [],
   "source": [
    "#store the columns with missing data\n",
    "low_missing_cols = missing_data_pct[(missing_data_pct <= 0.25) & (missing_data_pct > 0)].index"
   ]
  },
  {
   "cell_type": "markdown",
   "metadata": {},
   "source": [
    "Testing"
   ]
  },
  {
   "cell_type": "code",
   "execution_count": 43,
   "metadata": {},
   "outputs": [],
   "source": [
    "from sklearn.tree import DecisionTreeClassifier, DecisionTreeRegressor\n",
    "from sklearn.impute import SimpleImputer\n",
    "import pandas as pd"
   ]
  },
  {
   "cell_type": "code",
   "execution_count": 44,
   "metadata": {},
   "outputs": [
    {
     "data": {
      "text/plain": [
       "Index(['dv', 'last_pa', 'last_pc', 'last_py', 'last_ints', 'last_tdp',\n",
       "       'last_ra', 'last_sra', 'last_ry', 'last_tdr', 'last_fuml', 'last_trg',\n",
       "       'last_rec', 'last_recy', 'last_tdrec', 'last_ret', 'last_rety',\n",
       "       'last_tdret', 'career_pa', 'career_pc', 'career_py', 'career_ints',\n",
       "       'career_tdp', 'career_ra', 'career_sra', 'career_ry', 'career_tdr',\n",
       "       'career_fuml', 'career_trg', 'career_rec', 'career_recy',\n",
       "       'career_tdrec', 'career_ret', 'career_rety', 'career_tdret',\n",
       "       'career_carry_to_fuml', 'career_catch_pct', 'seas_catch_pct',\n",
       "       'roll_catch_pct', 'career_yds_per_rec', 'seas_yds_per_rec',\n",
       "       'roll_yds_per_rec', 'career_rec_to_td', 'seas_rec_to_td',\n",
       "       'roll_rec_to_td', 'cond', 'temp', 'wdir', 'humd'],\n",
       "      dtype='object')"
      ]
     },
     "execution_count": 44,
     "metadata": {},
     "output_type": "execute_result"
    }
   ],
   "source": [
    "low_missing_cols"
   ]
  },
  {
   "cell_type": "code",
   "execution_count": 45,
   "metadata": {},
   "outputs": [],
   "source": [
    "#store the argments for testing\n",
    "c = low_missing_cols[0]\n",
    "df = train_wr_miss"
   ]
  },
  {
   "cell_type": "code",
   "execution_count": 46,
   "metadata": {},
   "outputs": [],
   "source": [
    "#store the column type\n",
    "col_data_type = df[c].dtype"
   ]
  },
  {
   "cell_type": "code",
   "execution_count": 47,
   "metadata": {
    "scrolled": true
   },
   "outputs": [],
   "source": [
    "#create dummy variables\n",
    "#dummies = pd.get_dummies(df.select_dtypes(include=['category', 'bool']), drop_first=True)"
   ]
  },
  {
   "cell_type": "code",
   "execution_count": 30,
   "metadata": {},
   "outputs": [],
   "source": [
    "#drop original columns (as well as strings) and concate the dummies\n",
    "interim_df = df.drop(df.select_dtypes(include=['category', 'bool']), axis=1).select_dtypes(exclude='object')\n",
    "new_df = pd.concat([interim_df, dummies], axis=1)\n",
    "#drop identifier columns\n",
    "new_df = new_df.drop(['gid', 'nflid'], axis=1)\n",
    "#drop ultimate response variable\n",
    "new_df = new_df.drop('f_pts', axis=1)"
   ]
  },
  {
   "cell_type": "code",
   "execution_count": 31,
   "metadata": {},
   "outputs": [
    {
     "name": "stdout",
     "output_type": "stream",
     "text": [
      "pa\n",
      "pc\n",
      "py\n",
      "ints\n",
      "tdp\n",
      "ra\n",
      "sra\n",
      "ry\n",
      "tdr\n",
      "fuml\n",
      "trg\n",
      "rec\n",
      "recy\n",
      "tdrec\n",
      "ret\n",
      "rety\n",
      "tdret\n",
      "exp\n",
      "height\n",
      "weight\n",
      "forty\n",
      "bench\n",
      "vertical\n",
      "broad\n",
      "shuttle\n",
      "cone\n",
      "arm\n",
      "hand\n",
      "seas_pa\n",
      "seas_pc\n",
      "seas_py\n",
      "seas_ints\n",
      "seas_tdp\n",
      "seas_ra\n",
      "seas_sra\n",
      "seas_ry\n",
      "seas_tdr\n",
      "seas_fuml\n",
      "seas_trg\n",
      "seas_rec\n",
      "seas_recy\n",
      "seas_tdrec\n",
      "seas_ret\n",
      "seas_rety\n",
      "seas_tdret\n",
      "last_pa\n",
      "last_pc\n",
      "last_py\n",
      "last_ints\n",
      "last_tdp\n",
      "last_ra\n",
      "last_sra\n",
      "last_ry\n",
      "last_tdr\n",
      "last_fuml\n",
      "last_trg\n",
      "last_rec\n",
      "last_recy\n",
      "last_tdrec\n",
      "last_ret\n",
      "last_rety\n",
      "last_tdret\n",
      "career_pa\n",
      "career_pc\n",
      "career_py\n",
      "career_ints\n",
      "career_tdp\n",
      "career_ra\n",
      "career_sra\n",
      "career_ry\n",
      "career_tdr\n",
      "career_fuml\n",
      "career_trg\n",
      "career_rec\n",
      "career_recy\n",
      "career_tdrec\n",
      "career_ret\n",
      "career_rety\n",
      "career_tdret\n",
      "recent_fuml\n",
      "recent_ints\n",
      "recent_pa\n",
      "recent_pc\n",
      "recent_py\n",
      "recent_ra\n",
      "recent_rec\n",
      "recent_recy\n",
      "recent_ret\n",
      "recent_rety\n",
      "recent_ry\n",
      "recent_sra\n",
      "recent_tdp\n",
      "recent_tdr\n",
      "recent_tdrec\n",
      "recent_tdret\n",
      "recent_trg\n",
      "career_carry_to_fuml\n",
      "career_catch_pct\n",
      "seas_catch_pct\n",
      "roll_catch_pct\n",
      "career_yds_per_rec\n",
      "seas_yds_per_rec\n",
      "roll_yds_per_rec\n",
      "career_rec_to_td\n",
      "seas_rec_to_td\n",
      "roll_rec_to_td\n",
      "age\n",
      "temp\n",
      "humd\n",
      "ou\n",
      "sprv\n",
      "ptsv\n",
      "ptsh\n",
      "udog_binary\n",
      "seas_2001\n",
      "seas_2002\n",
      "seas_2003\n",
      "seas_2004\n",
      "seas_2005\n",
      "seas_2006\n",
      "seas_2007\n",
      "seas_2008\n",
      "seas_2009\n",
      "seas_2010\n",
      "seas_2011\n",
      "seas_2012\n",
      "seas_2013\n",
      "seas_2014\n",
      "seas_2015\n",
      "seas_2016\n",
      "seas_2017\n",
      "seas_2018\n",
      "wk_3\n",
      "wk_4\n",
      "wk_5\n",
      "wk_6\n",
      "wk_7\n",
      "wk_8\n",
      "wk_9\n",
      "wk_10\n",
      "wk_11\n",
      "wk_12\n",
      "wk_13\n",
      "wk_14\n",
      "wk_15\n",
      "wk_16\n",
      "team_ATL\n",
      "team_BAL\n",
      "team_BUF\n",
      "team_CAR\n",
      "team_CHI\n",
      "team_CIN\n",
      "team_CLE\n",
      "team_DAL\n",
      "team_DEN\n",
      "team_DET\n",
      "team_GB\n",
      "team_HOU\n",
      "team_IND\n",
      "team_JAC\n",
      "team_KC\n",
      "team_LA\n",
      "team_LAC\n",
      "team_MIA\n",
      "team_MIN\n",
      "team_NE\n",
      "team_NO\n",
      "team_NYG\n",
      "team_NYJ\n",
      "team_OAK\n",
      "team_PHI\n",
      "team_PIT\n",
      "team_SD\n",
      "team_SEA\n",
      "team_SF\n",
      "team_STL\n",
      "team_TB\n",
      "team_TEN\n",
      "team_WAS\n",
      "pos1_RB\n",
      "pos1_TE\n",
      "pos1_WR\n",
      "dv_Atlantic 10\n",
      "dv_Atlantic Coast (ACC)\n",
      "dv_Big 12\n",
      "dv_Big East\n",
      "dv_Big Eight\n",
      "dv_Big Sky\n",
      "dv_Big Ten\n",
      "dv_Big West\n",
      "dv_Colonial Athletic (CAA)\n",
      "dv_Conference USA (C-USA)\n",
      "dv_FBS Independents\n",
      "dv_FCS Independents\n",
      "dv_Great West\n",
      "dv_Ivy League\n",
      "dv_Mid-American (MAC)\n",
      "dv_Mid-Eastern Athletic (MEAC)\n",
      "dv_Missouri Valley\n",
      "dv_Mountain West (MWC)\n",
      "dv_Ohio Valley\n",
      "dv_Pacific 10\n",
      "dv_Pacific 12\n",
      "dv_Southeastern (SEC)\n",
      "dv_Southern\n",
      "dv_Southland\n",
      "dv_Southwest\n",
      "dv_Southwestern Athletic (SWAC)\n",
      "dv_Sun Belt\n",
      "dv_Western Athletic\n",
      "dv_Yankee\n",
      "v_ATL\n",
      "v_BAL\n",
      "v_BUF\n",
      "v_CAR\n",
      "v_CHI\n",
      "v_CIN\n",
      "v_CLE\n",
      "v_DAL\n",
      "v_DEN\n",
      "v_DET\n",
      "v_GB\n",
      "v_HOU\n",
      "v_IND\n",
      "v_JAC\n",
      "v_KC\n",
      "v_LA\n",
      "v_LAC\n",
      "v_MIA\n",
      "v_MIN\n",
      "v_NE\n",
      "v_NO\n",
      "v_NYG\n",
      "v_NYJ\n",
      "v_OAK\n",
      "v_PHI\n",
      "v_PIT\n",
      "v_SD\n",
      "v_SEA\n",
      "v_SF\n",
      "v_STL\n",
      "v_TB\n",
      "v_TEN\n",
      "v_WAS\n",
      "h_ATL\n",
      "h_BAL\n",
      "h_BUF\n",
      "h_CAR\n",
      "h_CHI\n",
      "h_CIN\n",
      "h_CLE\n",
      "h_DAL\n",
      "h_DEN\n",
      "h_DET\n",
      "h_GB\n",
      "h_HOU\n",
      "h_IND\n",
      "h_JAC\n",
      "h_KC\n",
      "h_LA\n",
      "h_LAC\n",
      "h_MIA\n",
      "h_MIN\n",
      "h_NE\n",
      "h_NO\n",
      "h_NYG\n",
      "h_NYJ\n",
      "h_OAK\n",
      "h_PHI\n",
      "h_PIT\n",
      "h_SD\n",
      "h_SEA\n",
      "h_SF\n",
      "h_STL\n",
      "h_TB\n",
      "h_TEN\n",
      "h_WAS\n",
      "day_MN\n",
      "day_SAT\n",
      "day_SN\n",
      "day_SUN\n",
      "day_THU\n",
      "day_TN\n",
      "cond_Clear\n",
      "cond_Closed Roof\n",
      "cond_Cloudy\n",
      "cond_Cold\n",
      "cond_Covered Roof\n",
      "cond_Dome\n",
      "cond_Fair\n",
      "cond_Flurries\n",
      "cond_Foggy\n",
      "cond_Hazy\n",
      "cond_Light Rain\n",
      "cond_Light Showers\n",
      "cond_Light Snow\n",
      "cond_Mostly Cloudy\n",
      "cond_Mostly Sunny\n",
      "cond_Overcast\n",
      "cond_Partly CLoudy\n",
      "cond_Partly Cloudy\n",
      "cond_Partly Sunny\n",
      "cond_Rain\n",
      "cond_Showers\n",
      "cond_Snow\n",
      "cond_Sunny\n",
      "cond_Thunderstorms\n",
      "stad_AT&T Stadium\n",
      "stad_Adelphia Coliseum\n",
      "stad_Alltel Stadium\n",
      "stad_Arrowhead Stadium\n",
      "stad_Azteca Stadium\n",
      "stad_Bank of America Stadium\n",
      "stad_Candlestick Park\n",
      "stad_Cardinals Stadium\n",
      "stad_CenturyLink Field\n",
      "stad_Cleveland Browns Stadium\n",
      "stad_Cowboys Stadium\n",
      "stad_Dolphins Stadium\n",
      "stad_Edward Jones Dome\n",
      "stad_Ericsson Stadium\n",
      "stad_Estadio Azteca\n",
      "stad_EverBank Field\n",
      "stad_FedEx Field\n",
      "stad_FirstEnergy Stadium\n",
      "stad_Ford Field\n",
      "stad_Foxboro Stadium\n",
      "stad_Georgia Dome\n",
      "stad_Giants Stadium\n",
      "stad_Gillette Stadium\n",
      "stad_Hard Rock Stadium\n",
      "stad_Heinz Field\n",
      "stad_Husky Stadium\n",
      "stad_Invesco Field at Mile High\n",
      "stad_Jacksonville Municipal Stadium\n",
      "stad_LP Field\n",
      "stad_Lambeau Field\n",
      "stad_Land Shark Stadium\n",
      "stad_Levi's Stadium\n",
      "stad_Lincoln Financial Field\n",
      "stad_Los Angeles Memorial Coliseum\n",
      "stad_Louisiana Superdome\n",
      "stad_Lucas Oil Stadium\n",
      "stad_M&T Bank Stadium\n",
      "stad_Mall of America Field at HHH Metrodome\n",
      "stad_McAfee Coliseum\n",
      "stad_Memorial Stadium\n",
      "stad_Mercedes-Benz Stadium\n",
      "stad_Mercedes-Benz Superdome\n",
      "stad_MetLife Stadium\n",
      "stad_Metrodome\n",
      "stad_Mile High Stadium\n",
      "stad_Monster Park\n",
      "stad_NRG Stadium\n",
      "stad_Network Associates Coliseum\n",
      "stad_New Era Field\n",
      "stad_New Meadowlands Stadium\n",
      "stad_Nissan Stadium\n",
      "stad_O.co Coliseum Oakland\n",
      "stad_Oakland-Alameda County Coliseum\n",
      "stad_PSINet Stadium\n",
      "stad_Paul Brown Stadium\n",
      "stad_Pontiac Silverdome\n",
      "stad_Pro Player Stadium\n",
      "stad_Qualcomm Stadium\n",
      "stad_Qwest Field\n",
      "stad_RCA Dome\n",
      "stad_Ralph Wilson Stadium\n",
      "stad_Ravens Stadium\n",
      "stad_Raymond James Stadium\n",
      "stad_Reliant Stadium\n",
      "stad_Rogers Centre\n",
      "stad_Seahawks Stadium\n",
      "stad_Snapdragon Stadium\n",
      "stad_Soldier Field\n",
      "stad_Sports Authority Field at Mile High\n",
      "stad_StubHub Center\n",
      "stad_Sun Devil Stadium\n",
      "stad_Sun Life Stadium\n",
      "stad_TCF Bank Stadium\n",
      "stad_TIAA Bank Field\n",
      "stad_Texas Stadium\n",
      "stad_The Meadowlands\n",
      "stad_Three Rivers Stadium\n",
      "stad_Trans World Dome\n",
      "stad_Twickenham\n",
      "stad_Twickenham Stadium\n",
      "stad_U.S. Bank Stadium\n",
      "stad_University of Phoenix Stadium\n",
      "stad_Veterans Stadium\n",
      "stad_Wembley Stadium\n",
      "wdir_CALM\n",
      "wdir_E\n",
      "wdir_ENE\n",
      "wdir_ESE\n",
      "wdir_N\n",
      "wdir_NE\n",
      "wdir_NNE\n",
      "wdir_NNW\n",
      "wdir_NW\n",
      "wdir_S\n",
      "wdir_SE\n",
      "wdir_SSE\n",
      "wdir_SSW\n",
      "wdir_SW\n",
      "wdir_VAR\n",
      "wdir_W\n",
      "wdir_WNW\n",
      "wdir_WSW\n",
      "wdir_e\n",
      "surf_Artificial Turf\n",
      "surf_AstroPlay\n",
      "surf_AstroTurf\n",
      "surf_DD GrassMaster\n",
      "surf_FieldTurf\n",
      "surf_Grass\n",
      "surf_Matrix RealGrass\n",
      "surf_MomentumTurf\n",
      "surf_NeXTurf\n",
      "surf_SportGrass\n",
      "surf_Sportex\n",
      "surf_UBU Speed Series S5M\n",
      "udog_ATL\n",
      "udog_BAL\n",
      "udog_BUF\n",
      "udog_CAR\n",
      "udog_CHI\n",
      "udog_CIN\n",
      "udog_CLE\n",
      "udog_DAL\n",
      "udog_DEN\n",
      "udog_DET\n",
      "udog_GB\n",
      "udog_HOU\n",
      "udog_IND\n",
      "udog_JAC\n",
      "udog_KC\n",
      "udog_LA\n",
      "udog_LAC\n",
      "udog_MIA\n",
      "udog_MIN\n",
      "udog_NE\n",
      "udog_NO\n",
      "udog_NYG\n",
      "udog_NYJ\n",
      "udog_OAK\n",
      "udog_PHI\n",
      "udog_PIT\n",
      "udog_SD\n",
      "udog_SEA\n",
      "udog_SF\n",
      "udog_STL\n",
      "udog_TB\n",
      "udog_TEN\n",
      "udog_WAS\n",
      "gen_cond_indoor_cond\n",
      "gen_cond_percip_cond\n",
      "def_team_ATL\n",
      "def_team_BAL\n",
      "def_team_BUF\n",
      "def_team_CAR\n",
      "def_team_CHI\n",
      "def_team_CIN\n",
      "def_team_CLE\n",
      "def_team_DAL\n",
      "def_team_DEN\n",
      "def_team_DET\n",
      "def_team_GB\n",
      "def_team_HOU\n",
      "def_team_IND\n",
      "def_team_JAC\n",
      "def_team_KC\n",
      "def_team_LA\n",
      "def_team_LAC\n",
      "def_team_MIA\n",
      "def_team_MIN\n",
      "def_team_NE\n",
      "def_team_NO\n",
      "def_team_NYG\n",
      "def_team_NYJ\n",
      "def_team_OAK\n",
      "def_team_PHI\n",
      "def_team_PIT\n",
      "def_team_SD\n",
      "def_team_SEA\n",
      "def_team_SF\n",
      "def_team_STL\n",
      "def_team_TB\n",
      "def_team_TEN\n",
      "def_team_WAS\n"
     ]
    }
   ],
   "source": [
    "for i in new_df.columns: print(i)"
   ]
  },
  {
   "cell_type": "code",
   "execution_count": 48,
   "metadata": {},
   "outputs": [],
   "source": [
    "#store the target\n",
    "target = df[c].values"
   ]
  },
  {
   "cell_type": "code",
   "execution_count": 49,
   "metadata": {},
   "outputs": [],
   "source": [
    "#store the features\n",
    "features_df = df.drop(c, axis=1)"
   ]
  },
  {
   "cell_type": "code",
   "execution_count": 50,
   "metadata": {},
   "outputs": [],
   "source": [
    "#create one hot encoded dummy variables\n",
    "dummies = pd.get_dummies(features_df.select_dtypes(include=['category', 'bool']), drop_first=False)"
   ]
  },
  {
   "cell_type": "code",
   "execution_count": 51,
   "metadata": {},
   "outputs": [],
   "source": [
    "#drop original columns (as well as strings) and concate the dummies\n",
    "interim_df = features_df.drop(features_df.select_dtypes(include=['category', 'bool']), axis=1).select_dtypes(exclude='object')\n",
    "new_df = pd.concat([interim_df, dummies], axis=1)"
   ]
  },
  {
   "cell_type": "code",
   "execution_count": 52,
   "metadata": {},
   "outputs": [],
   "source": [
    "#convert to values\n",
    "features = new_df.values"
   ]
  },
  {
   "cell_type": "code",
   "execution_count": 53,
   "metadata": {},
   "outputs": [],
   "source": [
    "#tree classifier\n",
    "tree = DecisionTreeClassifier(criterion='gini', random_state=212, min_samples_leaf=3)"
   ]
  },
  {
   "cell_type": "code",
   "execution_count": 54,
   "metadata": {},
   "outputs": [
    {
     "ename": "ValueError",
     "evalue": "Input contains NaN, infinity or a value too large for dtype('float32').",
     "output_type": "error",
     "traceback": [
      "\u001b[1;31m---------------------------------------------------------------------------\u001b[0m",
      "\u001b[1;31mValueError\u001b[0m                                Traceback (most recent call last)",
      "\u001b[1;32m<ipython-input-54-99f43e6f60b7>\u001b[0m in \u001b[0;36m<module>\u001b[1;34m\u001b[0m\n\u001b[0;32m      1\u001b[0m \u001b[1;31m#fit the tree\u001b[0m\u001b[1;33m\u001b[0m\u001b[1;33m\u001b[0m\u001b[1;33m\u001b[0m\u001b[0m\n\u001b[1;32m----> 2\u001b[1;33m \u001b[0mtree\u001b[0m\u001b[1;33m.\u001b[0m\u001b[0mfit\u001b[0m\u001b[1;33m(\u001b[0m\u001b[0mfeatures\u001b[0m\u001b[1;33m,\u001b[0m \u001b[0mtarget\u001b[0m\u001b[1;33m)\u001b[0m\u001b[1;33m\u001b[0m\u001b[1;33m\u001b[0m\u001b[0m\n\u001b[0m",
      "\u001b[1;32m~\\Anaconda3\\lib\\site-packages\\sklearn\\tree\\tree.py\u001b[0m in \u001b[0;36mfit\u001b[1;34m(self, X, y, sample_weight, check_input, X_idx_sorted)\u001b[0m\n\u001b[0;32m    799\u001b[0m             \u001b[0msample_weight\u001b[0m\u001b[1;33m=\u001b[0m\u001b[0msample_weight\u001b[0m\u001b[1;33m,\u001b[0m\u001b[1;33m\u001b[0m\u001b[1;33m\u001b[0m\u001b[0m\n\u001b[0;32m    800\u001b[0m             \u001b[0mcheck_input\u001b[0m\u001b[1;33m=\u001b[0m\u001b[0mcheck_input\u001b[0m\u001b[1;33m,\u001b[0m\u001b[1;33m\u001b[0m\u001b[1;33m\u001b[0m\u001b[0m\n\u001b[1;32m--> 801\u001b[1;33m             X_idx_sorted=X_idx_sorted)\n\u001b[0m\u001b[0;32m    802\u001b[0m         \u001b[1;32mreturn\u001b[0m \u001b[0mself\u001b[0m\u001b[1;33m\u001b[0m\u001b[1;33m\u001b[0m\u001b[0m\n\u001b[0;32m    803\u001b[0m \u001b[1;33m\u001b[0m\u001b[0m\n",
      "\u001b[1;32m~\\Anaconda3\\lib\\site-packages\\sklearn\\tree\\tree.py\u001b[0m in \u001b[0;36mfit\u001b[1;34m(self, X, y, sample_weight, check_input, X_idx_sorted)\u001b[0m\n\u001b[0;32m    114\u001b[0m         \u001b[0mrandom_state\u001b[0m \u001b[1;33m=\u001b[0m \u001b[0mcheck_random_state\u001b[0m\u001b[1;33m(\u001b[0m\u001b[0mself\u001b[0m\u001b[1;33m.\u001b[0m\u001b[0mrandom_state\u001b[0m\u001b[1;33m)\u001b[0m\u001b[1;33m\u001b[0m\u001b[1;33m\u001b[0m\u001b[0m\n\u001b[0;32m    115\u001b[0m         \u001b[1;32mif\u001b[0m \u001b[0mcheck_input\u001b[0m\u001b[1;33m:\u001b[0m\u001b[1;33m\u001b[0m\u001b[1;33m\u001b[0m\u001b[0m\n\u001b[1;32m--> 116\u001b[1;33m             \u001b[0mX\u001b[0m \u001b[1;33m=\u001b[0m \u001b[0mcheck_array\u001b[0m\u001b[1;33m(\u001b[0m\u001b[0mX\u001b[0m\u001b[1;33m,\u001b[0m \u001b[0mdtype\u001b[0m\u001b[1;33m=\u001b[0m\u001b[0mDTYPE\u001b[0m\u001b[1;33m,\u001b[0m \u001b[0maccept_sparse\u001b[0m\u001b[1;33m=\u001b[0m\u001b[1;34m\"csc\"\u001b[0m\u001b[1;33m)\u001b[0m\u001b[1;33m\u001b[0m\u001b[1;33m\u001b[0m\u001b[0m\n\u001b[0m\u001b[0;32m    117\u001b[0m             \u001b[0my\u001b[0m \u001b[1;33m=\u001b[0m \u001b[0mcheck_array\u001b[0m\u001b[1;33m(\u001b[0m\u001b[0my\u001b[0m\u001b[1;33m,\u001b[0m \u001b[0mensure_2d\u001b[0m\u001b[1;33m=\u001b[0m\u001b[1;32mFalse\u001b[0m\u001b[1;33m,\u001b[0m \u001b[0mdtype\u001b[0m\u001b[1;33m=\u001b[0m\u001b[1;32mNone\u001b[0m\u001b[1;33m)\u001b[0m\u001b[1;33m\u001b[0m\u001b[1;33m\u001b[0m\u001b[0m\n\u001b[0;32m    118\u001b[0m             \u001b[1;32mif\u001b[0m \u001b[0missparse\u001b[0m\u001b[1;33m(\u001b[0m\u001b[0mX\u001b[0m\u001b[1;33m)\u001b[0m\u001b[1;33m:\u001b[0m\u001b[1;33m\u001b[0m\u001b[1;33m\u001b[0m\u001b[0m\n",
      "\u001b[1;32m~\\Anaconda3\\lib\\site-packages\\sklearn\\utils\\validation.py\u001b[0m in \u001b[0;36mcheck_array\u001b[1;34m(array, accept_sparse, accept_large_sparse, dtype, order, copy, force_all_finite, ensure_2d, allow_nd, ensure_min_samples, ensure_min_features, warn_on_dtype, estimator)\u001b[0m\n\u001b[0;32m    571\u001b[0m         \u001b[1;32mif\u001b[0m \u001b[0mforce_all_finite\u001b[0m\u001b[1;33m:\u001b[0m\u001b[1;33m\u001b[0m\u001b[1;33m\u001b[0m\u001b[0m\n\u001b[0;32m    572\u001b[0m             _assert_all_finite(array,\n\u001b[1;32m--> 573\u001b[1;33m                                allow_nan=force_all_finite == 'allow-nan')\n\u001b[0m\u001b[0;32m    574\u001b[0m \u001b[1;33m\u001b[0m\u001b[0m\n\u001b[0;32m    575\u001b[0m     \u001b[0mshape_repr\u001b[0m \u001b[1;33m=\u001b[0m \u001b[0m_shape_repr\u001b[0m\u001b[1;33m(\u001b[0m\u001b[0marray\u001b[0m\u001b[1;33m.\u001b[0m\u001b[0mshape\u001b[0m\u001b[1;33m)\u001b[0m\u001b[1;33m\u001b[0m\u001b[1;33m\u001b[0m\u001b[0m\n",
      "\u001b[1;32m~\\Anaconda3\\lib\\site-packages\\sklearn\\utils\\validation.py\u001b[0m in \u001b[0;36m_assert_all_finite\u001b[1;34m(X, allow_nan)\u001b[0m\n\u001b[0;32m     54\u001b[0m                 not allow_nan and not np.isfinite(X).all()):\n\u001b[0;32m     55\u001b[0m             \u001b[0mtype_err\u001b[0m \u001b[1;33m=\u001b[0m \u001b[1;34m'infinity'\u001b[0m \u001b[1;32mif\u001b[0m \u001b[0mallow_nan\u001b[0m \u001b[1;32melse\u001b[0m \u001b[1;34m'NaN, infinity'\u001b[0m\u001b[1;33m\u001b[0m\u001b[1;33m\u001b[0m\u001b[0m\n\u001b[1;32m---> 56\u001b[1;33m             \u001b[1;32mraise\u001b[0m \u001b[0mValueError\u001b[0m\u001b[1;33m(\u001b[0m\u001b[0mmsg_err\u001b[0m\u001b[1;33m.\u001b[0m\u001b[0mformat\u001b[0m\u001b[1;33m(\u001b[0m\u001b[0mtype_err\u001b[0m\u001b[1;33m,\u001b[0m \u001b[0mX\u001b[0m\u001b[1;33m.\u001b[0m\u001b[0mdtype\u001b[0m\u001b[1;33m)\u001b[0m\u001b[1;33m)\u001b[0m\u001b[1;33m\u001b[0m\u001b[1;33m\u001b[0m\u001b[0m\n\u001b[0m\u001b[0;32m     57\u001b[0m \u001b[1;33m\u001b[0m\u001b[0m\n\u001b[0;32m     58\u001b[0m \u001b[1;33m\u001b[0m\u001b[0m\n",
      "\u001b[1;31mValueError\u001b[0m: Input contains NaN, infinity or a value too large for dtype('float32')."
     ]
    }
   ],
   "source": [
    "#fit the tree\n",
    "tree.fit(features, target)"
   ]
  },
  {
   "cell_type": "code",
   "execution_count": null,
   "metadata": {},
   "outputs": [],
   "source": []
  }
 ],
 "metadata": {
  "kernelspec": {
   "display_name": "Python 3",
   "language": "python",
   "name": "python3"
  },
  "language_info": {
   "codemirror_mode": {
    "name": "ipython",
    "version": 3
   },
   "file_extension": ".py",
   "mimetype": "text/x-python",
   "name": "python",
   "nbconvert_exporter": "python",
   "pygments_lexer": "ipython3",
   "version": "3.7.1"
  }
 },
 "nbformat": 4,
 "nbformat_minor": 2
}
