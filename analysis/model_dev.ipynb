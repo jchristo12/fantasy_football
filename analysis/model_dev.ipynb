{
 "cells": [
  {
   "cell_type": "markdown",
   "metadata": {},
   "source": [
    "# EDA & Model Development "
   ]
  },
  {
   "cell_type": "code",
   "execution_count": 1,
   "metadata": {},
   "outputs": [],
   "source": [
    "import pandas as pd\n",
    "import numpy as np\n",
    "import matplotlib.pyplot as plt\n",
    "import seaborn as sb\n",
    "import random"
   ]
  },
  {
   "cell_type": "markdown",
   "metadata": {},
   "source": [
    "## Initial Setup"
   ]
  },
  {
   "cell_type": "code",
   "execution_count": 2,
   "metadata": {},
   "outputs": [],
   "source": [
    "#https://raw.githubusercontent.com/jchristo12/fantasy_football/master/data/full_data.csv\n",
    "df = pd.read_csv('https://github.com/jchristo12/fantasy_football/blob/master/data/full_data.csv?raw=true')"
   ]
  },
  {
   "cell_type": "code",
   "execution_count": 3,
   "metadata": {},
   "outputs": [
    {
     "data": {
      "text/plain": [
       "Index(['pk', 'gid', 'seas', 'wk', 'player', 'fname', 'lname', 'full_name',\n",
       "       'team', 'pos1',\n",
       "       ...\n",
       "       'humd', 'ou', 'sprv', 'ptsv', 'ptsh', 'udog', 'gen_cond', 'udog_binary',\n",
       "       'def_team', 'f_pts'],\n",
       "      dtype='object', length=161)"
      ]
     },
     "execution_count": 3,
     "metadata": {},
     "output_type": "execute_result"
    }
   ],
   "source": [
    "df.columns"
   ]
  },
  {
   "cell_type": "code",
   "execution_count": 4,
   "metadata": {},
   "outputs": [],
   "source": [
    "#remove rows that have NaN for the shifted variables\n",
    "df_clean = df[~df.loc[:,'seas_pa':'seas_tdret'].isna().all(axis=1)]"
   ]
  },
  {
   "cell_type": "markdown",
   "metadata": {},
   "source": [
    "##### We are only focused on offensive players right now. Therefore, we will specifiy the positions we want to retain in the data and remove everyone else"
   ]
  },
  {
   "cell_type": "code",
   "execution_count": 5,
   "metadata": {
    "scrolled": true
   },
   "outputs": [],
   "source": [
    "#store positions we are concerned about; will use these to filter out \n",
    "pos_of_interest = ['QB', 'RB', 'WR', 'TE']\n",
    "#filter out positions we don't care about\n",
    "df_clean2 = df_clean[df_clean['pos1'].isin(pos_of_interest)]"
   ]
  },
  {
   "cell_type": "markdown",
   "metadata": {},
   "source": [
    "##### Convert each column to the appropriate data type (i.e. make the categorical data categories)"
   ]
  },
  {
   "cell_type": "code",
   "execution_count": 6,
   "metadata": {},
   "outputs": [],
   "source": [
    "#set the column types\n",
    "col_dtypes = {'category': ['seas', 'wk', 'pos1', 'team', 'udog', 'dv', 'v', 'h', 'day', 'cond', 'stad', 'wdir',\n",
    "                          'surf', 'gen_cond', 'def_team']}\n",
    "#flip the key and values around so they will work in the argument for 'astype()'\n",
    "col_dtypes_alt = {old: new for new, old_all in col_dtypes.items() for old in old_all}"
   ]
  },
  {
   "cell_type": "code",
   "execution_count": 7,
   "metadata": {},
   "outputs": [],
   "source": [
    "df_clean2 = df_clean2.astype(col_dtypes_alt)"
   ]
  },
  {
   "cell_type": "markdown",
   "metadata": {},
   "source": [
    "##### Segment out the WR data"
   ]
  },
  {
   "cell_type": "code",
   "execution_count": 8,
   "metadata": {},
   "outputs": [],
   "source": [
    "df_wr = df_clean2.loc[df_clean2['pos1']=='WR', :]"
   ]
  },
  {
   "cell_type": "markdown",
   "metadata": {},
   "source": [
    "## EDA"
   ]
  },
  {
   "cell_type": "markdown",
   "metadata": {},
   "source": [
    "Only focusing on the WR data right now. Will need to build this so that each action is extendable to the other positions"
   ]
  },
  {
   "cell_type": "markdown",
   "metadata": {},
   "source": [
    "### Training/Test split"
   ]
  },
  {
   "cell_type": "code",
   "execution_count": 9,
   "metadata": {},
   "outputs": [],
   "source": [
    "from sklearn.model_selection import train_test_split"
   ]
  },
  {
   "cell_type": "code",
   "execution_count": 10,
   "metadata": {},
   "outputs": [],
   "source": [
    "#set the random seed for reproducability\n",
    "random.seed(837)"
   ]
  },
  {
   "cell_type": "code",
   "execution_count": 11,
   "metadata": {},
   "outputs": [],
   "source": [
    "#break out the data between training and test\n",
    "train_wr, test_wr = train_test_split(df_wr, train_size=0.70, test_size=0.30, shuffle=True)"
   ]
  },
  {
   "cell_type": "markdown",
   "metadata": {},
   "source": [
    "### Missing Data analysis"
   ]
  },
  {
   "cell_type": "code",
   "execution_count": 12,
   "metadata": {},
   "outputs": [],
   "source": [
    "#create a series of percent of missing data\n",
    "missing_data_pct = train_wr.isna().sum() / train_wr.shape[0]"
   ]
  },
  {
   "cell_type": "code",
   "execution_count": 13,
   "metadata": {},
   "outputs": [
    {
     "data": {
      "text/plain": [
       "roll_td_to_int           0.994700\n",
       "seas_td_to_int           0.991238\n",
       "roll_yds_per_comp        0.990640\n",
       "seas_yds_per_comp        0.983246\n",
       "roll_comp_pct            0.978202\n",
       "seas_comp_pct            0.963884\n",
       "career_td_to_int         0.851477\n",
       "career_yds_per_comp      0.834039\n",
       "career_comp_pct          0.787024\n",
       "roll_ryds_per_carry      0.745480\n",
       "roll_carry_to_td         0.744925\n",
       "roll_ret_to_td           0.683421\n",
       "roll_avg_ret             0.683293\n",
       "roll_carry_to_fuml       0.678933\n",
       "seas_ryds_per_carry      0.665427\n",
       "seas_carry_to_td         0.664530\n",
       "seas_ret_to_td           0.652007\n",
       "seas_avg_ret             0.651793\n",
       "career_ret_to_td         0.599308\n",
       "career_avg_ret           0.599179\n",
       "seas_carry_to_fuml       0.574732\n",
       "career_ryds_per_carry    0.318331\n",
       "career_carry_to_td       0.317733\n",
       "humd                     0.274138\n",
       "wdir                     0.264863\n",
       "dtype: float64"
      ]
     },
     "execution_count": 13,
     "metadata": {},
     "output_type": "execute_result"
    }
   ],
   "source": [
    "missing_data_pct[missing_data_pct > 0.25].sort_values(ascending=False)"
   ]
  },
  {
   "cell_type": "code",
   "execution_count": 15,
   "metadata": {},
   "outputs": [
    {
     "data": {
      "text/plain": [
       "dv                       0.080737\n",
       "last_pa                  0.122879\n",
       "last_pc                  0.122879\n",
       "last_py                  0.122879\n",
       "last_ints                0.122879\n",
       "last_tdp                 0.122879\n",
       "last_ra                  0.122879\n",
       "last_sra                 0.122879\n",
       "last_ry                  0.122879\n",
       "last_tdr                 0.122879\n",
       "last_fuml                0.122879\n",
       "last_trg                 0.122879\n",
       "last_rec                 0.122879\n",
       "last_recy                0.122879\n",
       "last_tdrec               0.122879\n",
       "last_ret                 0.122879\n",
       "last_rety                0.122879\n",
       "last_tdret               0.122879\n",
       "career_pa                0.034278\n",
       "career_pc                0.034278\n",
       "career_py                0.034278\n",
       "career_ints              0.034278\n",
       "career_tdp               0.034278\n",
       "career_ra                0.034278\n",
       "career_sra               0.034278\n",
       "career_ry                0.034278\n",
       "career_tdr               0.034278\n",
       "career_fuml              0.034278\n",
       "career_trg               0.034278\n",
       "career_rec               0.034278\n",
       "                           ...   \n",
       "seas_yds_per_comp        0.983246\n",
       "roll_yds_per_comp        0.990640\n",
       "career_ryds_per_carry    0.318331\n",
       "seas_ryds_per_carry      0.665427\n",
       "roll_ryds_per_carry      0.745480\n",
       "career_carry_to_td       0.317733\n",
       "seas_carry_to_td         0.664530\n",
       "roll_carry_to_td         0.744925\n",
       "career_carry_to_fuml     0.231013\n",
       "seas_carry_to_fuml       0.574732\n",
       "roll_carry_to_fuml       0.678933\n",
       "career_catch_pct         0.124332\n",
       "seas_catch_pct           0.049194\n",
       "roll_catch_pct           0.056118\n",
       "career_yds_per_rec       0.137966\n",
       "seas_yds_per_rec         0.075950\n",
       "roll_yds_per_rec         0.084925\n",
       "career_rec_to_td         0.140916\n",
       "seas_rec_to_td           0.076035\n",
       "roll_rec_to_td           0.085096\n",
       "career_avg_ret           0.599179\n",
       "seas_avg_ret             0.651793\n",
       "roll_avg_ret             0.683293\n",
       "career_ret_to_td         0.599308\n",
       "seas_ret_to_td           0.652007\n",
       "roll_ret_to_td           0.683421\n",
       "cond                     0.017780\n",
       "temp                     0.168782\n",
       "wdir                     0.264863\n",
       "humd                     0.274138\n",
       "Length: 72, dtype: float64"
      ]
     },
     "execution_count": 15,
     "metadata": {},
     "output_type": "execute_result"
    }
   ],
   "source": [
    "missing_data_pct[missing_data_pct != 0]"
   ]
  }
 ],
 "metadata": {
  "kernelspec": {
   "display_name": "Python 3",
   "language": "python",
   "name": "python3"
  },
  "language_info": {
   "codemirror_mode": {
    "name": "ipython",
    "version": 3
   },
   "file_extension": ".py",
   "mimetype": "text/x-python",
   "name": "python",
   "nbconvert_exporter": "python",
   "pygments_lexer": "ipython3",
   "version": "3.7.1"
  }
 },
 "nbformat": 4,
 "nbformat_minor": 2
}
