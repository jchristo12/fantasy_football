{
 "cells": [
  {
   "cell_type": "markdown",
   "metadata": {},
   "source": [
    "# EDA & Model Development "
   ]
  },
  {
   "cell_type": "code",
   "execution_count": 1,
   "metadata": {},
   "outputs": [],
   "source": [
    "import pandas as pd\n",
    "import numpy as np\n",
    "import matplotlib.pyplot as plt\n",
    "import seaborn as sb"
   ]
  },
  {
   "cell_type": "markdown",
   "metadata": {},
   "source": [
    "## Read in Data"
   ]
  },
  {
   "cell_type": "code",
   "execution_count": 2,
   "metadata": {},
   "outputs": [],
   "source": [
    "#https://raw.githubusercontent.com/jchristo12/fantasy_football/master/data/full_data.csv\n",
    "df = pd.read_csv('https://github.com/jchristo12/fantasy_football/blob/master/data/full_data.csv?raw=true')"
   ]
  },
  {
   "cell_type": "code",
   "execution_count": 3,
   "metadata": {},
   "outputs": [],
   "source": [
    "#remove rows that have NaN for the shifted variables\n",
    "df_clean = df[~df.loc[:,'seas_pa':'seas_tdret'].isna().all(axis=1)]"
   ]
  },
  {
   "cell_type": "code",
   "execution_count": 4,
   "metadata": {},
   "outputs": [
    {
     "data": {
      "text/plain": [
       "(83754, 142)"
      ]
     },
     "execution_count": 4,
     "metadata": {},
     "output_type": "execute_result"
    }
   ],
   "source": []
  },
  {
   "cell_type": "markdown",
   "metadata": {},
   "source": [
    "The result is a dataframe that has lagged data for each week"
   ]
  },
  {
   "cell_type": "code",
   "execution_count": 14,
   "metadata": {},
   "outputs": [],
   "source": [
    "df_wk16 = df_clean.loc[df_clean['wk']==16, :]"
   ]
  },
  {
   "cell_type": "code",
   "execution_count": 23,
   "metadata": {},
   "outputs": [
    {
     "data": {
      "text/plain": [
       "587      NaN\n",
       "1702     NaN\n",
       "3817     NaN\n",
       "5136     NaN\n",
       "9854     NaN\n",
       "11305    NaN\n",
       "11329    NaN\n",
       "18901    NaN\n",
       "20123    NaN\n",
       "27333    NaN\n",
       "32382    NaN\n",
       "34467    NaN\n",
       "38562    NaN\n",
       "41034    NaN\n",
       "41814    NaN\n",
       "45543    NaN\n",
       "47625    NaN\n",
       "49561    NaN\n",
       "49729    NaN\n",
       "50853    NaN\n",
       "51598    NaN\n",
       "51628    NaN\n",
       "51892    NaN\n",
       "55874    NaN\n",
       "57300    NaN\n",
       "57345    NaN\n",
       "58265    NaN\n",
       "59020    NaN\n",
       "59269    NaN\n",
       "60680    NaN\n",
       "60710    NaN\n",
       "60844    NaN\n",
       "60870    NaN\n",
       "61060    NaN\n",
       "62228    NaN\n",
       "64601    NaN\n",
       "65143    NaN\n",
       "68048    NaN\n",
       "68090    NaN\n",
       "71261    NaN\n",
       "71673    NaN\n",
       "77396    NaN\n",
       "79504    NaN\n",
       "79971    NaN\n",
       "79999    NaN\n",
       "80758    NaN\n",
       "81838    NaN\n",
       "82683    NaN\n",
       "83870    NaN\n",
       "84721    NaN\n",
       "85539    NaN\n",
       "85565    NaN\n",
       "87547    NaN\n",
       "87759    NaN\n",
       "89534    NaN\n",
       "90096    NaN\n",
       "90480    NaN\n",
       "93006    NaN\n",
       "93470    NaN\n",
       "94170    NaN\n",
       "Name: cond, dtype: object"
      ]
     },
     "execution_count": 23,
     "metadata": {},
     "output_type": "execute_result"
    }
   ],
   "source": [
    "df_wk16[df_wk16['cond'].isna()]['cond']"
   ]
  },
  {
   "cell_type": "code",
   "execution_count": 17,
   "metadata": {},
   "outputs": [
    {
     "data": {
      "text/html": [
       "<div>\n",
       "<style scoped>\n",
       "    .dataframe tbody tr th:only-of-type {\n",
       "        vertical-align: middle;\n",
       "    }\n",
       "\n",
       "    .dataframe tbody tr th {\n",
       "        vertical-align: top;\n",
       "    }\n",
       "\n",
       "    .dataframe thead th {\n",
       "        text-align: right;\n",
       "    }\n",
       "</style>\n",
       "<table border=\"1\" class=\"dataframe\">\n",
       "  <thead>\n",
       "    <tr style=\"text-align: right;\">\n",
       "      <th></th>\n",
       "      <th>pk</th>\n",
       "    </tr>\n",
       "    <tr>\n",
       "      <th>pos1</th>\n",
       "      <th></th>\n",
       "    </tr>\n",
       "  </thead>\n",
       "  <tbody>\n",
       "    <tr>\n",
       "      <th>DB</th>\n",
       "      <td>4</td>\n",
       "    </tr>\n",
       "    <tr>\n",
       "      <th>DL</th>\n",
       "      <td>3</td>\n",
       "    </tr>\n",
       "    <tr>\n",
       "      <th>K</th>\n",
       "      <td>11</td>\n",
       "    </tr>\n",
       "    <tr>\n",
       "      <th>LB</th>\n",
       "      <td>2</td>\n",
       "    </tr>\n",
       "    <tr>\n",
       "      <th>OL</th>\n",
       "      <td>8</td>\n",
       "    </tr>\n",
       "    <tr>\n",
       "      <th>QB</th>\n",
       "      <td>702</td>\n",
       "    </tr>\n",
       "    <tr>\n",
       "      <th>RB</th>\n",
       "      <td>1869</td>\n",
       "    </tr>\n",
       "    <tr>\n",
       "      <th>TE</th>\n",
       "      <td>1080</td>\n",
       "    </tr>\n",
       "    <tr>\n",
       "      <th>WR</th>\n",
       "      <td>2441</td>\n",
       "    </tr>\n",
       "  </tbody>\n",
       "</table>\n",
       "</div>"
      ],
      "text/plain": [
       "        pk\n",
       "pos1      \n",
       "DB       4\n",
       "DL       3\n",
       "K       11\n",
       "LB       2\n",
       "OL       8\n",
       "QB     702\n",
       "RB    1869\n",
       "TE    1080\n",
       "WR    2441"
      ]
     },
     "execution_count": 17,
     "metadata": {},
     "output_type": "execute_result"
    }
   ],
   "source": [
    "df_wk16.groupby(by='pos1').agg({'pk': 'count'})"
   ]
  }
 ],
 "metadata": {
  "kernelspec": {
   "display_name": "Python 3",
   "language": "python",
   "name": "python3"
  },
  "language_info": {
   "codemirror_mode": {
    "name": "ipython",
    "version": 3
   },
   "file_extension": ".py",
   "mimetype": "text/x-python",
   "name": "python",
   "nbconvert_exporter": "python",
   "pygments_lexer": "ipython3",
   "version": "3.7.1"
  }
 },
 "nbformat": 4,
 "nbformat_minor": 2
}
