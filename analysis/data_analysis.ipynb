{
 "cells": [
  {
   "cell_type": "markdown",
   "metadata": {},
   "source": [
    "# Data Analysis for Fantasy Football model"
   ]
  },
  {
   "cell_type": "markdown",
   "metadata": {},
   "source": [
    "#### Load in packages"
   ]
  },
  {
   "cell_type": "code",
   "execution_count": 1,
   "metadata": {},
   "outputs": [],
   "source": [
    "import os\n",
    "import pandas as pd\n",
    "import numpy as np\n",
    "from python_pkg import python_udf as udf"
   ]
  },
  {
   "cell_type": "markdown",
   "metadata": {},
   "source": [
    "#### Read in data"
   ]
  },
  {
   "cell_type": "code",
   "execution_count": 2,
   "metadata": {},
   "outputs": [],
   "source": [
    "offense = pd.read_csv('C:/Users/Joe/Projects/fantasy_football/analysis/offense_final.csv', index_col='pk')\n",
    "defense = pd.read_csv('C:/Users/Joe/Projects/fantasy_football/analysis/defense_final.csv', index_col='pk')\n",
    "kicker = pd.read_csv('C:/Users/Joe/Projects/fantasy_football/analysis/kicker_final.csv', index_col='pk')"
   ]
  },
  {
   "cell_type": "code",
   "execution_count": 3,
   "metadata": {},
   "outputs": [
    {
     "data": {
      "text/html": [
       "<div>\n",
       "<style scoped>\n",
       "    .dataframe tbody tr th:only-of-type {\n",
       "        vertical-align: middle;\n",
       "    }\n",
       "\n",
       "    .dataframe tbody tr th {\n",
       "        vertical-align: top;\n",
       "    }\n",
       "\n",
       "    .dataframe thead th {\n",
       "        text-align: right;\n",
       "    }\n",
       "</style>\n",
       "<table border=\"1\" class=\"dataframe\">\n",
       "  <thead>\n",
       "    <tr style=\"text-align: right;\">\n",
       "      <th></th>\n",
       "      <th>seas</th>\n",
       "      <th>wk</th>\n",
       "      <th>player</th>\n",
       "      <th>pos1</th>\n",
       "      <th>py</th>\n",
       "      <th>ints</th>\n",
       "      <th>tdp</th>\n",
       "      <th>ry</th>\n",
       "      <th>tdr</th>\n",
       "      <th>recy</th>\n",
       "      <th>tdrec</th>\n",
       "      <th>rety</th>\n",
       "      <th>tdret</th>\n",
       "      <th>fuml</th>\n",
       "      <th>conv</th>\n",
       "      <th>tot_sack</th>\n",
       "      <th>f_pts</th>\n",
       "    </tr>\n",
       "    <tr>\n",
       "      <th>pk</th>\n",
       "      <th></th>\n",
       "      <th></th>\n",
       "      <th></th>\n",
       "      <th></th>\n",
       "      <th></th>\n",
       "      <th></th>\n",
       "      <th></th>\n",
       "      <th></th>\n",
       "      <th></th>\n",
       "      <th></th>\n",
       "      <th></th>\n",
       "      <th></th>\n",
       "      <th></th>\n",
       "      <th></th>\n",
       "      <th></th>\n",
       "      <th></th>\n",
       "      <th></th>\n",
       "    </tr>\n",
       "  </thead>\n",
       "  <tbody>\n",
       "    <tr>\n",
       "      <th>2000&amp;1&amp;KW-1500</th>\n",
       "      <td>2000</td>\n",
       "      <td>1</td>\n",
       "      <td>KW-1500</td>\n",
       "      <td>WR</td>\n",
       "      <td>0</td>\n",
       "      <td>0</td>\n",
       "      <td>0</td>\n",
       "      <td>0</td>\n",
       "      <td>0</td>\n",
       "      <td>0</td>\n",
       "      <td>0</td>\n",
       "      <td>56</td>\n",
       "      <td>0</td>\n",
       "      <td>0</td>\n",
       "      <td>0</td>\n",
       "      <td>0.0</td>\n",
       "      <td>1.60</td>\n",
       "    </tr>\n",
       "    <tr>\n",
       "      <th>2000&amp;1&amp;CG-0400</th>\n",
       "      <td>2000</td>\n",
       "      <td>1</td>\n",
       "      <td>CG-0400</td>\n",
       "      <td>RB</td>\n",
       "      <td>0</td>\n",
       "      <td>0</td>\n",
       "      <td>0</td>\n",
       "      <td>62</td>\n",
       "      <td>0</td>\n",
       "      <td>45</td>\n",
       "      <td>0</td>\n",
       "      <td>0</td>\n",
       "      <td>0</td>\n",
       "      <td>0</td>\n",
       "      <td>0</td>\n",
       "      <td>0.0</td>\n",
       "      <td>10.70</td>\n",
       "    </tr>\n",
       "    <tr>\n",
       "      <th>2000&amp;1&amp;JG-0600</th>\n",
       "      <td>2000</td>\n",
       "      <td>1</td>\n",
       "      <td>JG-0600</td>\n",
       "      <td>QB</td>\n",
       "      <td>252</td>\n",
       "      <td>1</td>\n",
       "      <td>3</td>\n",
       "      <td>22</td>\n",
       "      <td>0</td>\n",
       "      <td>0</td>\n",
       "      <td>0</td>\n",
       "      <td>0</td>\n",
       "      <td>0</td>\n",
       "      <td>0</td>\n",
       "      <td>0</td>\n",
       "      <td>1.0</td>\n",
       "      <td>22.03</td>\n",
       "    </tr>\n",
       "    <tr>\n",
       "      <th>2000&amp;1&amp;JR-2000</th>\n",
       "      <td>2000</td>\n",
       "      <td>1</td>\n",
       "      <td>JR-2000</td>\n",
       "      <td>WR</td>\n",
       "      <td>0</td>\n",
       "      <td>0</td>\n",
       "      <td>0</td>\n",
       "      <td>-2</td>\n",
       "      <td>0</td>\n",
       "      <td>59</td>\n",
       "      <td>0</td>\n",
       "      <td>0</td>\n",
       "      <td>0</td>\n",
       "      <td>0</td>\n",
       "      <td>0</td>\n",
       "      <td>0.0</td>\n",
       "      <td>5.70</td>\n",
       "    </tr>\n",
       "    <tr>\n",
       "      <th>2000&amp;1&amp;TO-0200</th>\n",
       "      <td>2000</td>\n",
       "      <td>1</td>\n",
       "      <td>TO-0200</td>\n",
       "      <td>WR</td>\n",
       "      <td>0</td>\n",
       "      <td>0</td>\n",
       "      <td>0</td>\n",
       "      <td>0</td>\n",
       "      <td>0</td>\n",
       "      <td>72</td>\n",
       "      <td>1</td>\n",
       "      <td>0</td>\n",
       "      <td>0</td>\n",
       "      <td>0</td>\n",
       "      <td>0</td>\n",
       "      <td>0.0</td>\n",
       "      <td>13.20</td>\n",
       "    </tr>\n",
       "  </tbody>\n",
       "</table>\n",
       "</div>"
      ],
      "text/plain": [
       "                seas  wk   player pos1   py  ints  tdp  ry  tdr  recy  tdrec  \\\n",
       "pk                                                                             \n",
       "2000&1&KW-1500  2000   1  KW-1500   WR    0     0    0   0    0     0      0   \n",
       "2000&1&CG-0400  2000   1  CG-0400   RB    0     0    0  62    0    45      0   \n",
       "2000&1&JG-0600  2000   1  JG-0600   QB  252     1    3  22    0     0      0   \n",
       "2000&1&JR-2000  2000   1  JR-2000   WR    0     0    0  -2    0    59      0   \n",
       "2000&1&TO-0200  2000   1  TO-0200   WR    0     0    0   0    0    72      1   \n",
       "\n",
       "                rety  tdret  fuml  conv  tot_sack  f_pts  \n",
       "pk                                                        \n",
       "2000&1&KW-1500    56      0     0     0       0.0   1.60  \n",
       "2000&1&CG-0400     0      0     0     0       0.0  10.70  \n",
       "2000&1&JG-0600     0      0     0     0       1.0  22.03  \n",
       "2000&1&JR-2000     0      0     0     0       0.0   5.70  \n",
       "2000&1&TO-0200     0      0     0     0       0.0  13.20  "
      ]
     },
     "execution_count": 3,
     "metadata": {},
     "output_type": "execute_result"
    }
   ],
   "source": [
    "offense.head()"
   ]
  },
  {
   "cell_type": "code",
   "execution_count": 5,
   "metadata": {},
   "outputs": [
    {
     "data": {
      "text/plain": [
       "(651, 17)"
      ]
     },
     "execution_count": 5,
     "metadata": {},
     "output_type": "execute_result"
    }
   ],
   "source": [
    "offense[(offense['wk'] == 1) & (offense['pos1'] == 'QB')].shape"
   ]
  }
 ],
 "metadata": {
  "kernelspec": {
   "display_name": "Python 3",
   "language": "python",
   "name": "python3"
  },
  "language_info": {
   "codemirror_mode": {
    "name": "ipython",
    "version": 3
   },
   "file_extension": ".py",
   "mimetype": "text/x-python",
   "name": "python",
   "nbconvert_exporter": "python",
   "pygments_lexer": "ipython3",
   "version": "3.7.1"
  }
 },
 "nbformat": 4,
 "nbformat_minor": 2
}
